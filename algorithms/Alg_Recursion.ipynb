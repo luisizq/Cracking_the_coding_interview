{
 "cells": [
  {
   "cell_type": "markdown",
   "metadata": {},
   "source": [
    "# Fibonacci implementation\n",
    "\n",
    "### Purely recursive"
   ]
  },
  {
   "cell_type": "code",
   "execution_count": 37,
   "metadata": {},
   "outputs": [
    {
     "name": "stdout",
     "output_type": "stream",
     "text": [
      "13\n"
     ]
    }
   ],
   "source": [
    "def fibonacci( n ):\n",
    "    \n",
    "    # end of recursion\n",
    "    if n == 1 or n == 0:\n",
    "        return n\n",
    "    \n",
    "    # recursion\n",
    "    return fibonacci(n-1) + fibonacci(n-2)\n",
    "\n",
    "# 0 1 1 2 3 5 8 13 \n",
    "print(fibonacci(7))"
   ]
  },
  {
   "cell_type": "markdown",
   "metadata": {},
   "source": [
    "### Top-down "
   ]
  },
  {
   "cell_type": "code",
   "execution_count": 35,
   "metadata": {
    "code_folding": []
   },
   "outputs": [
    {
     "name": "stdout",
     "output_type": "stream",
     "text": [
      "13\n"
     ]
    }
   ],
   "source": [
    "# memory = counter (inefficient)\n",
    "from collections import Counter\n",
    "memo = Counter()\n",
    "\n",
    "def generalfib( n, memo ):\n",
    "    \n",
    "    # end of recursion\n",
    "    if n == 1 or n == 0:\n",
    "        return n\n",
    "    \n",
    "    # recursion\n",
    "    if memo[n] == 0:\n",
    "        memo[n] = generalfib(n-1,memo) + generalfib(n-2,memo) \n",
    "    return memo[n]\n",
    "    \n",
    "print( generalfib(7,memo) )"
   ]
  },
  {
   "cell_type": "code",
   "execution_count": 2,
   "metadata": {},
   "outputs": [
    {
     "name": "stdout",
     "output_type": "stream",
     "text": [
      "13\n"
     ]
    }
   ],
   "source": [
    "# memo = array (typical way)\n",
    "def generalfib( n, memo ):\n",
    "    \n",
    "    # end of recursion\n",
    "    if n == 1 or n == 0:\n",
    "        return n\n",
    "    \n",
    "    # recursion\n",
    "    if memo[n] == 0:\n",
    "        memo[n] = generalfib(n-1,memo) + generalfib(n-2,memo)\n",
    "        \n",
    "    return memo[n]\n",
    "    \n",
    "x = 7\n",
    "memo = [0] * (x+1)\n",
    "print( generalfib(x,memo) )"
   ]
  },
  {
   "cell_type": "code",
   "execution_count": 3,
   "metadata": {},
   "outputs": [
    {
     "name": "stdout",
     "output_type": "stream",
     "text": [
      "13\n"
     ]
    }
   ],
   "source": [
    "# memo = array (typical way)\n",
    "def generalfib( n ):\n",
    "    \n",
    "    # end of recursion\n",
    "    if n == 1 or n == 0:\n",
    "        return n\n",
    "    \n",
    "    # recursion\n",
    "    if memo[n] == 0:\n",
    "        memo[n] = generalfib(n-1) + generalfib(n-2)\n",
    "        \n",
    "    return memo[n]\n",
    "    \n",
    "x = 7\n",
    "memo = [0] * (x+1)\n",
    "print( generalfib(x) )"
   ]
  },
  {
   "cell_type": "markdown",
   "metadata": {},
   "source": [
    "### Bottom-up  -  Iterative"
   ]
  },
  {
   "cell_type": "code",
   "execution_count": 2,
   "metadata": {},
   "outputs": [
    {
     "name": "stdout",
     "output_type": "stream",
     "text": [
      "3\n"
     ]
    }
   ],
   "source": [
    "def fibonacci( n ):\n",
    "    \n",
    "    if n == 0 or n == 1:\n",
    "        return n\n",
    "    \n",
    "    a, b = 0, 1\n",
    "    for i in range(n-1):\n",
    "        a, b = b, a+b\n",
    "    \n",
    "    return b\n",
    "\n",
    "\n",
    "print(fibonacci(4))"
   ]
  },
  {
   "cell_type": "code",
   "execution_count": 5,
   "metadata": {},
   "outputs": [
    {
     "data": {
      "text/plain": [
       "False"
      ]
     },
     "execution_count": 5,
     "metadata": {},
     "output_type": "execute_result"
    }
   ],
   "source": [
    "type(-5) != int"
   ]
  },
  {
   "cell_type": "markdown",
   "metadata": {},
   "source": [
    "# Triple Hop \n",
    "\n",
    "### Recursive"
   ]
  },
  {
   "cell_type": "code",
   "execution_count": 26,
   "metadata": {},
   "outputs": [
    {
     "name": "stdout",
     "output_type": "stream",
     "text": [
      "274\n"
     ]
    }
   ],
   "source": [
    "def TripleHop(x):\n",
    "    \n",
    "    if x < 0:\n",
    "        return 0\n",
    "    if x == 0:\n",
    "        return 1\n",
    "    if x == 1:\n",
    "        return 1\n",
    "    \n",
    "    return TripleHop(x - 1) + TripleHop(x - 2) + TripleHop(x - 3)\n",
    "\n",
    "print(TripleHop(10))"
   ]
  },
  {
   "cell_type": "markdown",
   "metadata": {},
   "source": [
    "### Top-down"
   ]
  },
  {
   "cell_type": "code",
   "execution_count": 56,
   "metadata": {},
   "outputs": [
    {
     "name": "stdout",
     "output_type": "stream",
     "text": [
      "274\n"
     ]
    }
   ],
   "source": [
    "def triple_hop( x,memo ):\n",
    "    \n",
    "    if x < 0:\n",
    "        return 0\n",
    "    elif x == 0:\n",
    "        return 1\n",
    "    elif x == 1:\n",
    "        return 1\n",
    "    \n",
    "    if memo[x] == 0:\n",
    "        memo[x] = triple_hop(x - 1, memo) + triple_hop(x - 2, memo) + triple_hop(x - 3, memo)\n",
    "    \n",
    "    return memo[x]\n",
    "    \n",
    "x = 10\n",
    "memo = [0]*(x+1)\n",
    "\n",
    "print( triple_hop(x,memo) )"
   ]
  },
  {
   "cell_type": "markdown",
   "metadata": {},
   "source": [
    "### Iterative "
   ]
  },
  {
   "cell_type": "code",
   "execution_count": 28,
   "metadata": {},
   "outputs": [
    {
     "name": "stdout",
     "output_type": "stream",
     "text": [
      "274\n"
     ]
    }
   ],
   "source": [
    "def TripleHopIterative(x):\n",
    "    \n",
    "    if x < 0:\n",
    "        return 0\n",
    "    \n",
    "    a = 1\n",
    "    if x >= 1:\n",
    "        b = 1\n",
    "    if x >= 2:\n",
    "        c = b + a\n",
    "    if x > 2:\n",
    "        for i in range(3, x + 1):\n",
    "            a, b, c = b, c, a+b+c\n",
    "            \n",
    "    return c\n",
    "\n",
    "x = 10\n",
    "print( TripleHopIterative(x) )"
   ]
  }
 ],
 "metadata": {
  "kernelspec": {
   "display_name": "Python 3",
   "language": "python",
   "name": "python3"
  },
  "language_info": {
   "codemirror_mode": {
    "name": "ipython",
    "version": 3
   },
   "file_extension": ".py",
   "mimetype": "text/x-python",
   "name": "python",
   "nbconvert_exporter": "python",
   "pygments_lexer": "ipython3",
   "version": "3.6.5"
  },
  "varInspector": {
   "cols": {
    "lenName": 16,
    "lenType": 16,
    "lenVar": 40
   },
   "kernels_config": {
    "python": {
     "delete_cmd_postfix": "",
     "delete_cmd_prefix": "del ",
     "library": "var_list.py",
     "varRefreshCmd": "print(var_dic_list())"
    },
    "r": {
     "delete_cmd_postfix": ") ",
     "delete_cmd_prefix": "rm(",
     "library": "var_list.r",
     "varRefreshCmd": "cat(var_dic_list()) "
    }
   },
   "types_to_exclude": [
    "module",
    "function",
    "builtin_function_or_method",
    "instance",
    "_Feature"
   ],
   "window_display": false
  }
 },
 "nbformat": 4,
 "nbformat_minor": 2
}
