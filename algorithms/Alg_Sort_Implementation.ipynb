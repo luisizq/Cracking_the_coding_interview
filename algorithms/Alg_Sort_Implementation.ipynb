{
 "cells": [
  {
   "cell_type": "markdown",
   "metadata": {},
   "source": [
    "# List of sorts known\n",
    "\n",
    "Known\n",
    "- Bubble\n",
    "- Merge\n",
    "- Insertion\n",
    "- Quick\n",
    "- Radix\n",
    "- Heap sort\n",
    "\n",
    "\n",
    "https://stackoverflow.com/questions/32234711/which-sorting-algorithm-works-best-on-very-large-data-set"
   ]
  },
  {
   "cell_type": "markdown",
   "metadata": {},
   "source": [
    "# Bubble sort\n",
    "\n",
    "Idea: go from left to right and swap values if left is higher that right. Do this $n$ times to sort the whole array. Right is always sorted and left is not.\n",
    "\n",
    "https://www.youtube.com/watch?v=nmhjrI-aW5o\n",
    "\n",
    "- Time_ performance:  $\\Omega (n) $ - $O(n^2)$\n",
    "- Space performance:  $O(1)$\n",
    "\n"
   ]
  },
  {
   "cell_type": "code",
   "execution_count": 1,
   "metadata": {
    "code_folding": []
   },
   "outputs": [],
   "source": [
    "def bubbleSort(alist):\n",
    "\n",
    "    for last in range(len(alist) - 1, -1, -1):\n",
    "\n",
    "        # shortcut - useful if the very beginning is likely to be shorted\n",
    "        isSorted = True\n",
    "\n",
    "        # swap elements\n",
    "        for i in range(last):\n",
    "            if alist[i] > alist[i + 1]:\n",
    "                alist[i + 1], alist[i] = alist[i], alist[i + 1]\n",
    "                isSorted = False\n",
    "\n",
    "        if isSorted == True:\n",
    "            break\n",
    "\n",
    "    return alist  # no need of returning anythig: we are modifying directly the input array"
   ]
  },
  {
   "cell_type": "code",
   "execution_count": 2,
   "metadata": {
    "code_folding": [
     0
    ]
   },
   "outputs": [
    {
     "name": "stdout",
     "output_type": "stream",
     "text": [
      "[17, 26, 31, 44, 54, 55, 77, 93]\n",
      "True\n"
     ]
    }
   ],
   "source": [
    "#cases\n",
    "one_case_1 = [[4,2,9,3,1,5,6,7,8,10],\n",
    "              [2,4,3,1,5,6,7,8,9,10],\n",
    "              [2,3,1,4,5,6,7,8,9,10],\n",
    "              [2,1,3,4,5,6,7,8,9,10],\n",
    "              [1,2,3,4,5,6,7,8,9,10]]\n",
    "one_case_2 = [[1,10,2,9,3,8,4,7,5,6],\n",
    "              [1,2,9,3,8,4,7,5,6,10],\n",
    "              [1,2,3,8,4,7,5,6,9,10],\n",
    "              [1,2,3,4,7,5,6,8,9,10],\n",
    "              [1,2,3,4,5,6,7,8,9,10]]\n",
    "one_case_3 = [[1,2,5,6,3,4,7,8,9,10],\n",
    "              [1,2,5,3,4,6,7,8,9,10],\n",
    "              [1,2,3,4,5,6,7,8,9,10]]\n",
    "worst_case_1 = [[2,3,4,5,6,7,8,9,10,1],\n",
    "                [2,3,4,5,6,7,8,9,1,10],\n",
    "                [2,3,4,5,6,7,8,1,9,10],\n",
    "                ...]                     # 10 times * n swaps\n",
    "worst_case_2 = [[10,9,8,7,6,5,4,3,2,1],\n",
    "                [9,8,7,6,5,4,3,2,1,10],\n",
    "                [8,7,6,5,4,3,2,1,9,10],\n",
    "                ...]                     # 10 times * n swaps\n",
    "best_cases_1 = [[1,2,4,3,5,6,7,9,8,10],\n",
    "                [1,2,3,4,5,6,7,8,9,10]]\n",
    "# best cases occur when \n",
    "# - almost all the array is sorted, \n",
    "# - only adjacent elements are swaped,\n",
    "# - and you use the shortcut extra check\n",
    "\n",
    "#sort the array\n",
    "alist = [54,26,93,17,77,31,44,55]\n",
    "bubbleSort(alist)\n",
    "\n",
    "#check if is sorted\n",
    "print(alist)\n",
    "print(  all( alist[i] <= alist[i+1] for i in range(len(alist)-1) )  )"
   ]
  },
  {
   "cell_type": "markdown",
   "metadata": {},
   "source": [
    "# Merge sort\n",
    "\n",
    "Idea: divide the array in half and so on. Then merge the splitted arrays using merge\n",
    "\n",
    "- Time_ performance:  $\\Omega (n\\cdot log(n)) $ - $\\Theta (n \\cdot log(n))$ - $O(n\\cdot log(n))$\n",
    "- Space performance:  $O(n)$"
   ]
  },
  {
   "cell_type": "code",
   "execution_count": 1,
   "metadata": {
    "code_folding": []
   },
   "outputs": [],
   "source": [
    "def merge_lists(lefthalf, righthalf, alist):\n",
    "    i, j, k = 0, 0, 0\n",
    "    while i < len(lefthalf) and j < len(righthalf):\n",
    "        if lefthalf[i] < righthalf[j]:\n",
    "            alist[k] = lefthalf[i]\n",
    "            i += 1\n",
    "        else:\n",
    "            alist[k] = righthalf[j]\n",
    "            j += 1\n",
    "        k += 1\n",
    "\n",
    "    while i < len(lefthalf):\n",
    "        alist[k] = lefthalf[i]\n",
    "        i += 1\n",
    "        k += 1\n",
    "\n",
    "    while j < len(righthalf):\n",
    "        alist[k] = righthalf[j]\n",
    "        j += 1\n",
    "        k += 1\n",
    "\n",
    "\n",
    "def merge_sort(alist):\n",
    "\n",
    "    # End of recursion\n",
    "    if len(alist) > 1:\n",
    "\n",
    "        # Split\n",
    "        mid = len(alist) // 2\n",
    "        lefthalf = alist[:mid]\n",
    "        righthalf = alist[mid:]\n",
    "\n",
    "        # Recursion\n",
    "        merge_sort(lefthalf)\n",
    "        #print('lefthalf:',lefthalf)\n",
    "        merge_sort(righthalf)\n",
    "        #print('righthalf:',righthalf)\n",
    "\n",
    "        # Merge\n",
    "        merge_lists(lefthalf, righthalf, alist)\n",
    "        #print(alist)"
   ]
  },
  {
   "cell_type": "code",
   "execution_count": 2,
   "metadata": {
    "code_folding": [
     0
    ],
    "scrolled": false
   },
   "outputs": [
    {
     "name": "stdout",
     "output_type": "stream",
     "text": [
      "[1, 2, 3, 4, 5, 6, 7, 8, 9]\n",
      "True\n"
     ]
    }
   ],
   "source": [
    "# try it out\n",
    "alist = [54,26,93,17,77,31,44,55,20]\n",
    "alist = [3,2,5,6,4,7,8,1,9]\n",
    "merge_sort(alist)\n",
    "\n",
    "#check if is sorted\n",
    "print(alist)\n",
    "print(  all( alist[i] <= alist[i+1] for i in range(len(alist)-1) )  )"
   ]
  },
  {
   "cell_type": "markdown",
   "metadata": {},
   "source": [
    "# Insertion Sort\n",
    "\n",
    "https://www.youtube.com/watch?v=OGzPmgsI-pQ\n",
    "\n",
    "Idea: the left is alway ordered and the right not. Recursively you take an element from the right side and insert it in order on the left side."
   ]
  },
  {
   "cell_type": "code",
   "execution_count": 3,
   "metadata": {
    "code_folding": []
   },
   "outputs": [],
   "source": [
    "def insertionSort(alist):\n",
    "\n",
    "    for j in range(len(alist)):\n",
    "\n",
    "        num = alist[j]\n",
    "\n",
    "        for i in range(j - 1, -1, -1):\n",
    "            if alist[i] > num:\n",
    "                alist[i + 1] = alist[i]\n",
    "            else:\n",
    "                alist[i + 1] = num\n",
    "                break\n",
    "        else:\n",
    "            alist[0] = num"
   ]
  },
  {
   "cell_type": "code",
   "execution_count": 4,
   "metadata": {
    "code_folding": []
   },
   "outputs": [
    {
     "name": "stdout",
     "output_type": "stream",
     "text": [
      "[1, 2, 3, 4, 5, 6, 7, 8, 9, 10, 11, 12, 13]\n",
      "True\n"
     ]
    }
   ],
   "source": [
    "worst_case = [[9,8,7,6,5,4,3,2,1],\n",
    "              [8,9,7,6,5,4,3,2,1],\n",
    "              [7,8,9,6,5,4,3,2,1],\n",
    "              ...]\n",
    "\n",
    "\n",
    "alist = [2, 3, 4, 5, 6, 7, 8, 9, 13, 12, 11, 10, 1]\n",
    "insertionSort(alist)\n",
    "\n",
    "#check if is sorted\n",
    "print(alist)\n",
    "print(  all( alist[i] <= alist[i+1] for i in range(len(alist)-1) )  )"
   ]
  },
  {
   "cell_type": "markdown",
   "metadata": {},
   "source": [
    "# Quick Sort"
   ]
  },
  {
   "cell_type": "code",
   "execution_count": null,
   "metadata": {
    "code_folding": []
   },
   "outputs": [],
   "source": [
    "def pivot(alist, i, j):\n",
    "\n",
    "    p = alist[i]\n",
    "    k, l = i + 1, j\n",
    "\n",
    "    # initial\n",
    "    while alist[k] <= p and k < l:\n",
    "        k += 1\n",
    "    while alist[l] > p:\n",
    "        l -= 1\n",
    "\n",
    "    # loop (if needed)\n",
    "    while k < l:\n",
    "        alist[k], alist[l] = alist[l], alist[k]\n",
    "        while alist[k] <= p:\n",
    "            k += 1\n",
    "        while alist[l] > p:\n",
    "            l -= 1\n",
    "\n",
    "    # final\n",
    "    alist[i], alist[l] = alist[l], alist[i]\n",
    "    return l\n",
    "\n",
    "\n",
    "def quick_sort_ind(alist, i, j):\n",
    "\n",
    "    # end of recursion\n",
    "    if i < j:\n",
    "\n",
    "        # sort and find next pivot\n",
    "        l = pivot(alist, i, j)\n",
    "\n",
    "        # recursion\n",
    "        quick_sort_ind(alist, i, l - 1)\n",
    "        quick_sort_ind(alist, l + 1, j)\n",
    "\n",
    "\n",
    "def quick_sort(alist):\n",
    "    quick_sort_ind(alist, 0, len(alist) - 1)"
   ]
  },
  {
   "cell_type": "code",
   "execution_count": 63,
   "metadata": {
    "code_folding": [
     0
    ]
   },
   "outputs": [
    {
     "name": "stdout",
     "output_type": "stream",
     "text": [
      "[4, 7, 3, 5, 8, 2, 6, 1, 9]\n",
      "[2, 1, 3, 4, 8, 5, 6, 7, 9]\n",
      "[1, 2, 3, 4, 8, 5, 6, 7, 9]\n",
      "[1, 2, 3, 4, 7, 5, 6, 8, 9]\n",
      "[1, 2, 3, 4, 6, 5, 7, 8, 9]\n",
      "[1, 2, 3, 4, 5, 6, 7, 8, 9]\n",
      "True\n"
     ]
    }
   ],
   "source": [
    "one_case = [[4,7,3,5,8,2,6,1,9],\n",
    "            [2,1,3,'4',8,5,6,7,9],\n",
    "            [1,'2',3,'4',8,5,6,7,9],\n",
    "            [1,'2',3,'4',7,5,6,'8',9],\n",
    "            [1,'2',3,'4',6,5,'7','8',9],\n",
    "            [1,'2',3,'4',5,'6','7','8',9]]\n",
    "\n",
    "alist = [4,7,3,5,8,2,6,1,9]\n",
    "quick_sort(alist)\n",
    "\n",
    "#check if is sorted\n",
    "print(alist)\n",
    "print(  all( alist[i] <= alist[i+1] for i in range(len(alist)-1) )  )"
   ]
  },
  {
   "cell_type": "code",
   "execution_count": 64,
   "metadata": {
    "code_folding": [
     0,
     3,
     11
    ]
   },
   "outputs": [
    {
     "name": "stdout",
     "output_type": "stream",
     "text": [
      "[17, 20, 26, 31, 44, 54, 55, 77, 93]\n",
      "True\n"
     ]
    }
   ],
   "source": [
    "def quickSort(alist):\n",
    "    quickSortHelper(alist,0,len(alist)-1)\n",
    "    \n",
    "def quickSortHelper(alist,first,last):\n",
    "    if first<last:\n",
    "\n",
    "        splitpoint = partition(alist,first,last)\n",
    "\n",
    "        quickSortHelper(alist,first,splitpoint-1)\n",
    "        quickSortHelper(alist,splitpoint+1,last)\n",
    "\n",
    "def partition(alist,first,last):\n",
    "    pivotvalue = alist[first]\n",
    "\n",
    "    leftmark = first+1\n",
    "    rightmark = last\n",
    "\n",
    "    done = False\n",
    "    while not done:\n",
    "\n",
    "        while leftmark <= rightmark and alist[leftmark] <= pivotvalue:\n",
    "            leftmark = leftmark + 1\n",
    "\n",
    "        while alist[rightmark] >= pivotvalue and rightmark >= leftmark:\n",
    "            rightmark = rightmark -1\n",
    "\n",
    "        if rightmark < leftmark:\n",
    "            done = True\n",
    "        else:\n",
    "            alist[leftmark], alist[rightmark] = alist[rightmark], alist[leftmark]\n",
    "\n",
    "    alist[first], alist[rightmark] = alist[rightmark], alist[first]\n",
    "\n",
    "    return rightmark\n",
    "\n",
    "alist = [54,26,93,17,77,31,44,55,20]\n",
    "quickSort(alist)\n",
    "\n",
    "#check if is sorted\n",
    "print(alist)\n",
    "print(  all( alist[i] <= alist[i+1] for i in range(len(alist)-1) )  )"
   ]
  },
  {
   "cell_type": "markdown",
   "metadata": {},
   "source": [
    "# Radix sort \n",
    "\n",
    "https://www.geeksforgeeks.org/radix-sort/\n",
    "\n",
    "- $ O(d*(n+b)) $\n",
    "- d = number of digits = $log_b(max\\_list)$\n",
    "- b = base of numbers (typically 10)\n",
    "\n",
    "- If $max\\_list \\leq n^{cte} $ then we have $ O(n\\ log_b(n)) $\n",
    "- If $b = n$ then we have $O(n)$ but we require $O(n)$ space"
   ]
  },
  {
   "cell_type": "code",
   "execution_count": 52,
   "metadata": {
    "code_folding": [
     4,
     33
    ]
   },
   "outputs": [
    {
     "name": "stdout",
     "output_type": "stream",
     "text": [
      "[1, 2, 3, 24, 45, 66, 75, 90, 100, 170, 802]\n"
     ]
    }
   ],
   "source": [
    "# Python program for implementation of Radix Sort\n",
    "\n",
    "\n",
    "# A function to do counting sort of arr[] according to the digit represented by exp.\n",
    "def counting_sort(arr, exp1):\n",
    "\n",
    "    n = len(arr)\n",
    "\n",
    "    # The output array elements that will have sorted and count array as 0\n",
    "    sol = [0] * (n)\n",
    "    count = [0] * (10)\n",
    "\n",
    "    # Store count of occurrences in count[]\n",
    "    for i in range(n):\n",
    "        index = (arr[i] // exp1) % 10\n",
    "        count[ index ] += 1\n",
    "\n",
    "    # Change count[i] so that count[i] now contains actual position of this digit in output array\n",
    "    for i in range(9):\n",
    "        count[i + 1] += count[i]\n",
    "\n",
    "    # Build the output array\n",
    "    for i in range(n - 1, -1, -1):\n",
    "        index = (arr[i] // exp1) % 10\n",
    "        count[index] -= 1\n",
    "        sol[count[index]] = arr[i]\n",
    "\n",
    "    # Copying the output array to arr[], so that arr now contains sorted numbers\n",
    "    for i in range(0, len(arr)):\n",
    "        arr[i] = sol[i]\n",
    "\n",
    "\n",
    "# Method to do Radix Sort\n",
    "def radix_sort(arr):\n",
    "\n",
    "    # Find the maximum number to know number of digits\n",
    "    max_val = max(arr)\n",
    "\n",
    "    # Do counting sort for every digit. Note that instead of passing digit number, exp is passed.\n",
    "    # exp is 10^i where i is current digit number\n",
    "    exp = 1\n",
    "    while max_val // exp > 0:\n",
    "        counting_sort(arr, exp)\n",
    "        #print(arr)\n",
    "        exp *= 10\n",
    "\n",
    "\n",
    "# Driver code to test above\n",
    "alist = [170, 45, 75, 90, 802, 24, 2, 1, 3, 66, 100, ]\n",
    "radix_sort(alist)\n",
    "\n",
    "#check if is sorted\n",
    "print(alist)\n",
    "#print(all(alist[i] <= alist[i + 1] for i in range(len(alist) - 1)))"
   ]
  },
  {
   "cell_type": "markdown",
   "metadata": {},
   "source": [
    "# Counting sort\n",
    "\n",
    "- https://www.geeksforgeeks.org/counting-sort/\n",
    "- https://www.youtube.com/watch?v=7zuGmKfUt7s\n",
    "\n",
    "- $O(n+ max\\_list)$\n",
    "- Note that: $max\\_list \\leq cte * n$ to be $O(n)$"
   ]
  },
  {
   "cell_type": "code",
   "execution_count": 5,
   "metadata": {
    "code_folding": []
   },
   "outputs": [
    {
     "name": "stdout",
     "output_type": "stream",
     "text": [
      "[3, 4, 6, 7, 8]\n",
      "True\n"
     ]
    }
   ],
   "source": [
    "def counting_sort( alist ):\n",
    "    \n",
    "    max_val = max(alist)\n",
    "    \n",
    "    count = [0] * (max_val + 1)\n",
    "    for i in alist:\n",
    "        count[i] += 1\n",
    "\n",
    "    #print( 'option 1' )\n",
    "    k = 0\n",
    "    for ind, val in enumerate(count):\n",
    "        for _ in range(val):\n",
    "            alist[k] = ind\n",
    "            k += 1\n",
    "    \n",
    "    \"\"\"\n",
    "    #print( 'option 2')\n",
    "    sol = [0] * len(alist)\n",
    "    for ind in range(1,max_val+1):\n",
    "        count[ind] += count[ind-1]\n",
    "    for item in alist:\n",
    "        sol[ count[item]-1 ] = item\n",
    "        count[item] -= 1\n",
    "    for ind, val in enumerate(sol):\n",
    "        alist[ind] = val\n",
    "    \"\"\"\n",
    "    \n",
    "alist = [1,2,3,4,3,2,6,2,3,1,2,3,4,5,5,2]\n",
    "alist = [4,3,7,6,8]\n",
    "\n",
    "\n",
    "counting_sort(alist )\n",
    "\n",
    "#check if is sorted\n",
    "print(alist)\n",
    "print(  all( alist[i] <= alist[i+1] for i in range(len(alist)-1) )  )"
   ]
  },
  {
   "cell_type": "markdown",
   "metadata": {},
   "source": [
    "# Heap sort "
   ]
  },
  {
   "cell_type": "code",
   "execution_count": 48,
   "metadata": {},
   "outputs": [
    {
     "name": "stdout",
     "output_type": "stream",
     "text": [
      "Given array:  [9, 3, 4, 5, 6, 2, 3, 1, 2, 4, 2, 3, 5, 2, 2, 3, 4, 1, 1, 2, 3, 34, 5, 6, 6, 7]\n",
      "[34, 9, 7, 4, 6, 6, 3, 3, 2, 4, 5, 5, 6, 2, 2, 1, 3, 1, 1, 2, 3, 2, 5, 2, 4, 3]\n",
      "Sorted array:  [1, 1, 1, 2, 2, 2, 2, 2, 2, 3, 3, 3, 3, 3, 4, 4, 4, 5, 5, 5, 6, 6, 6, 7, 9, 34]\n"
     ]
    }
   ],
   "source": [
    "# function build Max Heap where value\n",
    "def build_max_heap(arr):\n",
    "\n",
    "    for i in range(len(arr)):\n",
    "\n",
    "        child = i\n",
    "        parent = (i - 1) // 2\n",
    "\n",
    "        # swap child and parent until parent is bigger\n",
    "        while parent >= 0 and arr[parent] < arr[child]:\n",
    "\n",
    "            arr[child], arr[parent] = arr[parent], arr[child]\n",
    "            child, parent = parent, (parent - 1) // 2\n",
    "\n",
    "\n",
    "def move_down_root(arr, i):\n",
    "\n",
    "    # maintaining heap property after each swapping\n",
    "    parent = 0\n",
    "    child = 1\n",
    "\n",
    "    while child < i and arr[parent] <= arr[child]:\n",
    "\n",
    "        # if left child is smaller than right child point index variable to right child\n",
    "        if child < (i - 1):\n",
    "            if arr[child] < arr[child + 1]:\n",
    "                child += 1\n",
    "\n",
    "        # if parent is smaller than child then swapping parent with child having higher value\n",
    "        if child < i and arr[parent] <= arr[child]:\n",
    "            arr[parent], arr[child] = arr[child], arr[parent]\n",
    "\n",
    "        parent, child = child, 2 * child + 1\n",
    "\n",
    "\n",
    "def heapSort(arr):\n",
    "\n",
    "    build_max_heap(arr)\n",
    "    print(arr)\n",
    "\n",
    "    for i in range(len(arr) - 1, 0, -1):\n",
    "\n",
    "        # swap value of first indexed with last indexed\n",
    "        arr[0], arr[i] = arr[i], arr[0]\n",
    "        move_down_root(arr, i)\n",
    "\n",
    "\n",
    "# Driver Code\n",
    "arr = [10, 20, 15, 17, 9, 21, 10]\n",
    "arr = [9, 3, 4, 5, 6, 2, 3, 1, 2, 4, 2, 3, 5, 2, 2, 5, 6, 6, 7]\n",
    "\n",
    "print(\"Given array: \", arr)\n",
    "heapSort(arr)\n",
    "print(\"Sorted array: \", arr)"
   ]
  }
 ],
 "metadata": {
  "kernelspec": {
   "display_name": "Python 3",
   "language": "python",
   "name": "python3"
  },
  "language_info": {
   "codemirror_mode": {
    "name": "ipython",
    "version": 3
   },
   "file_extension": ".py",
   "mimetype": "text/x-python",
   "name": "python",
   "nbconvert_exporter": "python",
   "pygments_lexer": "ipython3",
   "version": "3.6.5"
  },
  "varInspector": {
   "cols": {
    "lenName": 16,
    "lenType": 16,
    "lenVar": 40
   },
   "kernels_config": {
    "python": {
     "delete_cmd_postfix": "",
     "delete_cmd_prefix": "del ",
     "library": "var_list.py",
     "varRefreshCmd": "print(var_dic_list())"
    },
    "r": {
     "delete_cmd_postfix": ") ",
     "delete_cmd_prefix": "rm(",
     "library": "var_list.r",
     "varRefreshCmd": "cat(var_dic_list()) "
    }
   },
   "types_to_exclude": [
    "module",
    "function",
    "builtin_function_or_method",
    "instance",
    "_Feature"
   ],
   "window_display": false
  }
 },
 "nbformat": 4,
 "nbformat_minor": 2
}
