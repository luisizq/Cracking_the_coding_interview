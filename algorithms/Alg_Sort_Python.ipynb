{
 "cells": [
  {
   "cell_type": "markdown",
   "metadata": {},
   "source": [
    "# List "
   ]
  },
  {
   "cell_type": "markdown",
   "metadata": {},
   "source": [
    "# List.sort()\n",
    "\n",
    "https://docs.python.org/3.6/library/stdtypes.html?highlight=sort#list.sort\n",
    "\n",
    "it is Timsort - stable - $\\Omega(n) O( n log n) - Space O(n) $"
   ]
  },
  {
   "cell_type": "code",
   "execution_count": 2,
   "metadata": {},
   "outputs": [
    {
     "name": "stdout",
     "output_type": "stream",
     "text": [
      "[1, 2, 3, 4, 5, 6, 7, 8, 9]\n"
     ]
    }
   ],
   "source": [
    "a = [1,3,5,4,6,8,7,9,2]\n",
    "a.sort()\n",
    "print(a)"
   ]
  },
  {
   "cell_type": "code",
   "execution_count": 8,
   "metadata": {},
   "outputs": [
    {
     "name": "stdout",
     "output_type": "stream",
     "text": [
      "[[1], 'my', 'hello', 'darling', (1, 2, 3, 4, 5, 6, 7, 8, 9)]\n"
     ]
    }
   ],
   "source": [
    "b = [ (1,2,3,4,5,6,7,8,9) , [1] , \"hello\", \"my\",\"darling\"]\n",
    "b.sort(key=len)\n",
    "print(b)"
   ]
  },
  {
   "cell_type": "code",
   "execution_count": 16,
   "metadata": {},
   "outputs": [
    {
     "name": "stdout",
     "output_type": "stream",
     "text": [
      "['my', 'hello', 'darling']\n",
      "['darling', 'hello', 'my']\n"
     ]
    }
   ],
   "source": [
    "c = [\"hello\", \"my\",\"darling\"]\n",
    "\n",
    "# option 1\n",
    "c.sort( key= lambda word: word[-1], reverse=True)\n",
    "print(b)\n",
    "\n",
    "# option 2\n",
    "def functionaux(listin):\n",
    "    return listin[0]\n",
    "c.sort( key = functionaux)\n",
    "print(c)"
   ]
  },
  {
   "cell_type": "markdown",
   "metadata": {},
   "source": [
    "# List = sorted(List)\n",
    "\n",
    "https://docs.python.org/3.6/library/functions.html#sorted"
   ]
  },
  {
   "cell_type": "code",
   "execution_count": 1,
   "metadata": {
    "scrolled": false
   },
   "outputs": [
    {
     "name": "stdout",
     "output_type": "stream",
     "text": [
      "[1, 2, 3, 9, 8, 7, 6, 5, 4]\n",
      "[9, 8, 7, 6, 5, 4, 3, 2, 1]\n"
     ]
    }
   ],
   "source": [
    "d = [ 1,2,3,9,8,7,6,5,4]\n",
    "f = sorted(d)\n",
    "print(d)\n",
    "print(f)"
   ]
  },
  {
   "cell_type": "markdown",
   "metadata": {},
   "source": [
    "# Related lists"
   ]
  },
  {
   "cell_type": "code",
   "execution_count": 4,
   "metadata": {},
   "outputs": [
    {
     "name": "stdout",
     "output_type": "stream",
     "text": [
      "[1, 2, 3] [6, 4, 5]\n"
     ]
    }
   ],
   "source": [
    "x = [3, 2, 1]\n",
    "y = [5, 4, 6]\n",
    "\n",
    "map_sorted = sorted(zip(x, y), key=lambda item: item[0])\n",
    "\n",
    "unzipped = zip(*map_sorted)\n",
    "\n",
    "xsorted, ysorted = map(list, unzipped)\n",
    "\n",
    "print(xsorted, ysorted)"
   ]
  },
  {
   "cell_type": "markdown",
   "metadata": {},
   "source": [
    "# Numpy "
   ]
  },
  {
   "cell_type": "code",
   "execution_count": 4,
   "metadata": {},
   "outputs": [
    {
     "name": "stdout",
     "output_type": "stream",
     "text": [
      "[1 2 3 4 5 6 7 8 9]\n"
     ]
    }
   ],
   "source": [
    "import numpy as np\n",
    "\n",
    "\n",
    "a = np.array( [1,4,3,2,7,6,5,8,9] )\n",
    "a = [1,4,3,2,7,6,5,8,9]\n",
    "\n",
    "kindofsort = 'quicksort'     # default\n",
    "#kindofsort = 'stable'\n",
    "#kindofsort = 'heapsort'\n",
    "#kindofsort = 'mergesort'\n",
    "\n",
    "asorted = np.sort(a, kind=kindofsort)\n",
    "print(asorted)"
   ]
  },
  {
   "cell_type": "markdown",
   "metadata": {},
   "source": [
    "# Numpy - sort by columns "
   ]
  },
  {
   "cell_type": "code",
   "execution_count": 7,
   "metadata": {},
   "outputs": [
    {
     "name": "stdout",
     "output_type": "stream",
     "text": [
      "[[3 6]\n",
      " [1 5]\n",
      " [2 4]]\n",
      "[[1 5]\n",
      " [2 4]\n",
      " [3 6]]\n"
     ]
    }
   ],
   "source": [
    "data = np.array([[3,6], [1,5], [2,4]])\n",
    "\n",
    "indexes = np.argsort( data[:,0] )\n",
    "data_sorted = data[ indexes ]\n",
    "\n",
    "print(data)\n",
    "print(data_sorted)"
   ]
  }
 ],
 "metadata": {
  "kernelspec": {
   "display_name": "Python 3",
   "language": "python",
   "name": "python3"
  },
  "language_info": {
   "codemirror_mode": {
    "name": "ipython",
    "version": 3
   },
   "file_extension": ".py",
   "mimetype": "text/x-python",
   "name": "python",
   "nbconvert_exporter": "python",
   "pygments_lexer": "ipython3",
   "version": "3.6.5"
  },
  "varInspector": {
   "cols": {
    "lenName": 16,
    "lenType": 16,
    "lenVar": 40
   },
   "kernels_config": {
    "python": {
     "delete_cmd_postfix": "",
     "delete_cmd_prefix": "del ",
     "library": "var_list.py",
     "varRefreshCmd": "print(var_dic_list())"
    },
    "r": {
     "delete_cmd_postfix": ") ",
     "delete_cmd_prefix": "rm(",
     "library": "var_list.r",
     "varRefreshCmd": "cat(var_dic_list()) "
    }
   },
   "types_to_exclude": [
    "module",
    "function",
    "builtin_function_or_method",
    "instance",
    "_Feature"
   ],
   "window_display": false
  }
 },
 "nbformat": 4,
 "nbformat_minor": 2
}
