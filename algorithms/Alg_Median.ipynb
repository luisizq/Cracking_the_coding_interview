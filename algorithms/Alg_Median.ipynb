{
 "cells": [
  {
   "cell_type": "markdown",
   "metadata": {},
   "source": [
    "# Median - intro\n",
    "\n",
    "\n",
    "- https://stackoverflow.com/questions/1387497/find-median-value-from-a-growing-set\n",
    "\n",
    "- https://en.wikipedia.org/wiki/Selection_algorithm#Online_selection_algorithm\n",
    "\n",
    "- https://www.geeksforgeeks.org/median-of-stream-of-integers-running-integers/\n",
    "\n",
    "- https://www.geeksforgeeks.org/median-of-stream-of-running-integers-using-stl/\n"
   ]
  },
  {
   "cell_type": "markdown",
   "metadata": {},
   "source": [
    "# Median - 2 sorted arrays same size \n",
    "\n",
    "- https://www.geeksforgeeks.org/median-of-two-sorted-arrays/ \n",
    "\n",
    "method 1: takes O(n) time and O(1) memory"
   ]
  },
  {
   "cell_type": "code",
   "execution_count": 2,
   "metadata": {
    "code_folding": [
     0
    ]
   },
   "outputs": [],
   "source": [
    "def median_same_size(a, b):\n",
    "    n = len(a)\n",
    "    i, j = 0, 0\n",
    "    \n",
    "    for _ in range(n-1):\n",
    "        if a[i] > b[j]:\n",
    "            j += 1\n",
    "        else:\n",
    "            i += 1\n",
    "    \n",
    "    return (a[i] + b[j])/2"
   ]
  },
  {
   "cell_type": "code",
   "execution_count": 3,
   "metadata": {
    "code_folding": []
   },
   "outputs": [
    {
     "name": "stdout",
     "output_type": "stream",
     "text": [
      "5.5\n"
     ]
    }
   ],
   "source": [
    "#try it out\n",
    "#a, b = [1,2,3,4,5], [2,3,4,5,6]\n",
    "a, b = [1,2,3,4,5], [6,7,8,9,10]\n",
    "print(median_same_size(a,b))"
   ]
  },
  {
   "cell_type": "markdown",
   "metadata": {},
   "source": [
    "method 2: uses recursion, so it will require memory. In time it is O(log n) as the array is divided by 2 every time"
   ]
  },
  {
   "cell_type": "code",
   "execution_count": 13,
   "metadata": {
    "code_folding": []
   },
   "outputs": [],
   "source": [
    "# with recursion\n",
    "def median_sorted_array(a):\n",
    "    if len(a)%2 == 1:\n",
    "        return a[int(len(a)/2)]\n",
    "    else:\n",
    "        return (a[len(a)/2-1]+ a[len(a)/2])/2\n",
    "    \n",
    "def median_same_size_v2(a, b):\n",
    "    \n",
    "    # end recursion:\n",
    "    if len(a) == 2:\n",
    "        if a[1] > b[0]:\n",
    "            return (a[0] + b[1])/2\n",
    "        else:\n",
    "            return (a[1] + b[0])/2\n",
    "    \n",
    "    m1 = median_sorted_array(a)\n",
    "    m2 = median_sorted_array(b)\n",
    "    \n",
    "    # recursion\n",
    "    ind = int(len(a)/2)+1\n",
    "    if m1 < m2:\n",
    "        return median_same_size_v2(a[ind:], b[:ind])\n",
    "    return median_same_size_v2(b[ind:], a[:ind])"
   ]
  },
  {
   "cell_type": "code",
   "execution_count": 14,
   "metadata": {
    "code_folding": [
     0
    ]
   },
   "outputs": [
    {
     "name": "stdout",
     "output_type": "stream",
     "text": [
      "5.5\n"
     ]
    }
   ],
   "source": [
    "#try it out\n",
    "#a, b = [1,2,3,4,5], [2,3,4,5,6]\n",
    "a, b = [1,2,3,4,5], [6,7,8,9,10]\n",
    "\n",
    "print(median_same_size_v2(a,b))"
   ]
  },
  {
   "cell_type": "markdown",
   "metadata": {},
   "source": [
    "# Median - 2 sorted arrays different size \n",
    "\n",
    "method 1: is linear with time O(n+m)"
   ]
  },
  {
   "cell_type": "code",
   "execution_count": 32,
   "metadata": {
    "code_folding": []
   },
   "outputs": [],
   "source": [
    "def median(a, b):\n",
    "    \n",
    "    length = len(a) + len(b)\n",
    "    n = len(a) - 1\n",
    "    m = len(b) - 1\n",
    "    \n",
    "    m1, m2 = 0, 0\n",
    "    \n",
    "    # total lenght == odd -> no mean computed\n",
    "    if length%2 == 1:\n",
    "        \n",
    "        i, j = 0, 0\n",
    "        for _ in range(int(length/2)):\n",
    "            if i != n and j != m:\n",
    "                if a[i] < b[j]:\n",
    "                    i += 1\n",
    "                    m1 = a[i]\n",
    "                else:\n",
    "                    j += 1\n",
    "                    m1 = b[j]\n",
    "            elif i == n:\n",
    "                m1 = b[j]\n",
    "                j += 1\n",
    "            else:\n",
    "                m1 = a[i]\n",
    "                i += 1\n",
    "        return m1\n",
    "\n",
    "    # total lenght == even -> mean computed\n",
    "    else:\n",
    "        i, j = 0, 0\n",
    "        for _ in range(int(length/2)):\n",
    "            m2 = m1 \n",
    "            if i != n and j != m:\n",
    "                if a[i] < b[j]:\n",
    "                    i += 1\n",
    "                    m1 = a[i]\n",
    "                else:\n",
    "                    j += 1\n",
    "                    m1 = b[j]\n",
    "            elif i == n:\n",
    "                m1 = b[j]\n",
    "                j += 1\n",
    "            else:\n",
    "                m1 = a[i]\n",
    "                i += 1\n",
    "        return (m1 + m2)/2        "
   ]
  },
  {
   "cell_type": "code",
   "execution_count": 36,
   "metadata": {
    "code_folding": []
   },
   "outputs": [
    {
     "name": "stdout",
     "output_type": "stream",
     "text": [
      "6.0\n"
     ]
    }
   ],
   "source": [
    "# try it out\n",
    "a = [1,2,3,4,5]\n",
    "b = [6,7,8,9,10]\n",
    "print(median(a,b))"
   ]
  },
  {
   "cell_type": "markdown",
   "metadata": {},
   "source": [
    "method 2: recursively. It has Time Complexity of O(LogM + LogN). Takes a lot of time to code: lot of test cases.\n",
    "\n",
    "https://www.geeksforgeeks.org/median-of-two-sorted-arrays-of-different-sizes/"
   ]
  },
  {
   "cell_type": "markdown",
   "metadata": {},
   "source": [
    "# Median - repeated elements\n",
    "It is easy for an static list. The problem emerges when an increasing list is considered. Take for instance the median of the scores of basketball matches:"
   ]
  },
  {
   "cell_type": "code",
   "execution_count": null,
   "metadata": {
    "code_folding": [
     0
    ]
   },
   "outputs": [],
   "source": [
    "class Median():\n",
    "    def __init__(self, ini_list=None):\n",
    "        \n",
    "        max_score = 200\n",
    "        self.counter = [0]*max_score\n",
    "        for i in ini_list:\n",
    "            self.counter[i] += 1\n",
    "        \n",
    "        self.d = len(ini_list)            \n",
    "        self.median = self.median_val()\n",
    "\n",
    "    def median_val(self):\n",
    "        \n",
    "        counter = 0\n",
    "        \n",
    "        if self.d%2 == 1:\n",
    "            for ind, val in enumerate(self.counter):\n",
    "                counter += val\n",
    "                if counter > self.d/2:\n",
    "                    return ind\n",
    "        else:\n",
    "            m1, m2 = None, None\n",
    "            for ind, val in enumerate(self.counter):\n",
    "                counter += val\n",
    "                if counter >= self.d/2 and m1 is None:\n",
    "                    m1 = ind\n",
    "                if counter >= self.d/2 + 1:\n",
    "                    m2 = ind\n",
    "                    break\n",
    "            return (m1 + m2)/2\n",
    "\n",
    "    def add_items_v1(self, alist):\n",
    "        self.d += len(alist)\n",
    "        for i in alist:\n",
    "            self.counter[i] += 1\n",
    "        self.median = self.median_val()\n",
    "\n",
    "    def add_items_v2(self, alist):\n",
    "        pass"
   ]
  },
  {
   "cell_type": "code",
   "execution_count": 29,
   "metadata": {
    "code_folding": [
     0
    ]
   },
   "outputs": [
    {
     "name": "stdout",
     "output_type": "stream",
     "text": [
      "5\n",
      "1.0\n"
     ]
    }
   ],
   "source": [
    "# try it out\n",
    "b = Median([2,2,5,5,5])\n",
    "print(b.median)\n",
    "b.add_items_v1([1,1,1,1,1,1,1,1,1])\n",
    "print(b.median)"
   ]
  },
  {
   "cell_type": "markdown",
   "metadata": {},
   "source": [
    "# Median - stream of integers \n",
    "\n",
    "- https://www.geeksforgeeks.org/median-of-stream-of-integers-running-integers/\n",
    "- https://leetcode.com/problems/find-median-from-data-stream/solution/"
   ]
  },
  {
   "cell_type": "code",
   "execution_count": 37,
   "metadata": {
    "code_folding": []
   },
   "outputs": [],
   "source": [
    "# method 1 - using sort insertion\n",
    "# time = O(n) = O(n) + O(log n) = shifting elements when inserting + finding index to insert\n",
    "# space = O(n)"
   ]
  },
  {
   "cell_type": "code",
   "execution_count": 59,
   "metadata": {
    "code_folding": [
     7,
     21
    ]
   },
   "outputs": [],
   "source": [
    "# method 2 - using two heaps\n",
    "# time = O(log n) inserting and removing from a heap + finding index to insert\n",
    "# space = O(n)\n",
    "\n",
    "# class MinHeap\n",
    "# class MaxHeap\n",
    "# class MedianDs\n",
    "import heapq as hp\n",
    "\n",
    "class MinHeap():\n",
    "    def __init__(self):\n",
    "\n",
    "        self.length = 0\n",
    "        self.heap = []\n",
    "\n",
    "    def insert(self, val):\n",
    "        hp.heappush(self.heap, val)\n",
    "        self.length += 1\n",
    "        \n",
    "    def pop_root(self):\n",
    "        self.length -= 1\n",
    "        return hp.heappop(self.heap)\n",
    "\n",
    "class MaxHeap():\n",
    "    def __init__(self):\n",
    "\n",
    "        self.length = 0\n",
    "        self.heap = []\n",
    "\n",
    "    def insert(self, val):\n",
    "        hp.heappush(self.heap, -val)\n",
    "        self.length += 1\n",
    "        \n",
    "    def pop_root(self):\n",
    "        self.length -= 1\n",
    "        return -hp.heappop(self.heap)\n",
    "\n",
    "class MedianDs():\n",
    "    def __init__(self):\n",
    "        self.minheap = MinHeap()\n",
    "        self.maxheap = MaxHeap()\n",
    "        self.len_minheap = self.minheap.length\n",
    "        self.len_maxheap = self.maxheap.length\n",
    "\n",
    "    def median(self):\n",
    "        if (self.minheap.length + self.maxheap.length)%2 == 0:\n",
    "            return (self.minheap.heap[0] + -self.maxheap.heap[0])/2\n",
    "        elif self.minheap.length > self.maxheap.length:\n",
    "            return self.minheap.heap[0]\n",
    "        return -self.maxheap.heap[0]\n",
    "    \n",
    "    def insert(self, val):\n",
    "        if self.minheap.length == 0:\n",
    "            self.minheap.insert(val)\n",
    "        elif self.maxheap.length == 0:\n",
    "            self.maxheap.insert(val)\n",
    "        else:\n",
    "\n",
    "            med_min = -self.maxheap.heap[0]\n",
    "            med_max = self.minheap.heap[0]\n",
    "\n",
    "            if val <= med_min:\n",
    "                if self.maxheap.length <= self.minheap.length:\n",
    "                    self.maxheap.insert(val)\n",
    "                else:\n",
    "                    root_maxheap = self.maxheap.pop_root()\n",
    "                    self.minheap.insert(root_maxheap)\n",
    "                    self.maxheap.insert(val)\n",
    "            else:\n",
    "                if self.minheap.length <= self.maxheap.length:\n",
    "                    self.minheap.insert(val)\n",
    "                else:\n",
    "                    root_minheap = self.minheap.pop_root()\n",
    "                    self.maxheap.insert(root_minheap)\n",
    "                    self.minheap.insert(val)"
   ]
  },
  {
   "cell_type": "code",
   "execution_count": 60,
   "metadata": {
    "code_folding": []
   },
   "outputs": [
    {
     "name": "stdout",
     "output_type": "stream",
     "text": [
      "[10]\n",
      "[] [10]\n",
      "10\n",
      "[1, 10]\n",
      "[-1] [10]\n",
      "5.5\n",
      "[1, 5, 10]\n",
      "[-1] [5, 10]\n",
      "5\n",
      "[1, 5, 10, 15]\n",
      "[-5, -1] [10, 15]\n",
      "7.5\n",
      "[1, 5, 10, 15, 20]\n",
      "[-5, -1] [10, 15, 20]\n",
      "10\n",
      "[1, 2, 5, 10, 15, 20]\n",
      "[-5, -1, -2] [10, 15, 20]\n",
      "7.5\n",
      "[1, 2, 3, 5, 10, 15, 20]\n",
      "[-5, -3, -2, -1] [10, 15, 20]\n",
      "5\n",
      "[1, 2, 3, 4, 5, 10, 15, 20]\n",
      "[-4, -3, -2, -1] [5, 10, 20, 15]\n",
      "4.5\n"
     ]
    }
   ],
   "source": [
    "# try it out\n",
    "\n",
    "a = [10, 1, 5, 15, 20, 2, 3, 4]\n",
    "hq = MedianDs()\n",
    "\n",
    "for ind, i in enumerate(a):\n",
    "    hq.insert(i)\n",
    "    print(sorted(a[:ind+1]))\n",
    "    print(hq.maxheap.heap, hq.minheap.heap)\n",
    "    print(hq.median())"
   ]
  },
  {
   "cell_type": "markdown",
   "metadata": {},
   "source": [
    "# Median - fraudalent activity notifications\n",
    "\n",
    "https://www.hackerrank.com/challenges/fraudulent-activity-notifications/problem"
   ]
  },
  {
   "cell_type": "code",
   "execution_count": 3,
   "metadata": {
    "code_folding": [
     0
    ]
   },
   "outputs": [],
   "source": [
    "# hackerrank problem\n",
    "\n",
    "from collections import deque\n",
    "\n",
    "def median(v, d):\n",
    "    count = 0\n",
    "    if d%2==0:\n",
    "        m1 = None\n",
    "        m2 = None\n",
    "        for i in range(len(v)):\n",
    "            count += v[i]\n",
    "            if count >= d/2 and m1 is None:\n",
    "                m1 = i\n",
    "            if count >= d/2 + 1:\n",
    "                m2 = i\n",
    "                break\n",
    "        return (m1 + m2)/2\n",
    "    else:\n",
    "        for i in range(len(v)):\n",
    "            count += v[i]\n",
    "            if count > d/2:\n",
    "                return i\n",
    "    return -1\n",
    "\n",
    "def activityNotifications(expenditure, d):\n",
    "    dq = deque(expenditure[:d])\n",
    "    v = [0]*201\n",
    "    for n in dq:\n",
    "        v[n] += 1\n",
    "    count = 0\n",
    "    for current in expenditure[d:]:\n",
    "        if current >= median(v, d)*2:\n",
    "            count += 1\n",
    "        v[current] += 1\n",
    "        dq.append(current)\n",
    "        v[dq.popleft()] -= 1\n",
    "    return count"
   ]
  }
 ],
 "metadata": {
  "kernelspec": {
   "display_name": "Python 3",
   "language": "python",
   "name": "python3"
  },
  "language_info": {
   "codemirror_mode": {
    "name": "ipython",
    "version": 3
   },
   "file_extension": ".py",
   "mimetype": "text/x-python",
   "name": "python",
   "nbconvert_exporter": "python",
   "pygments_lexer": "ipython3",
   "version": "3.6.5"
  },
  "varInspector": {
   "cols": {
    "lenName": 16,
    "lenType": 16,
    "lenVar": 40
   },
   "kernels_config": {
    "python": {
     "delete_cmd_postfix": "",
     "delete_cmd_prefix": "del ",
     "library": "var_list.py",
     "varRefreshCmd": "print(var_dic_list())"
    },
    "r": {
     "delete_cmd_postfix": ") ",
     "delete_cmd_prefix": "rm(",
     "library": "var_list.r",
     "varRefreshCmd": "cat(var_dic_list()) "
    }
   },
   "types_to_exclude": [
    "module",
    "function",
    "builtin_function_or_method",
    "instance",
    "_Feature"
   ],
   "window_display": false
  }
 },
 "nbformat": 4,
 "nbformat_minor": 2
}
