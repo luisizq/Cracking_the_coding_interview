{
 "cells": [
  {
   "cell_type": "markdown",
   "metadata": {},
   "source": [
    "# Kruskal\n",
    "\n",
    "- Goal: find a minimum spanning tree in an undirected, weighted graph\n",
    "- $O(E\\ log\\ E)$: sorting of edges takes $O(E\\ Log\\ E)$ time and find and union operations can take atmost $O(Log\\ V)$ time. Note that $E \\leq V^2$"
   ]
  },
  {
   "cell_type": "code",
   "execution_count": 11,
   "metadata": {
    "code_folding": []
   },
   "outputs": [],
   "source": [
    "# mine - the right one\n",
    "class Graph():\n",
    "    def __init__(self, n):\n",
    "        self.n = n\n",
    "        self.nodes = []\n",
    "\n",
    "    def add_edge(self, src, dest, weight):\n",
    "        self.nodes.append([src, dest, weight])\n",
    "\n",
    "    def print_edges(self):\n",
    "        print(self.nodes)\n",
    "\n",
    "    def kruskal(self):\n",
    "\n",
    "        # sort by weight\n",
    "        self.nodes.sort(key=lambda x: x[2])\n",
    "\n",
    "        # connected components index (for checking for loops)\n",
    "        cc = []\n",
    "        for i in range(self.n):\n",
    "            cc.append(i)\n",
    "\n",
    "        e, i = 0, 0\n",
    "        while e < self.n - 1:\n",
    "\n",
    "            s, d, w = self.nodes[i]\n",
    "            i += 1\n",
    "\n",
    "            # check for loop\n",
    "            connected = cc[s] == cc[d]\n",
    "\n",
    "            if connected:\n",
    "                pass\n",
    "            else:\n",
    "                # add element\n",
    "                e += 1\n",
    "                print(s, d, w)\n",
    "                cc[s] = cc[d]\n",
    "                print(cc)"
   ]
  },
  {
   "cell_type": "code",
   "execution_count": 12,
   "metadata": {
    "code_folding": []
   },
   "outputs": [
    {
     "name": "stdout",
     "output_type": "stream",
     "text": [
      "2 3 4\n",
      "[0, 1, 3, 3]\n",
      "0 3 5\n",
      "[3, 1, 3, 3]\n",
      "0 1 10\n",
      "[1, 1, 3, 3]\n"
     ]
    }
   ],
   "source": [
    "# try it out \n",
    "g = Graph(4) \n",
    "g.add_edge(0, 1, 10) \n",
    "g.add_edge(0, 2, 6) \n",
    "g.add_edge(0, 3, 5) \n",
    "g.add_edge(1, 3, 15) \n",
    "g.add_edge(2, 3, 4) \n",
    "g.kruskal()\n",
    "#g.print_edges()"
   ]
  },
  {
   "cell_type": "markdown",
   "metadata": {},
   "source": [
    "# Prim \n",
    "\n",
    "- Goal: find a minimum spanning tree in an undirected, weighted graph\n",
    "- $O(V^2)$ because of searching in the adjacency matrix"
   ]
  },
  {
   "cell_type": "code",
   "execution_count": 4,
   "metadata": {
    "code_folding": [
     0
    ]
   },
   "outputs": [],
   "source": [
    "# mine\n",
    "class Graph():\n",
    "    def __init__(self, n):\n",
    "        self.n = n\n",
    "        self.nodes = []\n",
    "        self.m = [[-1]*n for _ in range(n) ]\n",
    "        \n",
    "    def add_edge(self, src, dest, w):\n",
    "        self.nodes.append([src,dest,w])\n",
    "        self.m[src][dest] = w\n",
    "        self.m[dest][src] = w\n",
    "        \n",
    "    def print_edges(self):\n",
    "        print(self.nodes)\n",
    "    \n",
    "    def print_matrix(self):\n",
    "        print(self.m)\n",
    "        \n",
    "    def prim(self):\n",
    "                \n",
    "        # initialise\n",
    "        nearest_nod = [] #nearest node (from index to val element)\n",
    "        nearest_val = [] #distance\n",
    "        for i in range(self.n):\n",
    "            nearest_nod.append(0)\n",
    "            nearest_val.append(self.m[0][i])\n",
    "\n",
    "        # append n-1 nodes\n",
    "        for _ in range(self.n - 1):\n",
    "            \n",
    "            # find the next closest node\n",
    "            minval = 1.7e308\n",
    "            for i in range(1, self.n):\n",
    "                if 0 <= nearest_val[i] < minval:\n",
    "                    minval = nearest_val[i]\n",
    "                    k = i\n",
    "            \n",
    "            print(nearest_nod[k], k, nearest_val[k])\n",
    "            \n",
    "            # update nearest nodes and distances\n",
    "            nearest_val[k] = -1\n",
    "            for i in range(self.n):\n",
    "                if 0 < self.m[k][i] < nearest_val[i]:\n",
    "                    nearest_val[i] = self.m[k][i]\n",
    "                    nearest_nod[i] = k\n",
    "        #print(nearest_nod)\n",
    "        #print(nearest_val)"
   ]
  },
  {
   "cell_type": "code",
   "execution_count": 5,
   "metadata": {
    "code_folding": [
     0
    ]
   },
   "outputs": [
    {
     "name": "stdout",
     "output_type": "stream",
     "text": [
      "0 3 5\n",
      "3 2 4\n",
      "0 1 10\n",
      "[0, 0, 3, 0]\n",
      "[-1, -1, -1, -1]\n"
     ]
    }
   ],
   "source": [
    "#try it out\n",
    "g = Graph(4) \n",
    "g.add_edge(0, 1, 10) \n",
    "g.add_edge(0, 2, 6) \n",
    "g.add_edge(0, 3, 5) \n",
    "g.add_edge(1, 3, 15) \n",
    "g.add_edge(2, 3, 4) \n",
    "g.prim()"
   ]
  },
  {
   "cell_type": "markdown",
   "metadata": {},
   "source": [
    "# Dijkstra\n",
    "\n",
    "- shortest distances from a designated node to the rest of nodes (directed graph)\n",
    "- $O(V^2)$"
   ]
  },
  {
   "cell_type": "code",
   "execution_count": 1,
   "metadata": {
    "code_folding": []
   },
   "outputs": [],
   "source": [
    "# mine\n",
    "class Graph():\n",
    "    def __init__(self, n):\n",
    "        self.n = n\n",
    "        self.nodes = []\n",
    "        self.m = [[1.7e308] * n for _ in range(n)]\n",
    "        for i in range(self.n):\n",
    "            self.m[i][i] = 0\n",
    "\n",
    "    def add_edge(self, src, dest, w):\n",
    "        self.nodes.append([src, dest, w])\n",
    "        self.m[src][dest] = w\n",
    "        self.m[dest][src] = w\n",
    "\n",
    "    def print_edges(self):\n",
    "        print(self.nodes)\n",
    "\n",
    "    def print_matrix(self):\n",
    "        print(self.m)\n",
    "\n",
    "    def dijkstra(self, node_ind):\n",
    "\n",
    "        # initialise\n",
    "        nearest_val = []  #distance\n",
    "        nearest_nod = set()  #nodes\n",
    "        for i in range(self.n):\n",
    "            nearest_nod.add(i)\n",
    "            nearest_val.append(self.m[node_ind][i])\n",
    "        nearest_nod.discard(node_ind)\n",
    "\n",
    "        # append n-1 nodes\n",
    "        for _ in range(self.n - 1):\n",
    "\n",
    "            # find the next closest node\n",
    "            minval = 1.79e308\n",
    "            for i in nearest_nod:\n",
    "                if nearest_val[i] < minval:\n",
    "                    minval = nearest_val[i]\n",
    "                    k = i\n",
    "\n",
    "            print('new_node', k, 'val', minval)\n",
    "\n",
    "            # update nearest nodes and distances\n",
    "            for i in nearest_nod:\n",
    "                nearest_val[i] = min(nearest_val[i],\n",
    "                                     nearest_val[k] + self.m[k][i])\n",
    "            nearest_nod.discard(k)\n",
    "            \n",
    "\n",
    "            #print(nearest_val)\n",
    "            #print(nearest_nod)\n",
    "\n",
    "        return nearest_val"
   ]
  },
  {
   "cell_type": "code",
   "execution_count": 2,
   "metadata": {
    "code_folding": [
     0
    ]
   },
   "outputs": [
    {
     "name": "stdout",
     "output_type": "stream",
     "text": [
      "new_node 4 val 1\n",
      "new_node 3 val 2\n",
      "new_node 6 val 2\n",
      "new_node 1 val 3\n",
      "new_node 5 val 3\n",
      "new_node 0 val 5\n"
     ]
    },
    {
     "data": {
      "text/plain": [
       "[5, 3, 0, 2, 1, 3, 2]"
      ]
     },
     "execution_count": 2,
     "metadata": {},
     "output_type": "execute_result"
    }
   ],
   "source": [
    "#try it out\n",
    "g = Graph(4) \n",
    "g.add_edge(0, 1, 10) \n",
    "g.add_edge(0, 2, 6) \n",
    "g.add_edge(0, 3, 5) \n",
    "g.add_edge(3, 1, 1)\n",
    "g.add_edge(2, 3, 4) \n",
    "#g.dijkstra(0)\n",
    "\n",
    "g = Graph(7) \n",
    "g.add_edge(0,1,5)\n",
    "g.add_edge(0,3,3)\n",
    "g.add_edge(0,4,12)\n",
    "g.add_edge(0,5,5)\n",
    "\n",
    "g.add_edge(1,0,5)\n",
    "g.add_edge(1,3,1)\n",
    "g.add_edge(1,6,2)\n",
    "\n",
    "g.add_edge(2,6,2)\n",
    "g.add_edge(2,4,1)\n",
    "g.add_edge(2,5,16)\n",
    "\n",
    "g.add_edge(3,1,1)\n",
    "g.add_edge(3,6,1)\n",
    "g.add_edge(3,4,1)\n",
    "g.add_edge(3,0,3)\n",
    "\n",
    "g.add_edge(4,0,12)\n",
    "g.add_edge(4,3,1)\n",
    "g.add_edge(4,2,1)\n",
    "g.add_edge(4,5,2)\n",
    "\n",
    "g.add_edge(5,0,5)\n",
    "g.add_edge(5,4,2)\n",
    "g.add_edge(5,2,16)\n",
    "\n",
    "g.add_edge(6,1,2)\n",
    "g.add_edge(6,3,1)\n",
    "g.add_edge(6,2,2)\n",
    "\n",
    "g.dijkstra(2)"
   ]
  },
  {
   "cell_type": "markdown",
   "metadata": {},
   "source": [
    "# Floyd\n",
    "\n",
    "$O(V^3)$"
   ]
  },
  {
   "cell_type": "code",
   "execution_count": 3,
   "metadata": {},
   "outputs": [],
   "source": [
    "# mine\n",
    "class Graph():\n",
    "    def __init__(self, n):\n",
    "        self.n = n\n",
    "        self.nodes = []\n",
    "        self.m = [[1.7e308] * n for _ in range(n)]\n",
    "        for i in range(self.n):\n",
    "            self.m[i][i] = 0\n",
    "\n",
    "    def add_edge(self, src, dest, w):\n",
    "        self.nodes.append([src, dest, w])\n",
    "        self.m[src][dest] = w\n",
    "        #self.m[dest][src] = w\n",
    "\n",
    "    def print_edges(self):\n",
    "        print(self.nodes)\n",
    "\n",
    "    def print_matrix(self):\n",
    "        print(self.m)\n",
    "\n",
    "    def floyd(self):\n",
    "\n",
    "        # initialise\n",
    "\n",
    "        d = self.m.copy()\n",
    "        print(d)\n",
    "        p = [[None] * self.n for _ in range(self.n)]\n",
    "\n",
    "        # append n-1 nodes\n",
    "        for intermediate in range(self.n):\n",
    "            \n",
    "            for source in range(self.n):\n",
    "                \n",
    "                for dest in range(self.n):\n",
    "                    \n",
    "                    new_cost = d[source][intermediate] + d[intermediate][dest]\n",
    "                    \n",
    "                    if new_cost < d[source][dest]:\n",
    "                        d[source][dest] = new_cost\n",
    "                        p[source][dest] = intermediate\n",
    "\n",
    "        print(d)\n",
    "        print(p)"
   ]
  },
  {
   "cell_type": "code",
   "execution_count": 4,
   "metadata": {
    "code_folding": []
   },
   "outputs": [
    {
     "name": "stdout",
     "output_type": "stream",
     "text": [
      "[[0, 1, 1.7e+308, 10], [13, 0, 2, 1.7e+308], [1.7e+308, 12, 0, 3], [4, 1.7e+308, 11, 0]]\n",
      "[[0, 1, 3, 6], [9, 0, 2, 5], [7, 8, 0, 3], [4, 5, 7, 0]]\n",
      "[[None, None, 1, 2], [3, None, None, 2], [3, 3, None, None], [None, 0, 1, None]]\n"
     ]
    }
   ],
   "source": [
    "#try it out\n",
    "g = Graph(4) \n",
    "g.add_edge(0, 1, 1) \n",
    "g.add_edge(0, 3, 10) \n",
    "\n",
    "g.add_edge(1, 0, 13)\n",
    "g.add_edge(1, 2, 2)\n",
    "\n",
    "g.add_edge(2, 1, 12)\n",
    "g.add_edge(2, 3, 3) \n",
    "\n",
    "g.add_edge(3, 0, 4)\n",
    "g.add_edge(3, 2, 11) \n",
    "\n",
    "g.floyd()"
   ]
  },
  {
   "cell_type": "markdown",
   "metadata": {},
   "source": [
    "# Egg problem - dynamic programming\n",
    "\n",
    "- https://www.geeksforgeeks.org/egg-dropping-puzzle-dp-11/\n",
    "- https://en.wikipedia.org/wiki/Dynamic_programming#Egg_dropping_puzzle\n"
   ]
  },
  {
   "cell_type": "code",
   "execution_count": 7,
   "metadata": {
    "code_folding": [
     0
    ]
   },
   "outputs": [
    {
     "name": "stdout",
     "output_type": "stream",
     "text": [
      "Minimum number of trials in worst case with2eggs and 100 floors is 14\n"
     ]
    }
   ],
   "source": [
    "# Function to get minimum number of trials needed in worst case with n eggs and k floors \n",
    "def eggDrop(n, k): \n",
    "\n",
    "    # If there are no floors, then no trials \n",
    "    # needed. OR if there is one floor, one \n",
    "    # trial needed. \n",
    "    if (k == 1 or k == 0): \n",
    "        return k \n",
    "\n",
    "    # We need k trials for one egg \n",
    "    # and k floors \n",
    "    if (n == 1): \n",
    "        return k \n",
    "    \n",
    "    min_val = 1.7e308\n",
    "\n",
    "    # Consider all droppings from 1st \n",
    "    # floor to kth floor and return \n",
    "    # the minimum of these values plus 1. \n",
    "    for x in range(1, k + 1): \n",
    "\n",
    "        res = max(eggDrop(n - 1, x - 1), \n",
    "                eggDrop(n, k - x)) \n",
    "        if (res < min_val): \n",
    "            min_val = res \n",
    "\n",
    "    return min_val + 1\n",
    "\n",
    "\n",
    "# A Dynamic Programming based Python Program for the Egg Dropping Puzzle \n",
    "INT_MAX = 32767\n",
    "\n",
    "# Function to get minimum number of trials needed in worst \n",
    "# case with n eggs and k floors \n",
    "def eggDrop(n, k): \n",
    "    # A 2D table where entery eggFloor[i][j] will represent minimum \n",
    "    # number of trials needed for i eggs and j floors. \n",
    "    eggFloor = [[0 for x in range(k+1)] for x in range(n+1)] \n",
    "\n",
    "    # We need one trial for one floor and0 trials for 0 floors \n",
    "    for i in range(1, n+1): \n",
    "        eggFloor[i][1] = 1\n",
    "        eggFloor[i][0] = 0\n",
    "\n",
    "    # We always need j trials for one egg and j floors. \n",
    "    for j in range(1, k+1): \n",
    "        eggFloor[1][j] = j \n",
    "\n",
    "    # Fill rest of the entries in table using optimal substructure \n",
    "    # property \n",
    "    for i in range(2, n+1): \n",
    "        for j in range(2, k+1): \n",
    "            eggFloor[i][j] = INT_MAX \n",
    "            for x in range(1, j+1): \n",
    "                res = 1 + max(eggFloor[i-1][x-1], eggFloor[i][j-x]) \n",
    "                if res < eggFloor[i][j]: \n",
    "                    eggFloor[i][j] = res \n",
    "\n",
    "    # eggFloor[n][k] holds the result \n",
    "    return eggFloor[n][k] \n",
    "\n",
    "# Driver program to test to pront printDups \n",
    "n = 2\n",
    "k = 100\n",
    "print(\"Minimum number of trials in worst case with\" + str(n) + \"eggs and \" + str(k) + \" floors is \" + str(eggDrop(n, k))) "
   ]
  },
  {
   "cell_type": "markdown",
   "metadata": {},
   "source": [
    "# Topological sorting \n",
    "\n",
    "this is an implementation for the problem \"the Alien Dictionary\". This is for directed graphs\n",
    "\n",
    "\n",
    "- https://practice.geeksforgeeks.org/problems/alien-dictionary/1\n",
    "- https://www.geeksforgeeks.org/given-sorted-dictionary-find-precedence-characters/\n",
    "- https://www.geeksforgeeks.org/topological-sorting/"
   ]
  },
  {
   "cell_type": "code",
   "execution_count": 9,
   "metadata": {
    "code_folding": []
   },
   "outputs": [],
   "source": [
    "from collections import defaultdict\n",
    "\n",
    "\n",
    "class Graph:\n",
    "    \"\"\"\n",
    "    DS: Adjacency list\n",
    "    \"\"\"\n",
    "\n",
    "    def __init__(self, vertices):\n",
    "        self.graph = defaultdict(set)  #dictionary containing adjacency List\n",
    "        self.V = vertices  #No. of vertices\n",
    "\n",
    "    # function to add an edge to graph\n",
    "    def addEdge(self, u, v):\n",
    "        self.graph[u].add(v)\n",
    "\n",
    "    # The function to do Topological Sort. It uses recursive topologicalSortUtil()\n",
    "    def topologicalSort(self):\n",
    "\n",
    "        visited = [False] * self.V\n",
    "        stack = []\n",
    "\n",
    "        for i in range(self.V):\n",
    "            if visited[i] == False:\n",
    "                self.topologicalSortUtil(i, visited, stack)\n",
    "\n",
    "        sol = stack[::-1]\n",
    "        print(sol)\n",
    "\n",
    "    # A recursive function used by topologicalSort\n",
    "    def topologicalSortUtil(self, v, visited, stack):\n",
    "\n",
    "        # Mark the current node as visited.\n",
    "        visited[v] = True\n",
    "\n",
    "        # Recursion for the children\n",
    "        for i in self.graph[v]:\n",
    "            if visited[i] == False:\n",
    "                self.topologicalSortUtil(i, visited, stack)\n",
    "\n",
    "        # first append children (because of the recursion) and then parent\n",
    "        stack.append(v)"
   ]
  },
  {
   "cell_type": "code",
   "execution_count": 10,
   "metadata": {
    "code_folding": []
   },
   "outputs": [
    {
     "name": "stdout",
     "output_type": "stream",
     "text": [
      "Following is a Topological Sort of the given graph\n",
      "[5, 0, 2, 1, 3, 4]\n"
     ]
    }
   ],
   "source": [
    "# try it out\n",
    "g= Graph(6) \n",
    "g.addEdge(5, 2)\n",
    "g.addEdge(5, 0) \n",
    "g.addEdge(0, 2) \n",
    "g.addEdge(2, 1)\n",
    "g.addEdge(2, 3) \n",
    "g.addEdge(1, 3) \n",
    "g.addEdge(3, 4) \n",
    "\n",
    "print(\"Following is a Topological Sort of the given graph\")\n",
    "g.topologicalSort() "
   ]
  },
  {
   "cell_type": "markdown",
   "metadata": {},
   "source": [
    "# Knapsack \n",
    "\n",
    "- https://www.geeksforgeeks.org/0-1-knapsack-problem-dp-10/"
   ]
  },
  {
   "cell_type": "code",
   "execution_count": 1,
   "metadata": {},
   "outputs": [
    {
     "name": "stdout",
     "output_type": "stream",
     "text": [
      "1 {(0, 1): 0}\n",
      "2 {(0, 1): 0, (10, 0): 0}\n",
      "3 {(0, 1): 0, (10, 0): 0, (20, 0): 0}\n",
      "4 {(0, 1): 0, (10, 0): 0, (20, 0): 0, (20, 1): 60}\n",
      "5 {(0, 1): 0, (10, 0): 0, (20, 0): 0, (20, 1): 60, (20, 2): 100}\n",
      "5 {(0, 1): 0, (10, 0): 0, (20, 0): 0, (20, 1): 60, (20, 2): 100}\n",
      "6 {(0, 1): 0, (10, 0): 0, (20, 0): 0, (20, 1): 60, (20, 2): 100, (30, 0): 0}\n",
      "7 {(0, 1): 0, (10, 0): 0, (20, 0): 0, (20, 1): 60, (20, 2): 100, (30, 0): 0, (30, 1): 60}\n",
      "8 {(0, 1): 0, (10, 0): 0, (20, 0): 0, (20, 1): 60, (20, 2): 100, (30, 0): 0, (30, 1): 60, (40, 0): 0}\n",
      "9 {(0, 1): 0, (10, 0): 0, (20, 0): 0, (20, 1): 60, (20, 2): 100, (30, 0): 0, (30, 1): 60, (40, 0): 0, (50, 0): 0}\n",
      "10 {(0, 1): 0, (10, 0): 0, (20, 0): 0, (20, 1): 60, (20, 2): 100, (30, 0): 0, (30, 1): 60, (40, 0): 0, (50, 0): 0, (50, 1): 60}\n",
      "11 {(0, 1): 0, (10, 0): 0, (20, 0): 0, (20, 1): 60, (20, 2): 100, (30, 0): 0, (30, 1): 60, (40, 0): 0, (50, 0): 0, (50, 1): 60, (50, 2): 160}\n",
      "12 {(0, 1): 0, (10, 0): 0, (20, 0): 0, (20, 1): 60, (20, 2): 100, (30, 0): 0, (30, 1): 60, (40, 0): 0, (50, 0): 0, (50, 1): 60, (50, 2): 160, (50, 3): 220}\n",
      "220\n"
     ]
    }
   ],
   "source": [
    "#A naive recursive implementation of 0-1 Knapsack Problem\n",
    "def memoize(f):\n",
    "    memo = {}\n",
    "\n",
    "    def helper(W, wt, val, n):\n",
    "        if (W, n) not in memo:\n",
    "            memo[(W, n)] = f(W, wt, val, n)\n",
    "        print(len(memo), memo)\n",
    "        return memo[(W, n)]\n",
    "        \n",
    "    return helper\n",
    "\n",
    "\n",
    "# Returns the maximum value that can be put in a knapsack of capacity W\n",
    "@memoize\n",
    "def knapSack(W, wt, val, n):\n",
    "\n",
    "    # Base Case\n",
    "    if n == 0 or W == 0:\n",
    "        return 0\n",
    "\n",
    "    # If weight of the nth item is more than Knapsack of capacity\n",
    "    # W, then this item cannot be included in the optimal solution\n",
    "    elif wt[n - 1] > W:\n",
    "        return knapSack(W, wt, val, n - 1)\n",
    "\n",
    "    else:\n",
    "        # 1) nth item included\n",
    "        opt1 = val[n - 1] + knapSack(W - wt[n - 1], wt, val, n - 1)\n",
    "        # 2) not included\n",
    "        opt2 = knapSack(W, wt, val, n - 1)\n",
    "        return max(opt1, opt2)\n",
    "\n",
    "\n",
    "# To test above function\n",
    "val = [60, 100, 120]\n",
    "wt = [10, 20, 30]\n",
    "W = 50\n",
    "\n",
    "#wt = range(10)\n",
    "#val = range(10)\n",
    "n = len(val)\n",
    "\n",
    "print(knapSack(W, wt, val, n))"
   ]
  }
 ],
 "metadata": {
  "kernelspec": {
   "display_name": "Python 3",
   "language": "python",
   "name": "python3"
  },
  "language_info": {
   "codemirror_mode": {
    "name": "ipython",
    "version": 3
   },
   "file_extension": ".py",
   "mimetype": "text/x-python",
   "name": "python",
   "nbconvert_exporter": "python",
   "pygments_lexer": "ipython3",
   "version": "3.6.5"
  },
  "varInspector": {
   "cols": {
    "lenName": 16,
    "lenType": 16,
    "lenVar": 40
   },
   "kernels_config": {
    "python": {
     "delete_cmd_postfix": "",
     "delete_cmd_prefix": "del ",
     "library": "var_list.py",
     "varRefreshCmd": "print(var_dic_list())"
    },
    "r": {
     "delete_cmd_postfix": ") ",
     "delete_cmd_prefix": "rm(",
     "library": "var_list.r",
     "varRefreshCmd": "cat(var_dic_list()) "
    }
   },
   "types_to_exclude": [
    "module",
    "function",
    "builtin_function_or_method",
    "instance",
    "_Feature"
   ],
   "window_display": false
  }
 },
 "nbformat": 4,
 "nbformat_minor": 2
}
