{
 "cells": [
  {
   "cell_type": "markdown",
   "metadata": {},
   "source": [
    "# Binary search - non recursive"
   ]
  },
  {
   "cell_type": "code",
   "execution_count": null,
   "metadata": {
    "code_folding": []
   },
   "outputs": [],
   "source": [
    "def binarySearch(alist, val):\n",
    "\n",
    "    # initialise\n",
    "    low, high = 0, len(alist) - 1\n",
    "\n",
    "    # loop\n",
    "    while low < high:\n",
    "\n",
    "        mid = (low + high) // 2\n",
    "\n",
    "        if alist[mid] == val:\n",
    "            return (True, mid)\n",
    "        elif val > alist[mid]:\n",
    "            low = mid + 1\n",
    "        else:\n",
    "            high = mid\n",
    "\n",
    "    # final check\n",
    "    mid = (low + high) // 2  # note that mid == low == high\n",
    "    if alist[mid] == val:\n",
    "        return (True, mid)\n",
    "\n",
    "    return (False, mid)"
   ]
  },
  {
   "cell_type": "code",
   "execution_count": 9,
   "metadata": {
    "code_folding": []
   },
   "outputs": [
    {
     "name": "stdout",
     "output_type": "stream",
     "text": [
      "they must be the same True\n",
      "(False, 1)\n",
      "they must be the same True\n",
      "(True, 1)\n",
      "(True, 0)\n",
      "they must be the same True\n",
      "(False, 0)\n",
      "[1, 3, 2]\n"
     ]
    }
   ],
   "source": [
    "#testlist = [0, 1, 2, 8, 13, 17, 19, 32, 42]\n",
    "#print(binarySearch(testlist, 41))\n",
    "#print(binarySearch(testlist, 13))\n",
    "\n",
    "a = [1, 2]\n",
    "print(binarySearch(a, 3))\n",
    "print(binarySearch(a, 2))\n",
    "print(binarySearch(a, 1))\n",
    "print(binarySearch(a, 0))"
   ]
  },
  {
   "cell_type": "code",
   "execution_count": 10,
   "metadata": {
    "code_folding": []
   },
   "outputs": [
    {
     "name": "stdout",
     "output_type": "stream",
     "text": [
      "False\n",
      "True\n"
     ]
    }
   ],
   "source": [
    "def binarySearch(alist, val):\n",
    "    \n",
    "    # initialise\n",
    "    low, high = 0, len(alist) - 1\n",
    "    \n",
    "    while low <= high:\n",
    "\n",
    "        mid = (low + high)//2\n",
    "\n",
    "        # check\n",
    "        if alist[mid] == val:\n",
    "            return True\n",
    "        \n",
    "        # reduce search\n",
    "        elif val < alist[mid]:\n",
    "            high = mid - 1\n",
    "        else:\n",
    "            low = mid + 1\n",
    "            \n",
    "    return False\n",
    "\n",
    "\n",
    "testlist = [0, 1, 2, 8, 13, 17, 19, 32, 42]\n",
    "print(binarySearch(testlist, 41))\n",
    "print(binarySearch(testlist, 13))"
   ]
  },
  {
   "cell_type": "markdown",
   "metadata": {},
   "source": [
    "# Binary search - recursive "
   ]
  },
  {
   "cell_type": "code",
   "execution_count": 3,
   "metadata": {
    "code_folding": []
   },
   "outputs": [
    {
     "name": "stdout",
     "output_type": "stream",
     "text": [
      "True\n",
      "False\n"
     ]
    }
   ],
   "source": [
    "def binarySearch2(alist, val, low, high):\n",
    "    \n",
    "    # end recursion\n",
    "    if low == high:\n",
    "        if alist[low] == val:\n",
    "            return True\n",
    "        else:\n",
    "            return False\n",
    "    \n",
    "    # recursion\n",
    "    mid = (low+high)//2\n",
    "    \n",
    "    if alist[mid] >= val:\n",
    "        return binarySearch2(alist,val,low,mid)\n",
    "    else:\n",
    "        return binarySearch2(alist,val,mid+1,high)\n",
    "\n",
    "\n",
    "testlist = [0, 1, 2, 8, 13, 17, 19, 32, 42]\n",
    "print(binarySearch2(testlist, 17, 0, len(testlist)-1))\n",
    "print(binarySearch2(testlist, 9, 0, len(testlist)-1))"
   ]
  }
 ],
 "metadata": {
  "kernelspec": {
   "display_name": "Python 3",
   "language": "python",
   "name": "python3"
  },
  "language_info": {
   "codemirror_mode": {
    "name": "ipython",
    "version": 3
   },
   "file_extension": ".py",
   "mimetype": "text/x-python",
   "name": "python",
   "nbconvert_exporter": "python",
   "pygments_lexer": "ipython3",
   "version": "3.6.5"
  },
  "varInspector": {
   "cols": {
    "lenName": 16,
    "lenType": 16,
    "lenVar": 40
   },
   "kernels_config": {
    "python": {
     "delete_cmd_postfix": "",
     "delete_cmd_prefix": "del ",
     "library": "var_list.py",
     "varRefreshCmd": "print(var_dic_list())"
    },
    "r": {
     "delete_cmd_postfix": ") ",
     "delete_cmd_prefix": "rm(",
     "library": "var_list.r",
     "varRefreshCmd": "cat(var_dic_list()) "
    }
   },
   "types_to_exclude": [
    "module",
    "function",
    "builtin_function_or_method",
    "instance",
    "_Feature"
   ],
   "window_display": false
  }
 },
 "nbformat": 4,
 "nbformat_minor": 2
}
