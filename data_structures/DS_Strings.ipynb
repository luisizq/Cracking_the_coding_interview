{
 "cells": [
  {
   "cell_type": "markdown",
   "metadata": {},
   "source": [
    "# join, strip, str\n",
    "\n",
    "- str.join(list)\n",
    "- str(list)\n",
    "- str.strip(str of items to strip)\n",
    "- map(str, list)\n"
   ]
  },
  {
   "cell_type": "code",
   "execution_count": 5,
   "metadata": {},
   "outputs": [
    {
     "name": "stdout",
     "output_type": "stream",
     "text": [
      "spam, ham, eggs\n",
      "[80, 443, 8080, 8081]\n",
      "80, 443, 8080, 8081\n",
      "80 443 8080 8081\n"
     ]
    }
   ],
   "source": [
    "list_of_words = ['spam', 'ham', 'eggs']\n",
    "s1 = ', '.join(list_of_words)\n",
    "print(s1)\n",
    "\n",
    "\n",
    "list_of_ints = [80, 443, 8080, 8081]\n",
    "s2 = str(list_of_ints)\n",
    "print(s2)\n",
    "\n",
    "\n",
    "s3 = s2.strip('[]')\n",
    "print(s3)\n",
    "\n",
    "s4 = ' '.join(map(str, list_of_ints))\n",
    "print(s4)"
   ]
  },
  {
   "cell_type": "code",
   "execution_count": 3,
   "metadata": {},
   "outputs": [
    {
     "name": "stdout",
     "output_type": "stream",
     "text": [
      "hello world\n",
      "hellohellohello\n"
     ]
    }
   ],
   "source": [
    "a = 'hello'\n",
    "b = ' world'\n",
    "c = a + b\n",
    "print(c)\n",
    "\n",
    "d = a * 3\n",
    "print(d)"
   ]
  },
  {
   "cell_type": "code",
   "execution_count": 1,
   "metadata": {},
   "outputs": [
    {
     "name": "stdout",
     "output_type": "stream",
     "text": [
      "6\n",
      "4\n",
      "3\n"
     ]
    }
   ],
   "source": [
    "a = 'hello friend how are you?'\n",
    "b1 = a.find('friend')\n",
    "b2 = a.find('o')\n",
    "c1 = a.count('o')\n",
    "\n",
    "print(b1)\n",
    "print(b2)\n",
    "print(c1)"
   ]
  },
  {
   "cell_type": "markdown",
   "metadata": {},
   "source": [
    "# Indexing "
   ]
  },
  {
   "cell_type": "code",
   "execution_count": 10,
   "metadata": {},
   "outputs": [
    {
     "name": "stdout",
     "output_type": "stream",
     "text": [
      "hi \n",
      "hi \n",
      "ou?\n",
      "there, how are you?\n",
      "hi there, how are y\n"
     ]
    }
   ],
   "source": [
    "word = 'hi there, how are you?'\n",
    "print(word[0:3])    #get the first three char\n",
    "print(word[:3])     #get the first three char\n",
    "print(word[-3:])    #get the last three char\n",
    "print(word[3:])     #get all but the three first char\n",
    "print(word[:-3])    #get all but the three last character"
   ]
  },
  {
   "cell_type": "markdown",
   "metadata": {},
   "source": [
    "# Upper or lower case "
   ]
  },
  {
   "cell_type": "code",
   "execution_count": 18,
   "metadata": {},
   "outputs": [
    {
     "name": "stdout",
     "output_type": "stream",
     "text": [
      "HELLO WORLD\n",
      "hello world\n",
      "Hello World\n",
      "Hello world\n",
      "HELLO WORLD\n",
      "dlrow olleh\n",
      "<generator object <genexpr> at 0x000001C410E75570>\n"
     ]
    }
   ],
   "source": [
    "word = 'hello world'\n",
    "print(word.upper())\n",
    "print(word.lower())\n",
    "print(word.title())\n",
    "print(word.capitalize())\n",
    "print(word.swapcase())\n",
    "print(''.join(reversed(word)))\n",
    "print(x for x in reversed(word))"
   ]
  },
  {
   "cell_type": "markdown",
   "metadata": {},
   "source": [
    "# Regular expressions"
   ]
  },
  {
   "cell_type": "code",
   "execution_count": 4,
   "metadata": {
    "scrolled": true
   },
   "outputs": [
    {
     "name": "stdout",
     "output_type": "stream",
     "text": [
      "['', 'wo', 'words', 'not', 'three']\n"
     ]
    }
   ],
   "source": [
    "import re\n",
    "print(re.findall(r'^|\\w+', 'two words not three') )"
   ]
  },
  {
   "cell_type": "markdown",
   "metadata": {},
   "source": [
    "# chr and ord "
   ]
  },
  {
   "cell_type": "code",
   "execution_count": 1,
   "metadata": {},
   "outputs": [
    {
     "name": "stdout",
     "output_type": "stream",
     "text": [
      "z\n"
     ]
    }
   ],
   "source": [
    "pos_a = ord('a')\n",
    "pos_z = ord('z')\n",
    "\n",
    "print(chr(pos_z))"
   ]
  },
  {
   "cell_type": "markdown",
   "metadata": {},
   "source": [
    "# More string methods:\n",
    "- endswith()\n",
    "- find()\n",
    "- format\n",
    "- index\n",
    "- join\n",
    "- strip\n"
   ]
  }
 ],
 "metadata": {
  "kernelspec": {
   "display_name": "Python 3",
   "language": "python",
   "name": "python3"
  },
  "language_info": {
   "codemirror_mode": {
    "name": "ipython",
    "version": 3
   },
   "file_extension": ".py",
   "mimetype": "text/x-python",
   "name": "python",
   "nbconvert_exporter": "python",
   "pygments_lexer": "ipython3",
   "version": "3.6.5"
  },
  "varInspector": {
   "cols": {
    "lenName": 16,
    "lenType": 16,
    "lenVar": 40
   },
   "kernels_config": {
    "python": {
     "delete_cmd_postfix": "",
     "delete_cmd_prefix": "del ",
     "library": "var_list.py",
     "varRefreshCmd": "print(var_dic_list())"
    },
    "r": {
     "delete_cmd_postfix": ") ",
     "delete_cmd_prefix": "rm(",
     "library": "var_list.r",
     "varRefreshCmd": "cat(var_dic_list()) "
    }
   },
   "types_to_exclude": [
    "module",
    "function",
    "builtin_function_or_method",
    "instance",
    "_Feature"
   ],
   "window_display": false
  }
 },
 "nbformat": 4,
 "nbformat_minor": 2
}
