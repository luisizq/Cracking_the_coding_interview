{
 "cells": [
  {
   "cell_type": "markdown",
   "metadata": {},
   "source": [
    "# Adjacency matrix"
   ]
  },
  {
   "cell_type": "code",
   "execution_count": 5,
   "metadata": {
    "code_folding": []
   },
   "outputs": [],
   "source": [
    "# Directed/Undirected weighted graph as matrix array[ array ]\n",
    "class Graph:\n",
    "    \"\"\"\n",
    "    A simple representation of graph using Adjacency Matrix\n",
    "    \"\"\"\n",
    "\n",
    "    def __init__(self, numvertex):\n",
    "        self.adjMatrix = [[-1] * numvertex for _ in range(numvertex)]\n",
    "        self.numvertex = numvertex\n",
    "\n",
    "    def set_edge(self, frm, to, cost=1, undir=True):\n",
    "        self.adjMatrix[frm][to] = cost\n",
    "        if undir:\n",
    "            self.adjMatrix[to][frm] = cost\n",
    "\n",
    "    # utils\n",
    "    def get_edges(self):\n",
    "        edges = []\n",
    "        for i in range(self.numvertex):\n",
    "            for j in range(self.numvertex):\n",
    "                if (self.adjMatrix[i][j] != -1):\n",
    "                    edges.append((i, j, self.adjMatrix[i][j]))\n",
    "        return edges\n",
    "\n",
    "    def get_matrix(self):\n",
    "        return self.adjMatrix"
   ]
  },
  {
   "cell_type": "code",
   "execution_count": 2,
   "metadata": {
    "code_folding": [
     0
    ],
    "scrolled": true
   },
   "outputs": [
    {
     "name": "stdout",
     "output_type": "stream",
     "text": [
      "Adjacency matrix [[-1, -1, -1, -1, 60, -1], [-1, -1, 10, 20, -1, -1], [-1, 10, -1, -1, 30, -1], [-1, 20, -1, -1, 40, 50], [60, -1, 30, 40, -1, -1], [-1, -1, -1, 50, -1, -1]]\n",
      "edges [(0, 4, 60), (1, 2, 10), (1, 3, 20), (2, 1, 10), (2, 4, 30), (3, 1, 20), (3, 4, 40), (3, 5, 50), (4, 0, 60), (4, 2, 30), (4, 3, 40), (5, 3, 50)]\n"
     ]
    }
   ],
   "source": [
    "#try it out\n",
    "g = Graph(6)\n",
    "g.set_edge(1,2,10)\n",
    "g.set_edge(1,3,20)\n",
    "g.set_edge(2,4,30)\n",
    "g.set_edge(4,3,40)\n",
    "g.set_edge(5,3,50)\n",
    "g.set_edge(4,0,60)\n",
    "\n",
    "print('Adjacency matrix',g.get_matrix())\n",
    "print('edges',g.get_edges())"
   ]
  },
  {
   "cell_type": "markdown",
   "metadata": {},
   "source": [
    "# Adjacency list"
   ]
  },
  {
   "cell_type": "code",
   "execution_count": 13,
   "metadata": {
    "code_folding": []
   },
   "outputs": [],
   "source": [
    "# Directed/Undirected weighted graph as dict(set)\n",
    "from collections import defaultdict\n",
    "        \n",
    "class Graph():\n",
    "    def __init__(self):\n",
    "        self.nodes = defaultdict(set)\n",
    "        self.numvertex = 0\n",
    "        \n",
    "    def add_edge(self, src, dest, cost=1, undir=True):\n",
    "        self.nodes[src].add( (dest, cost) )\n",
    "        if undir:\n",
    "            self.nodes[dest].add( (src, cost) )\n",
    "        self.numvertex = len(self.nodes)\n",
    "    \n",
    "    def print_graph(self):\n",
    "        print(self.nodes.items())\n",
    "    \n",
    "    def graph_dict(self):\n",
    "        return self.nodes"
   ]
  },
  {
   "cell_type": "code",
   "execution_count": 14,
   "metadata": {
    "code_folding": [
     0
    ]
   },
   "outputs": [
    {
     "name": "stdout",
     "output_type": "stream",
     "text": [
      "dict_items([(1, {(3, 1), (4, 1), (2, 1)}), (2, {(0, 1), (5, 1), (6, 1), (1, 1)}), (0, {(4, 1), (2, 1)}), (3, {(4, 1), (1, 1)}), (4, {(0, 1), (3, 1), (1, 1)}), (5, {(2, 1)}), (6, {(2, 1)})])\n"
     ]
    }
   ],
   "source": [
    "#try it out\n",
    "g = Graph()\n",
    "g.add_edge(1, 2)\n",
    "g.add_edge(0, 2)\n",
    "g.add_edge(1, 3)\n",
    "g.add_edge(3, 4)\n",
    "g.add_edge(1, 4)\n",
    "g.add_edge(0, 4)\n",
    "g.add_edge(2, 5)\n",
    "g.add_edge(2, 6)\n",
    "g.print_graph()"
   ]
  },
  {
   "cell_type": "markdown",
   "metadata": {},
   "source": [
    "# Edge list - directed weighted "
   ]
  },
  {
   "cell_type": "code",
   "execution_count": 15,
   "metadata": {
    "code_folding": []
   },
   "outputs": [],
   "source": [
    "# Undirected weighted graph as list([src, dest, weight])\n",
    "class Graph():\n",
    "    def __init__(self, n):\n",
    "        self.n = n\n",
    "        self.nodes = []\n",
    "        \n",
    "    def add_edge(self, src, dest, weight):\n",
    "        self.nodes.append([src,dest,weight])"
   ]
  },
  {
   "cell_type": "markdown",
   "metadata": {},
   "source": [
    "---\n",
    "\n",
    "---\n",
    "\n",
    "---\n",
    "\n",
    "---\n",
    "\n",
    "---\n",
    "\n",
    "---\n",
    "\n",
    "---\n",
    "\n",
    "---\n",
    "\n",
    "---\n",
    "\n",
    "# Extra 1: Adjacency matrix - complex\n",
    "\n",
    "- Pros: Representation is easier to implement and follow. Removing an edge takes O(1) time. Queries like whether there is an edge from vertex ‘u’ to vertex ‘v’ are efficient and can be done O(1).\n",
    "\n",
    "- Cons: Consumes more space O(n^2). Even if the graph is sparse(contains less number of edges), it consumes the same space. Adding a vertex is O(n^2) time."
   ]
  },
  {
   "cell_type": "code",
   "execution_count": 7,
   "metadata": {
    "code_folding": [
     0
    ]
   },
   "outputs": [],
   "source": [
    "class Graph:\n",
    "    \n",
    "    #A simple representation of graph using Adjacency Matrix\n",
    "    \n",
    "    def __init__(self,numvertex):\n",
    "        self.adjMatrix = [[-1]*numvertex for _ in range(numvertex)]\n",
    "        self.numvertex = numvertex\n",
    "        self.vertices = {}\n",
    "        self.verticeslist =[0]*numvertex\n",
    "\n",
    "    def set_vertex(self,vtx,key):\n",
    "        if 0 <= vtx <= self.numvertex:\n",
    "            self.vertices[key] = vtx\n",
    "            self.verticeslist[vtx] = key\n",
    "\n",
    "    def set_edge(self,frm,to,cost=0):\n",
    "        frm = self.vertices[frm]\n",
    "        to = self.vertices[to]\n",
    "        self.adjMatrix[frm][to] = cost\n",
    "        self.adjMatrix[to][frm] = cost  #for directed graph do not add this\n",
    "\n",
    "\n",
    "    def get_vertex(self):\n",
    "        return self.verticeslist\n",
    "\n",
    "    def get_edges(self):\n",
    "        edges=[]\n",
    "        for i in range (self.numvertex):\n",
    "            for j in range (self.numvertex):\n",
    "                if (self.adjMatrix[i][j]!=-1):\n",
    "                    edges.append((self.verticeslist[i],self.verticeslist[j],self.adjMatrix[i][j]))\n",
    "        return edges\n",
    "        \n",
    "    def get_matrix(self):\n",
    "        return self.adjMatrix"
   ]
  },
  {
   "cell_type": "code",
   "execution_count": 8,
   "metadata": {
    "code_folding": [
     0
    ],
    "scrolled": false
   },
   "outputs": [
    {
     "name": "stdout",
     "output_type": "stream",
     "text": [
      "Vertices of Graph\n",
      "['a', 'b', 'c', 'd', 'e', 'f']\n",
      "Edges of Graph\n",
      "[('a', 'c', 20), ('a', 'e', 10), ('b', 'c', 30), ('b', 'e', 40), ('c', 'a', 20), ('c', 'b', 30), ('d', 'e', 50), ('e', 'a', 10), ('e', 'b', 40), ('e', 'd', 50), ('e', 'f', 60), ('f', 'e', 60)]\n",
      "Adjacency Matrix of Graph\n",
      "[[-1, -1, 20, -1, 10, -1], [-1, -1, 30, -1, 40, -1], [20, 30, -1, -1, -1, -1], [-1, -1, -1, -1, 50, -1], [10, 40, -1, 50, -1, 60], [-1, -1, -1, -1, 60, -1]]\n"
     ]
    }
   ],
   "source": [
    "#try it out\n",
    "G =Graph(6)\n",
    "G.set_vertex(0,'a')\n",
    "G.set_vertex(1,'b')\n",
    "G.set_vertex(2,'c')\n",
    "G.set_vertex(3,'d')\n",
    "G.set_vertex(4,'e')\n",
    "G.set_vertex(5,'f')\n",
    "G.set_edge('a','e',10)\n",
    "G.set_edge('a','c',20)\n",
    "G.set_edge('c','b',30)\n",
    "G.set_edge('b','e',40)\n",
    "G.set_edge('e','d',50)\n",
    "G.set_edge('f','e',60)\n",
    "\n",
    "print(\"Vertices of Graph\")\n",
    "print(G.get_vertex())\n",
    "\n",
    "print(\"Edges of Graph\")\n",
    "print(G.get_edges())\n",
    "\n",
    "print(\"Adjacency Matrix of Graph\")\n",
    "print(G.get_matrix())"
   ]
  },
  {
   "cell_type": "markdown",
   "metadata": {},
   "source": [
    "# Extra 2: Adjacency list  - Complex\n",
    "\n",
    "- Pros: Saves space O(|V|+|E|) . In the worst case, there can be C(V, 2) number of edges in a graph thus consuming O(V^2) space. Adding a vertex is easier.\n",
    "\n",
    "- Cons: Queries like whether there is an edge from vertex u to vertex v are not efficient and can be done O(V)."
   ]
  },
  {
   "cell_type": "code",
   "execution_count": 28,
   "metadata": {
    "code_folding": []
   },
   "outputs": [],
   "source": [
    "class AdjNode:\n",
    "    \"\"\"\n",
    "    A class to represent the adjacency list of the node \n",
    "    \"\"\"\n",
    "\n",
    "    def __init__(self, vert, vert_next=None):\n",
    "        self.vertex = vert  #vertex id\n",
    "        self.next = vert_next  #AdjNode\n",
    "\n",
    "class Graph:\n",
    "    \"\"\"\n",
    "    A class to represent a graph. A graph is the list of the adjacency lists. \n",
    "    Size of the array will be #vertices \"V\" \n",
    "    \"\"\"\n",
    "\n",
    "    def __init__(self, vertices):\n",
    "        self.V = vertices\n",
    "        self.graph = [None] * self.V\n",
    "\n",
    "    # Function to add an edge in an undirected graph\n",
    "    def add_edge(self, src, dest):\n",
    "\n",
    "        # Adding the node to the source node. Take as next node the current one\n",
    "        self.graph[src] = AdjNode(dest, self.graph[src])\n",
    "\n",
    "        # Just for undirected graphs\n",
    "        self.graph[dest] = AdjNode(src, self.graph[dest])\n",
    "\n",
    "    # Function to print the graph\n",
    "    def print_graph(self):\n",
    "        for i in range(self.V):\n",
    "            print(\"Adjacency list of vertex {}\\n head\".format(i), end=\"\")\n",
    "            temp = self.graph[i]\n",
    "            while temp:\n",
    "                print(\" -> {}\".format(temp.vertex), end=\"\")\n",
    "                temp = temp.next\n",
    "            print(\" \\n\")"
   ]
  },
  {
   "cell_type": "code",
   "execution_count": 29,
   "metadata": {
    "code_folding": []
   },
   "outputs": [
    {
     "name": "stdout",
     "output_type": "stream",
     "text": [
      "Adjacency list of vertex 0\n",
      " head -> 4 -> 1 \n",
      "\n",
      "Adjacency list of vertex 1\n",
      " head -> 4 -> 3 -> 2 -> 0 \n",
      "\n",
      "Adjacency list of vertex 2\n",
      " head -> 3 -> 1 \n",
      "\n",
      "Adjacency list of vertex 3\n",
      " head -> 4 -> 2 -> 1 \n",
      "\n",
      "Adjacency list of vertex 4\n",
      " head -> 3 -> 1 -> 0 \n",
      "\n"
     ]
    }
   ],
   "source": [
    "# Driver program to the above graph class \n",
    "graph = Graph(5) \n",
    "graph.add_edge(0, 1) \n",
    "graph.add_edge(0, 4) \n",
    "graph.add_edge(1, 2)\n",
    "graph.add_edge(1, 3)\n",
    "graph.add_edge(1, 4) \n",
    "graph.add_edge(2, 3) \n",
    "graph.add_edge(3, 4)\n",
    "\n",
    "graph.print_graph() "
   ]
  }
 ],
 "metadata": {
  "kernelspec": {
   "display_name": "Python 3",
   "language": "python",
   "name": "python3"
  },
  "language_info": {
   "codemirror_mode": {
    "name": "ipython",
    "version": 3
   },
   "file_extension": ".py",
   "mimetype": "text/x-python",
   "name": "python",
   "nbconvert_exporter": "python",
   "pygments_lexer": "ipython3",
   "version": "3.6.5"
  },
  "varInspector": {
   "cols": {
    "lenName": 16,
    "lenType": 16,
    "lenVar": 40
   },
   "kernels_config": {
    "python": {
     "delete_cmd_postfix": "",
     "delete_cmd_prefix": "del ",
     "library": "var_list.py",
     "varRefreshCmd": "print(var_dic_list())"
    },
    "r": {
     "delete_cmd_postfix": ") ",
     "delete_cmd_prefix": "rm(",
     "library": "var_list.r",
     "varRefreshCmd": "cat(var_dic_list()) "
    }
   },
   "types_to_exclude": [
    "module",
    "function",
    "builtin_function_or_method",
    "instance",
    "_Feature"
   ],
   "window_display": false
  }
 },
 "nbformat": 4,
 "nbformat_minor": 2
}
