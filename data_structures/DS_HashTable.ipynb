{
 "cells": [
  {
   "cell_type": "markdown",
   "metadata": {},
   "source": [
    "# Hash Table\n",
    "\n",
    "http://interactivepython.org/runestone/static/pythonds/SortSearch/Hashing.html\n",
    "\n",
    "A hash table is a list in which finding an item is of the order $O(1)$.\n",
    "\n",
    "\n",
    "**Item $\\rightarrow$ (via hash function) $\\rightarrow$ hash code $\\rightarrow$ (via indexing function) $\\rightarrow$ index $\\rightarrow$ linked list if collisions**\n",
    "\n",
    "\n",
    "\n",
    "- **Hash function**: maps items/elements to their hash code (or maybe directly to their index). \n",
    "- **Collisions**: when two different items are mapped to the same index. Maybe because a repeated item or because a repeated index\n",
    "\n",
    "- **Load factor**: is $\\lambda = \\frac{items}{length\\_table} $. Ideally it is $\\lambda = 1$\n",
    "- **Perfect hash function**: when there is no empty slot \n",
    "\n",
    "\n",
    "``dictionaries`` = hash tables"
   ]
  },
  {
   "cell_type": "code",
   "execution_count": 2,
   "metadata": {},
   "outputs": [
    {
     "name": "stdout",
     "output_type": "stream",
     "text": [
      "[None, None, None, None, None, None, None, None, None, None]\n"
     ]
    }
   ],
   "source": [
    "hashtable = [None]*10\n",
    "print(hashtable)"
   ]
  },
  {
   "cell_type": "markdown",
   "metadata": {},
   "source": [
    "**Hash functions**:\n",
    "\n",
    "- the folding method\n",
    "- the mid-square method\n",
    "\n",
    "\n",
    "**Indexing functions**:\n",
    "- Perform %(len(array))"
   ]
  },
  {
   "cell_type": "markdown",
   "metadata": {},
   "source": [
    "# Collision resolution\n",
    "\n",
    "- Open addressing:\n",
    "    - with linear probing - produces clustering\n",
    "    - with cuadratic probing\n",
    "    - with double hashing\n",
    "- Chaining:\n",
    "    - with linked lists $\\rightarrow O(n)$\n",
    "    - with binary search tress $\\rightarrow O(log\\ n)$"
   ]
  },
  {
   "cell_type": "markdown",
   "metadata": {},
   "source": [
    "# Dictionaries as hash tables\n",
    "\n",
    "https://stackoverflow.com/questions/327311/how-are-pythons-built-in-dictionaries-implemented"
   ]
  },
  {
   "cell_type": "markdown",
   "metadata": {},
   "source": [
    "# HashSet vs HashMap\n",
    "\n",
    "https://www.geeksforgeeks.org/difference-between-hashmap-and-hashset/"
   ]
  }
 ],
 "metadata": {
  "kernelspec": {
   "display_name": "Python 3",
   "language": "python",
   "name": "python3"
  },
  "language_info": {
   "codemirror_mode": {
    "name": "ipython",
    "version": 3
   },
   "file_extension": ".py",
   "mimetype": "text/x-python",
   "name": "python",
   "nbconvert_exporter": "python",
   "pygments_lexer": "ipython3",
   "version": "3.6.5"
  },
  "varInspector": {
   "cols": {
    "lenName": 16,
    "lenType": 16,
    "lenVar": 40
   },
   "kernels_config": {
    "python": {
     "delete_cmd_postfix": "",
     "delete_cmd_prefix": "del ",
     "library": "var_list.py",
     "varRefreshCmd": "print(var_dic_list())"
    },
    "r": {
     "delete_cmd_postfix": ") ",
     "delete_cmd_prefix": "rm(",
     "library": "var_list.r",
     "varRefreshCmd": "cat(var_dic_list()) "
    }
   },
   "types_to_exclude": [
    "module",
    "function",
    "builtin_function_or_method",
    "instance",
    "_Feature"
   ],
   "window_display": false
  }
 },
 "nbformat": 4,
 "nbformat_minor": 2
}
