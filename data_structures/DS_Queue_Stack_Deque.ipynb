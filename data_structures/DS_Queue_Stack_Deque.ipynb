{
 "cells": [
  {
   "cell_type": "markdown",
   "metadata": {},
   "source": [
    "# Collections \n",
    "\n",
    "https://docs.python.org/3.6/library/collections.html\n",
    "\n",
    "https://docs.python.org/3.6/library/"
   ]
  },
  {
   "cell_type": "code",
   "execution_count": null,
   "metadata": {},
   "outputs": [],
   "source": [
    "from collections import deque\n",
    "\n",
    "queue = deque([\"Eric\", \"John\", \"Michael\"])\n",
    "queue.append(\"Terry\")           # Terry arrives\n",
    "queue.append(\"Graham\")          # Graham arrives\n",
    "\n",
    "print(queue)\n",
    "print(queue.popleft())                 # The first to arrive (Eric) now leaves\n",
    "print(queue.popleft())                 # The second to arrive (John) now leaves\n",
    "print(queue)\n",
    "print(queue.popleft())\n",
    "\n",
    "# STACKS\n",
    "stack = [\"Eric\", \"John\", \"Michael\"]\n",
    "stack.append(\"Terry\")           # Terry arrives\n",
    "stack.append(\"Graham\")          # Graham arrives\n",
    "stack.pop()                     # Graham leaves\n",
    "stack.pop()                     # Terry leaves"
   ]
  }
 ],
 "metadata": {
  "kernelspec": {
   "display_name": "Python 3",
   "language": "python",
   "name": "python3"
  },
  "language_info": {
   "codemirror_mode": {
    "name": "ipython",
    "version": 3
   },
   "file_extension": ".py",
   "mimetype": "text/x-python",
   "name": "python",
   "nbconvert_exporter": "python",
   "pygments_lexer": "ipython3",
   "version": "3.6.5"
  }
 },
 "nbformat": 4,
 "nbformat_minor": 2
}
