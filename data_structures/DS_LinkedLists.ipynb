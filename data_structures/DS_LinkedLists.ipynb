{
 "cells": [
  {
   "cell_type": "markdown",
   "metadata": {},
   "source": [
    "# Basic 1 - just nodes"
   ]
  },
  {
   "cell_type": "code",
   "execution_count": 14,
   "metadata": {
    "scrolled": true
   },
   "outputs": [
    {
     "name": "stdout",
     "output_type": "stream",
     "text": [
      "Node_value: Head\n",
      "Node_value: Green\n",
      "Node_value: 21\n",
      "Node_value: Hello\n"
     ]
    }
   ],
   "source": [
    "class Node:\n",
    "    # esentials\n",
    "    def __init__(self, value = None, next_Node = None):\n",
    "        self.value = value\n",
    "        self.next = next_Node\n",
    "    \n",
    "    #print\n",
    "    def __str__(self):\n",
    "        return 'Node_value: '+str(self.value)\n",
    "            \n",
    "\n",
    "#ejemplo de nodos\n",
    "n1=Node(\"Hello\",None)   # tail\n",
    "n2=Node(\"21\",n1)\n",
    "n3=Node(\"Green\",n2)     # head\n",
    "n4=Node(\"Head\")\n",
    "n4.next = n3\n",
    "\n",
    "def display(lst):\n",
    "    if lst:\n",
    "        print(lst)\n",
    "        display(lst.next)\n",
    "\n",
    "display(n4)"
   ]
  },
  {
   "cell_type": "markdown",
   "metadata": {},
   "source": [
    "# Basic 2 - LL "
   ]
  },
  {
   "cell_type": "code",
   "execution_count": 16,
   "metadata": {},
   "outputs": [
    {
     "name": "stdout",
     "output_type": "stream",
     "text": [
      "(1) (2) (3) None\n"
     ]
    }
   ],
   "source": [
    "class LinkedList():\n",
    "    \n",
    "    nextn = None\n",
    "    val = None\n",
    " \n",
    "    def __init__(self, val):\n",
    "        self.val = val\n",
    " \n",
    "    def add(self, val):\n",
    "        if self.nextn == None:\n",
    "            self.nextn = LinkedList(val)\n",
    "        else:\n",
    "            self.nextn.add(val)\n",
    " \n",
    "    def __str__(self):\n",
    "        return \"(\" + str(self.val) + \") \" + str(self.nextn)\n",
    "\n",
    "ll = LinkedList(1)\n",
    "ll.add(2)\n",
    "ll.add(3)\n",
    "\n",
    "print(ll)"
   ]
  },
  {
   "cell_type": "markdown",
   "metadata": {},
   "source": [
    "# Complex"
   ]
  },
  {
   "cell_type": "code",
   "execution_count": 16,
   "metadata": {
    "code_folding": [
     0,
     24
    ]
   },
   "outputs": [
    {
     "name": "stdout",
     "output_type": "stream",
     "text": [
      "LinkedList [\n",
      "valor_nodo1\n",
      "valor_nodo2\n",
      "valor_nodo3\n",
      "valor_nodo4\n",
      "valor_nodo5\n",
      "valor_nodo6\n",
      "]\n",
      "6\n",
      "Node: valor_nodo3\n"
     ]
    }
   ],
   "source": [
    "class Node:\n",
    "    # esentials\n",
    "    def __init__(self, value=None, next_Node=None):\n",
    "        self.value = value\n",
    "        self.next = next_Node\n",
    "\n",
    "    #para imprimir en pantalla\n",
    "    def __str__(self):\n",
    "        return 'Node: ' + str(self.value)\n",
    "\n",
    "    # EXTRA\n",
    "    def getData(self):\n",
    "        return self.value\n",
    "\n",
    "    def getNext(self):\n",
    "        return self.next\n",
    "\n",
    "    def setNext(self, newnext):\n",
    "        self.next = newnext\n",
    "\n",
    "    def setData(self, newdata):\n",
    "        self.value = newdata\n",
    "\n",
    "\n",
    "class LinkedList:\n",
    "    def __init__(self):\n",
    "        self.head = None\n",
    "        self.last = None\n",
    "\n",
    "    def insert(self, x):\n",
    "        if self.head == None:\n",
    "            self.head = Node(x, None)\n",
    "            self.last = self.head\n",
    "        elif self.last == self.head:\n",
    "            self.last = Node(x, None)\n",
    "            self.head.next = self.last\n",
    "        else:\n",
    "            current = Node(x, None)\n",
    "            self.last.next = current\n",
    "            self.last = current\n",
    "\n",
    "    def size(self):\n",
    "        current = self.head\n",
    "        count = 0\n",
    "        while current:\n",
    "            count += 1\n",
    "            current = current.getNext()\n",
    "        return count\n",
    "\n",
    "    def search(self, query):\n",
    "        current = self.head\n",
    "        found = False\n",
    "        while current and found is False:\n",
    "            if current.getData() == query:\n",
    "                found = True\n",
    "            else:\n",
    "                current = current.getNext()\n",
    "        if current is None:\n",
    "            raise ValueError(\"Data not in list\")\n",
    "        return current\n",
    "\n",
    "    def clear(self):\n",
    "        self.__init__()\n",
    "\n",
    "    def middle(self):\n",
    "        fastPointer = self.head\n",
    "        slowPointer = self.head\n",
    "        # loop through the linked list\n",
    "        # when fastPointer reaches the end of the list\n",
    "        # then slowPointer will be at the middle node\n",
    "        while fastPointer.next != None and fastPointer.next.next != None:\n",
    "            fastPointer = fastPointer.next.next\n",
    "            slowPointer = slowPointer.next\n",
    "        return slowPointer\n",
    "\n",
    "    def __str__(self):\n",
    "        if self.head != None:\n",
    "            current = self.head\n",
    "            out = 'LinkedList [\\n' + str(current.value) + '\\n'\n",
    "            while current.next != None:\n",
    "                current = current.next\n",
    "                out += str(current.value) + '\\n'\n",
    "            return out + ']'\n",
    "        else:\n",
    "            return 'LinkedList [] == empty'\n",
    "\n",
    "\n",
    "#\"\"\"\n",
    "my_linkedlist = LinkedList()\n",
    "my_linkedlist.insert(\"valor_nodo1\")\n",
    "my_linkedlist.insert(\"valor_nodo2\")\n",
    "my_linkedlist.insert(\"valor_nodo3\")\n",
    "my_linkedlist.insert(\"valor_nodo4\")\n",
    "my_linkedlist.insert(\"valor_nodo5\")\n",
    "my_linkedlist.insert(\"valor_nodo6\")\n",
    "print(my_linkedlist)  # llama a  __str__(self)\n",
    "print(my_linkedlist.size())  # llama a size()\n",
    "print(my_linkedlist.search(\"valor_nodo3\"))\n",
    "#\"\"\""
   ]
  },
  {
   "cell_type": "code",
   "execution_count": null,
   "metadata": {},
   "outputs": [],
   "source": []
  }
 ],
 "metadata": {
  "kernelspec": {
   "display_name": "Python 3",
   "language": "python",
   "name": "python3"
  },
  "language_info": {
   "codemirror_mode": {
    "name": "ipython",
    "version": 3
   },
   "file_extension": ".py",
   "mimetype": "text/x-python",
   "name": "python",
   "nbconvert_exporter": "python",
   "pygments_lexer": "ipython3",
   "version": "3.6.5"
  },
  "varInspector": {
   "cols": {
    "lenName": 16,
    "lenType": 16,
    "lenVar": 40
   },
   "kernels_config": {
    "python": {
     "delete_cmd_postfix": "",
     "delete_cmd_prefix": "del ",
     "library": "var_list.py",
     "varRefreshCmd": "print(var_dic_list())"
    },
    "r": {
     "delete_cmd_postfix": ") ",
     "delete_cmd_prefix": "rm(",
     "library": "var_list.r",
     "varRefreshCmd": "cat(var_dic_list()) "
    }
   },
   "types_to_exclude": [
    "module",
    "function",
    "builtin_function_or_method",
    "instance",
    "_Feature"
   ],
   "window_display": false
  }
 },
 "nbformat": 4,
 "nbformat_minor": 2
}
