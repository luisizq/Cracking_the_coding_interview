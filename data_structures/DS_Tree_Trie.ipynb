{
 "cells": [
  {
   "cell_type": "code",
   "execution_count": 3,
   "metadata": {
    "code_folding": []
   },
   "outputs": [],
   "source": [
    "class Node():\n",
    "    def __init__(self, parent=None, value=None):\n",
    "        self.parent = parent\n",
    "        self.value = value\n",
    "        self.children = [None for i in range(ord('z') - ord('a') + 1)]\n",
    "        self.is_end = False\n",
    "\n",
    "    def add_child(self, next_node, letter):\n",
    "        self.children[ord(letter) - ord('a')] = next_node\n",
    "\n",
    "    def get_child(self, letter):\n",
    "        return self.children[ord(letter) - ord('a')]\n",
    "\n",
    "\n",
    "def add_word(word, root):\n",
    "\n",
    "    cur = root\n",
    "\n",
    "    for letter in word:\n",
    "\n",
    "        child_node = cur.get_child(letter)\n",
    "        if not child_node:\n",
    "            new = Node(parent=cur, value=letter)\n",
    "            cur.add_child(new, letter)\n",
    "            cur = new\n",
    "        else:\n",
    "            cur = child_node\n",
    "\n",
    "    cur.is_end = True"
   ]
  },
  {
   "cell_type": "code",
   "execution_count": 12,
   "metadata": {
    "code_folding": []
   },
   "outputs": [],
   "source": [
    "def test_word(word, root):\n",
    "\n",
    "    cur = root\n",
    "\n",
    "    for letter in word:\n",
    "\n",
    "        child = cur.get_child(letter)\n",
    "        if child:\n",
    "            cur = child\n",
    "        else:\n",
    "            return False\n",
    "\n",
    "    return cur.is_end\n",
    "\n",
    "\n",
    "def dfs(root):\n",
    "\n",
    "    stack = [root]\n",
    "    letters = []\n",
    "\n",
    "    while stack:\n",
    "        cur = stack.pop()\n",
    "        letters.append(cur.value)\n",
    "        for child in cur.children[::-1]:\n",
    "            if child:\n",
    "                stack.append(child)\n",
    "    \n",
    "    del letters[0]\n",
    "    return letters\n",
    "\n",
    "\n",
    "def dfs_word(root):\n",
    "\n",
    "    stack = [root]\n",
    "    node_for_words = []\n",
    "\n",
    "    while stack:\n",
    "        curnode = stack.pop()\n",
    "        if curnode.is_end:\n",
    "            node_for_words.append(curnode)\n",
    "        for child in curnode.children[::-1]:\n",
    "            if child:\n",
    "                stack.append(child)\n",
    "    return node_for_words\n",
    "\n",
    "\n",
    "from collections import deque\n",
    "\n",
    "\n",
    "def bfs_word(root):\n",
    "\n",
    "    queue = deque([root])\n",
    "    node_for_words = []\n",
    "\n",
    "    while queue:\n",
    "        curnode = queue.popleft()\n",
    "        if curnode.is_end:\n",
    "            node_for_words.append(curnode)\n",
    "        for child in curnode.children:\n",
    "            if child:\n",
    "                queue.append(child)\n",
    "    return node_for_words\n",
    "\n",
    "\n",
    "def create_words(list_nodes):\n",
    "    for node in list_nodes:\n",
    "        word = []\n",
    "        while node.parent:\n",
    "            word.append(node.value)\n",
    "            node = node.parent\n",
    "        print(''.join(word[::-1]), end=' ')"
   ]
  },
  {
   "cell_type": "code",
   "execution_count": 13,
   "metadata": {},
   "outputs": [
    {
     "name": "stdout",
     "output_type": "stream",
     "text": [
      "DFS\n",
      "a b c d d e\n",
      "\n",
      "DFS words\n",
      "['a', 'b', 'c', 'd', 'd', 'e']\n",
      "a ab abc abd ad ae \n",
      "\n",
      "BFS words\n",
      "['a', 'b', 'd', 'e', 'c', 'd']\n",
      "a ab ad ae abc abd "
     ]
    }
   ],
   "source": [
    "#try it out\n",
    "trie = Node()\n",
    "words = ['a','ab','ad','ae','abc','abd']\n",
    "for word in words:\n",
    "    add_word(word, trie)\n",
    "    \n",
    "\n",
    "print('DFS')    \n",
    "print(' '.join(dfs(trie)))\n",
    "\n",
    "print('\\nDFS words')\n",
    "words_dfs = dfs_word(trie)\n",
    "print([i.value for i in words_dfs])\n",
    "create_words(words_dfs)\n",
    "\n",
    "print('\\n\\nBFS words')\n",
    "words_bfs = bfs_word(trie)\n",
    "print([i.value for i in words_bfs])\n",
    "create_words(words_bfs)"
   ]
  }
 ],
 "metadata": {
  "kernelspec": {
   "display_name": "Python 3",
   "language": "python",
   "name": "python3"
  },
  "language_info": {
   "codemirror_mode": {
    "name": "ipython",
    "version": 3
   },
   "file_extension": ".py",
   "mimetype": "text/x-python",
   "name": "python",
   "nbconvert_exporter": "python",
   "pygments_lexer": "ipython3",
   "version": "3.6.5"
  },
  "varInspector": {
   "cols": {
    "lenName": 16,
    "lenType": 16,
    "lenVar": 40
   },
   "kernels_config": {
    "python": {
     "delete_cmd_postfix": "",
     "delete_cmd_prefix": "del ",
     "library": "var_list.py",
     "varRefreshCmd": "print(var_dic_list())"
    },
    "r": {
     "delete_cmd_postfix": ") ",
     "delete_cmd_prefix": "rm(",
     "library": "var_list.r",
     "varRefreshCmd": "cat(var_dic_list()) "
    }
   },
   "types_to_exclude": [
    "module",
    "function",
    "builtin_function_or_method",
    "instance",
    "_Feature"
   ],
   "window_display": false
  }
 },
 "nbformat": 4,
 "nbformat_minor": 2
}
