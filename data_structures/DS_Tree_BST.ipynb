{
 "cells": [
  {
   "cell_type": "markdown",
   "metadata": {},
   "source": [
    "# Binary Search Tree \n",
    "\n",
    "Definition:\n",
    "\n",
    "is a Binary Tree with:\n",
    "- The left subtree of a node contains only nodes with keys lesser than the node’s key.\n",
    "- The right subtree of a node contains only nodes with keys greater than the node’s key.\n",
    "- There must be no duplicate nodes."
   ]
  },
  {
   "cell_type": "markdown",
   "metadata": {},
   "source": [
    "https://www.geeksforgeeks.org/construct-bst-from-given-preorder-traversa/\n",
    "\n",
    "https://www.geeksforgeeks.org/check-array-represents-inorder-binary-search-tree-not/"
   ]
  },
  {
   "cell_type": "code",
   "execution_count": 7,
   "metadata": {},
   "outputs": [],
   "source": [
    "class Node():\n",
    "    def __init__(self, data=None, right=None, left=None):\n",
    "\n",
    "        if not ((isinstance(right, Node) or isinstance(right,type(None))) and\n",
    "                (isinstance(left, Node) or isinstance(left,type(None)))):\n",
    "            raise Exception(\"the right and left values must be nodes\")\n",
    "\n",
    "        self.data = data  # self.left (the left child of the node)\n",
    "        self.right = right  # self.right (the right child of the node)\n",
    "        self.left = left  # self.data (the value of the node)\n",
    "    "
   ]
  },
  {
   "cell_type": "code",
   "execution_count": 8,
   "metadata": {
    "code_folding": [
     0
    ]
   },
   "outputs": [],
   "source": [
    "def in_order(root):\n",
    "    \n",
    "    # end recursion\n",
    "    if root:\n",
    "        \n",
    "        #recursion\n",
    "        in_order(root.left)\n",
    "        print(root.data,end=' ')\n",
    "        in_order(root.right)"
   ]
  },
  {
   "cell_type": "code",
   "execution_count": 9,
   "metadata": {
    "code_folding": [
     0
    ]
   },
   "outputs": [],
   "source": [
    "def in_order_succesor(node):\n",
    "    if not node.left:\n",
    "        return node\n",
    "    return in_order_succesor(node.left)"
   ]
  },
  {
   "cell_type": "markdown",
   "metadata": {},
   "source": [
    "### Insertion "
   ]
  },
  {
   "cell_type": "code",
   "execution_count": 10,
   "metadata": {},
   "outputs": [],
   "source": [
    "def insert(root, node):\n",
    "    \n",
    "    go_to_right = root.data < node.data\n",
    "\n",
    "    if go_to_right:\n",
    "        if not root.right:\n",
    "            root.right = node   #create a new variable\n",
    "        else:\n",
    "            insert(root.right, node)   # recursion\n",
    "    else:\n",
    "        if not root.left:\n",
    "            root.left = node    #create a new variable\n",
    "        else:\n",
    "            insert(root.left, node)    # recursion"
   ]
  },
  {
   "cell_type": "code",
   "execution_count": 11,
   "metadata": {
    "code_folding": []
   },
   "outputs": [
    {
     "name": "stdout",
     "output_type": "stream",
     "text": [
      "20 30 40 50 60 70 80 "
     ]
    }
   ],
   "source": [
    "# try it out - built the BST\n",
    "\n",
    "r = Node(50) \n",
    "insert(r,Node(30)) \n",
    "insert(r,Node(20)) \n",
    "insert(r,Node(40)) \n",
    "insert(r,Node(70)) \n",
    "insert(r,Node(60))\n",
    "insert(r,Node(80))\n",
    "    \n",
    "\"\"\" Let us create following BST \n",
    "              50 \n",
    "           /     \\ \n",
    "          30      70 \n",
    "         /  \\    /  \\ \n",
    "       20   40  60   80 \"\"\"\n",
    "\n",
    "in_order(r)\n",
    "#print(in_order_val(r))\n",
    "#print(r)\n",
    "#print(r.right)\n",
    "#print(r.left)"
   ]
  },
  {
   "cell_type": "markdown",
   "metadata": {},
   "source": [
    "### Search\n",
    "Time Complexity: The worst case time complexity of search and insert operations is O(h) where h is height of Binary Search Tree. In worst case, we may have to travel from root to the deepest leaf node. The height of a skewed tree may become n and the time complexity of search and insert operation may become O(n)."
   ]
  },
  {
   "cell_type": "code",
   "execution_count": 12,
   "metadata": {
    "code_folding": [
     0
    ]
   },
   "outputs": [],
   "source": [
    "def search_v0(root, val):\n",
    "    if root.data == val:\n",
    "        return root\n",
    "    elif root.data < val:\n",
    "        if not root.right:\n",
    "            return None\n",
    "        else:\n",
    "            return search(root.right, val)\n",
    "    else:\n",
    "        if not root.left:\n",
    "            return None\n",
    "        else:\n",
    "            return search(root.left, val)\n",
    "        \n",
    "def search(root, val):\n",
    "    \n",
    "    # end recursion\n",
    "    if not root:\n",
    "        return None\n",
    "    elif root.data == val:\n",
    "        return root\n",
    "    \n",
    "    # recursion\n",
    "    elif root.data < val:\n",
    "        return search(root.right, val)\n",
    "    else:\n",
    "        return search(root.left, val)"
   ]
  },
  {
   "cell_type": "code",
   "execution_count": 13,
   "metadata": {},
   "outputs": [
    {
     "name": "stdout",
     "output_type": "stream",
     "text": [
      "20\n",
      "20\n"
     ]
    }
   ],
   "source": [
    "#try it out\n",
    "node = search_v0(r, 20)\n",
    "print(node.data)\n",
    "\n",
    "node = search(r, 20)\n",
    "print(node.data)"
   ]
  },
  {
   "cell_type": "markdown",
   "metadata": {},
   "source": [
    "### Min and Max values "
   ]
  },
  {
   "cell_type": "code",
   "execution_count": 14,
   "metadata": {},
   "outputs": [
    {
     "name": "stdout",
     "output_type": "stream",
     "text": [
      "20\n",
      "80\n"
     ]
    }
   ],
   "source": [
    "def find_min(root):\n",
    "    curnode = root\n",
    "    while curnode.left:\n",
    "        curnode = curnode.left\n",
    "    return curnode.data\n",
    "\n",
    "def find_max(root):\n",
    "    curnode = root\n",
    "    while curnode.right:\n",
    "        curnode = curnode.right\n",
    "    return curnode.data\n",
    "\n",
    "print(find_min(r))\n",
    "print(find_max(r))"
   ]
  },
  {
   "cell_type": "markdown",
   "metadata": {},
   "source": [
    "### Deletion "
   ]
  },
  {
   "cell_type": "code",
   "execution_count": 34,
   "metadata": {
    "code_folding": []
   },
   "outputs": [],
   "source": [
    "def find_min(root):\n",
    "    curnode = root\n",
    "    while curnode.left:\n",
    "        curnode = curnode.left\n",
    "    return curnode.data\n",
    "\n",
    "\n",
    "def delete_node(root, val):\n",
    "\n",
    "    # end of recursion (1)\n",
    "    if not root:\n",
    "        return None\n",
    "\n",
    "    # recursion (1)\n",
    "    elif val < root.data:\n",
    "        root.left = delete_node(root.left, val)\n",
    "        return root\n",
    "\n",
    "    elif val > root.data:\n",
    "        root.right = delete_node(root.right, val)\n",
    "        return root\n",
    "\n",
    "    # val == root.data\n",
    "    else:\n",
    "        # end of recursion (2)\n",
    "        if not root.left:\n",
    "            return root.right\n",
    "\n",
    "        if not root.right:\n",
    "            return root.left\n",
    "\n",
    "        # recursion (2)\n",
    "        else:\n",
    "            temp_min = find_min(root.right)\n",
    "            root.data = temp_min\n",
    "            root.right = delete_node(root.right, temp_min)\n",
    "            return root"
   ]
  },
  {
   "cell_type": "code",
   "execution_count": 35,
   "metadata": {
    "code_folding": []
   },
   "outputs": [
    {
     "name": "stdout",
     "output_type": "stream",
     "text": [
      "in-order\n",
      "20 30 40 50 60 70 80 \n",
      "in-order\n",
      "20 30 40 60 70 80 "
     ]
    }
   ],
   "source": [
    "# try it out\n",
    "\n",
    "r = Node(50) \n",
    "insert(r,Node(30)) \n",
    "insert(r,Node(20)) \n",
    "insert(r,Node(40)) \n",
    "insert(r,Node(70)) \n",
    "insert(r,Node(60))\n",
    "insert(r,Node(80))\n",
    "\n",
    "print('in-order'); in_order(r)\n",
    "a = delete_node(r, 50)\n",
    "print('\\nin-order'); in_order(r)"
   ]
  },
  {
   "cell_type": "markdown",
   "metadata": {},
   "source": [
    "# Number of nodes within range "
   ]
  },
  {
   "cell_type": "code",
   "execution_count": 27,
   "metadata": {},
   "outputs": [
    {
     "name": "stdout",
     "output_type": "stream",
     "text": [
      "5\n"
     ]
    }
   ],
   "source": [
    "l = 10\n",
    "h = 65\n",
    "\n",
    "\n",
    "def get_count_of_nodes(root, l, h):\n",
    "    c = 0\n",
    "    if root:\n",
    "        if l < root.data < h:\n",
    "            c += 1\n",
    "        if root.left:\n",
    "            if root.left.data > l:\n",
    "                c += get_count_of_nodes(root.left, l, h)\n",
    "            else:\n",
    "                c += get_count_of_nodes(root.left.right, l, h)\n",
    "        if root.right:\n",
    "            if root.right.data < h:\n",
    "                c += get_count_of_nodes(root.right, l, h)\n",
    "            else:\n",
    "                c += get_count_of_nodes(root.right.left, l, h)\n",
    "    return c\n",
    "\n",
    "\n",
    "print(get_count_of_nodes(r, l, h))"
   ]
  },
  {
   "cell_type": "markdown",
   "metadata": {},
   "source": [
    "# Merge 2 BSTs\n",
    "\n",
    "https://www.geeksforgeeks.org/merge-two-bsts-with-limited-extra-space/"
   ]
  }
 ],
 "metadata": {
  "kernelspec": {
   "display_name": "Python 3",
   "language": "python",
   "name": "python3"
  },
  "language_info": {
   "codemirror_mode": {
    "name": "ipython",
    "version": 3
   },
   "file_extension": ".py",
   "mimetype": "text/x-python",
   "name": "python",
   "nbconvert_exporter": "python",
   "pygments_lexer": "ipython3",
   "version": "3.6.5"
  },
  "varInspector": {
   "cols": {
    "lenName": 16,
    "lenType": 16,
    "lenVar": 40
   },
   "kernels_config": {
    "python": {
     "delete_cmd_postfix": "",
     "delete_cmd_prefix": "del ",
     "library": "var_list.py",
     "varRefreshCmd": "print(var_dic_list())"
    },
    "r": {
     "delete_cmd_postfix": ") ",
     "delete_cmd_prefix": "rm(",
     "library": "var_list.r",
     "varRefreshCmd": "cat(var_dic_list()) "
    }
   },
   "types_to_exclude": [
    "module",
    "function",
    "builtin_function_or_method",
    "instance",
    "_Feature"
   ],
   "window_display": false
  }
 },
 "nbformat": 4,
 "nbformat_minor": 2
}
