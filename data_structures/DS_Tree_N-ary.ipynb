{
 "cells": [
  {
   "cell_type": "markdown",
   "metadata": {},
   "source": [
    "https://www.geeksforgeeks.org/mirror-of-n-ary-tree/"
   ]
  },
  {
   "cell_type": "code",
   "execution_count": 3,
   "metadata": {
    "code_folding": [
     30
    ]
   },
   "outputs": [],
   "source": [
    "class Node:\n",
    "    def __init__(self, key):\n",
    "        self.key = key\n",
    "        self.child = []\n",
    "\n",
    "\n",
    "# Function to convert a tree to its mirror\n",
    "def mirrorTree(root):\n",
    "\n",
    "    # Base Case : nothing to do if root is None\n",
    "    if not root:\n",
    "        return None\n",
    "\n",
    "    # Calling mirror function for each child\n",
    "    for i in range(len(root.child)):\n",
    "        mirrorTree(root.child[i])\n",
    "\n",
    "    # Reverse variable sized array of child pointers\n",
    "    root.child.reverse()\n",
    "\n",
    "\n",
    "# Prints the n-ary tree level wise\n",
    "def printNodeLevelWise(root):\n",
    "    if root is None:\n",
    "        return\n",
    "\n",
    "    # create a queue and enqueue root to it\n",
    "    queue = []\n",
    "    queue.append(root)\n",
    "\n",
    "    # Do level order traversal. Two loops are used\n",
    "    # to make sure that different levels are printed\n",
    "    # in different lines\n",
    "    while queue:\n",
    "\n",
    "        n = len(queue)\n",
    "        while (n > 0):\n",
    "\n",
    "            # Dequeue an item from queue and print it\n",
    "            p = queue.pop(0)\n",
    "            print(p.key, end=' ')\n",
    "\n",
    "            # Enqueue all children of the dequeued item\n",
    "            for value in p.child:\n",
    "                queue.append(value)\n",
    "\n",
    "            n -= 1\n",
    "        print(\"\")  # Seperator between levels"
   ]
  },
  {
   "cell_type": "code",
   "execution_count": 4,
   "metadata": {
    "code_folding": []
   },
   "outputs": [
    {
     "name": "stdout",
     "output_type": "stream",
     "text": [
      "Level order traversal Before Mirroring\n",
      "10 \n",
      "2 34 56 100 \n",
      "1 7 8 9 \n",
      "\n",
      "Level Order traversal After Mirroring\n",
      "10 \n",
      "100 56 34 2 \n",
      "9 8 7 1 \n"
     ]
    }
   ],
   "source": [
    "\"\"\" Let us create below tree \n",
    "        10 \n",
    "      / / \\ \\ \n",
    "     2 34 56 100 \n",
    "           | / | \\ \n",
    "           1 7 8 9 \n",
    "\"\"\"\n",
    "\n",
    "root = Node(10) \n",
    "root.child.append(Node(2)) \n",
    "root.child.append(Node(34)) \n",
    "root.child.append(Node(56)) \n",
    "root.child.append(Node(100)) \n",
    "root.child[2].child.append(Node(1)) \n",
    "root.child[3].child.append(Node(7)) \n",
    "root.child[3].child.append(Node(8)) \n",
    "root.child[3].child.append(Node(9)) \n",
    "\n",
    "print(\"Level order traversal Before Mirroring\")\n",
    "printNodeLevelWise(root) \n",
    "\n",
    "mirrorTree(root) \n",
    "print(\"\\nLevel Order traversal After Mirroring\")\n",
    "printNodeLevelWise(root) "
   ]
  },
  {
   "cell_type": "code",
   "execution_count": 30,
   "metadata": {},
   "outputs": [
    {
     "name": "stdout",
     "output_type": "stream",
     "text": [
      "[10, 2, 34, 56, 100, 1, 7, 8, 9]\n"
     ]
    }
   ],
   "source": [
    "from collections import deque\n",
    "\n",
    "def breadth_first(root):\n",
    "    nodes = []\n",
    "    values = []\n",
    "    \n",
    "    queue = deque([root])\n",
    "    \n",
    "    while queue:\n",
    "        node = queue.popleft()\n",
    "        \n",
    "        nodes.append(node)\n",
    "        values.append(node.key)\n",
    "        \n",
    "        if node.child:\n",
    "            queue += node.child\n",
    "        \n",
    "    return nodes, values\n",
    "\n",
    "\n",
    "nodes, values = breadth_first(root)\n",
    "print(values)"
   ]
  },
  {
   "cell_type": "code",
   "execution_count": 31,
   "metadata": {},
   "outputs": [
    {
     "name": "stdout",
     "output_type": "stream",
     "text": [
      "[10, 2, 34, 56, 1, 100, 7, 8, 9]\n"
     ]
    }
   ],
   "source": [
    "def depth_first(root):\n",
    "    nodes = []\n",
    "    values = []\n",
    "    \n",
    "    stack = [root]\n",
    "    \n",
    "    while stack:\n",
    "        node = stack.pop()\n",
    "        \n",
    "        nodes.append(node)\n",
    "        values.append(node.key)\n",
    "        \n",
    "        if node.child:\n",
    "            stack += node.child[::-1]\n",
    "        \n",
    "    return nodes, values\n",
    "\n",
    "\n",
    "nodes, values = depth_first(root)\n",
    "print(values)"
   ]
  }
 ],
 "metadata": {
  "kernelspec": {
   "display_name": "Python 3",
   "language": "python",
   "name": "python3"
  },
  "language_info": {
   "codemirror_mode": {
    "name": "ipython",
    "version": 3
   },
   "file_extension": ".py",
   "mimetype": "text/x-python",
   "name": "python",
   "nbconvert_exporter": "python",
   "pygments_lexer": "ipython3",
   "version": "3.6.5"
  },
  "varInspector": {
   "cols": {
    "lenName": 16,
    "lenType": 16,
    "lenVar": 40
   },
   "kernels_config": {
    "python": {
     "delete_cmd_postfix": "",
     "delete_cmd_prefix": "del ",
     "library": "var_list.py",
     "varRefreshCmd": "print(var_dic_list())"
    },
    "r": {
     "delete_cmd_postfix": ") ",
     "delete_cmd_prefix": "rm(",
     "library": "var_list.r",
     "varRefreshCmd": "cat(var_dic_list()) "
    }
   },
   "types_to_exclude": [
    "module",
    "function",
    "builtin_function_or_method",
    "instance",
    "_Feature"
   ],
   "window_display": false
  }
 },
 "nbformat": 4,
 "nbformat_minor": 2
}
