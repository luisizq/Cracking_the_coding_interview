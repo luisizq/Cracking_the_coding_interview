{
 "cells": [
  {
   "cell_type": "markdown",
   "metadata": {},
   "source": [
    "# Dictionaries    "
   ]
  },
  {
   "cell_type": "markdown",
   "metadata": {},
   "source": [
    "- https://www.python-course.eu/python3_dictionaries.php\n",
    "- https://www.tutorialspoint.com/python/python_dictionary.htm"
   ]
  },
  {
   "cell_type": "markdown",
   "metadata": {},
   "source": [
    "- Print keys and values. Note that **Keys** must be of an immutable data type such as **strings, numbers, or tuples**."
   ]
  },
  {
   "cell_type": "code",
   "execution_count": 3,
   "metadata": {
    "code_folding": []
   },
   "outputs": [
    {
     "name": "stdout",
     "output_type": "stream",
     "text": [
      "dict_keys([1, 2, 3, 'abc', (1, 2)])\n",
      "['hello', 'asdf', 123, 'alphabet', 1]\n",
      "dict_items([(1, 'hello'), (2, 'asdf'), (3, 123), ('abc', 'alphabet'), ((1, 2), 1)])\n"
     ]
    }
   ],
   "source": [
    "# .keys(), .values(), .items()\n",
    "dict1 = {1: \"hello\", 2: \"asdf\", 3: 123, \"abc\": \"alphabet\", (1, 2): (1)}\n",
    "\n",
    "print(dict1.keys())\n",
    "a = list(dict1.values())\n",
    "print(a)\n",
    "print(dict1.items())"
   ]
  },
  {
   "cell_type": "markdown",
   "metadata": {},
   "source": [
    " - Access and Assignment "
   ]
  },
  {
   "cell_type": "code",
   "execution_count": 4,
   "metadata": {
    "code_folding": [
     0
    ]
   },
   "outputs": [
    {
     "name": "stdout",
     "output_type": "stream",
     "text": [
      "bad\n",
      "13\n",
      "[1, 2]\n",
      "\n",
      "try\n",
      "\n",
      "hello\n"
     ]
    }
   ],
   "source": [
    "# access dict[key], assignment dict[key]=val\n",
    "dict1 = {1:\"hello\", 2:\"asdf\", 3:123, \"abc\": \"alphabet\", (1,2):(1)}\n",
    "\n",
    "# we can use \"a\" and \"b\" as keys as long as they are\n",
    "a = 12\n",
    "b = (1,\"h\")\n",
    "\n",
    "dict2 = {(\"good\"): \"bad\", \"hello2\": \"wellcome\", a:a+1, b:[1,2], \"hello\":\"good bye\", \"hello\":\"try\"}\n",
    "\n",
    "# ACCESS\n",
    "print( dict2[\"good\"] )\n",
    "print( dict2[a] )\n",
    "print( dict2[b] )\n",
    "\n",
    "# ASSIGNMENT\n",
    "dict2[\"added_key\"] = \"added value\"\n",
    "\n",
    "\n",
    "# There is only one variable linked to a key. For example, in this case the element is \"try\", not \"good bye\"\n",
    "print(\"\\n\" + dict2[\"hello\"] )\n",
    "\n",
    "# You can create a dictionary containing dictionaries:\n",
    "dictgeneral = {\"dictionary 1\":dict1, \"dictionary 2\":dict2}\n",
    "# Accessing:\n",
    "print(\"\\n\" + dictgeneral[\"dictionary 1\"][1] )\n",
    "\n"
   ]
  },
  {
   "cell_type": "markdown",
   "metadata": {},
   "source": [
    "- Methods"
   ]
  },
  {
   "cell_type": "code",
   "execution_count": 24,
   "metadata": {
    "code_folding": [
     0
    ],
    "scrolled": true
   },
   "outputs": [
    {
     "name": "stdout",
     "output_type": "stream",
     "text": [
      "asdf\n",
      "{1: 'hello', 3: 123, 43: 'aaa', 'abc': 'alphabet', (1, 2): 1}\n",
      "\n",
      "popitem from dict1:  (1, 2) 1\n",
      "dict1:  {1: 'hello', 3: 123, 43: 'aaa', 'abc': 'alphabet'}\n",
      "\n",
      "{2: 'b', 3: 'c'}\n",
      "\n",
      "lenght of the list:  4\n",
      "\n",
      "check an item:  True\n",
      "good\n",
      "hello2\n",
      "hello\n",
      "\n",
      "dictcopy:  {1: 'hello', 3: 123, 43: 'aaa', 'abc': 'alphabet'}\n",
      "\n",
      "dictcopy cleared:  {}\n",
      "\n",
      "dict1:  {1: 'hello', 3: 123, 43: 'aaa', 'abc': 'alphabet'}\n",
      "dict2:  {'good': [1, 2, 3], 'hello2': 12, 'hello': 'try', 1: 'hello_from_dict2'}\n",
      "dict1 updated:  {1: 'hello_from_dict2', 3: 123, 43: 'aaa', 'abc': 'alphabet', 'good': [1, 2, 3], 'hello2': 12, 'hello': 'try'}\n"
     ]
    }
   ],
   "source": [
    "# .pop(), .popitem(), del dict[key], len(dict), key in dict, .copy(), .clear(), dict1.update(dict2)\n",
    "dict1 = {1:\"hello\", 2:\"asdf\", 3:123, 43:\"aaa\", \"abc\": \"alphabet\", (1,2):(1)}\n",
    "dict2 = {(\"good\"): [1,2,3], \"hello2\": 12, \"hello\":\"good bye\", \"hello\":\"try\"}\n",
    "\n",
    "# POP\n",
    "a = dict1.pop(2)\n",
    "print(a)\n",
    "print(dict1)\n",
    "\n",
    "\n",
    "# POPITEM - last item\n",
    "(key, value) = dict1.popitem()\n",
    "print(\"\\npopitem from dict1: \",key, value)\n",
    "print(\"dict1: \",dict1)\n",
    "\n",
    "# DEL - almost the same as pop (but it doesn't return a value)\n",
    "dict3 = {1:\"a\", 2:\"b\", 3:\"c\"}\n",
    "del dict3[1]\n",
    "print(\"\")\n",
    "print(dict3)\n",
    "\n",
    "# LEN\n",
    "length = len(dict1)\n",
    "print(\"\\nlenght of the list: \",length)\n",
    "\n",
    "\n",
    "# Key IN dict\n",
    "isgoodindict2 = \"good\" in dict2\n",
    "print(\"\\ncheck an item: \", isgoodindict2)\n",
    "\n",
    "for key in dict2:\n",
    "    print(key)\n",
    "\n",
    "\n",
    "# COPY()\n",
    "# dictcopy = dict1\n",
    "# you cannot do that: if you do that the dictcopy will be the same as dict1 \n",
    "# and if you delete something from dictcopy you will delete something from dict1 too\n",
    "dictcopy = dict1.copy()\n",
    "print(\"\\ndictcopy: \",dictcopy)\n",
    "\n",
    "\n",
    "# CLEAR()\n",
    "dictcopy.clear()\n",
    "print(\"\\ndictcopy cleared: \",dictcopy)\n",
    "\n",
    "\n",
    "# UPDATE(dict2)\n",
    "dict2[1]=\"hello_from_dict2\"\n",
    "print(\"\\ndict1: \",dict1)\n",
    "print(\"dict2: \",dict2)\n",
    "dict1.update(dict2)\n",
    "print(\"dict1 updated: \",dict1)"
   ]
  },
  {
   "cell_type": "markdown",
   "metadata": {},
   "source": [
    "# Set\n",
    "\n",
    "https://docs.python.org/3.6/library/stdtypes.html#set-types-set-frozenset"
   ]
  },
  {
   "cell_type": "code",
   "execution_count": 8,
   "metadata": {
    "code_folding": [
     0
    ]
   },
   "outputs": [
    {
     "name": "stdout",
     "output_type": "stream",
     "text": [
      "<class 'set'>\n",
      "{'element4', 2, 'new', (3, '1', 3)}\n",
      "{1, 2, 3, 4, 5, 'hello'}\n",
      "[1, 5, 2, 1, 1, 1]\n"
     ]
    }
   ],
   "source": [
    "# set={}, set=set([list])\n",
    "a = {'element1',2,(3,'1',3), \"element4\"}\n",
    "\n",
    "a.add(\"new\")\n",
    "a.discard('element1')\n",
    "\n",
    "aux_list = [1,2,2,2,2,2,3,3,4,5,'hello']\n",
    "b = set(aux_list)\n",
    "\n",
    "print( type(a) )\n",
    "print(a)\n",
    "print(b)\n",
    "\n",
    "count = [aux_list.count(x) for x in b]\n",
    "print(count)"
   ]
  },
  {
   "cell_type": "code",
   "execution_count": 2,
   "metadata": {},
   "outputs": [
    {
     "name": "stdout",
     "output_type": "stream",
     "text": [
      "{1, 2, 3, 4, 5, 6}\n"
     ]
    }
   ],
   "source": [
    "# .add(), .discard(), .pop(), set1.update(set2)\n",
    "set1 = set([1,2,3])\n",
    "set2 = set([4,5,6])\n",
    "set1.update(set2)\n",
    "print(set1)"
   ]
  },
  {
   "cell_type": "code",
   "execution_count": null,
   "metadata": {},
   "outputs": [],
   "source": [
    "# .union(), .difference(), .intersection()\n",
    "# .isdisjoint(), .issubset(), .issuperset()"
   ]
  },
  {
   "cell_type": "markdown",
   "metadata": {},
   "source": [
    "# Deque "
   ]
  },
  {
   "cell_type": "code",
   "execution_count": 4,
   "metadata": {},
   "outputs": [
    {
     "name": "stdout",
     "output_type": "stream",
     "text": [
      "deque(['h', 'e', 'l', 'l', 'o', ' ', 'w', 'o', 'r', 'l', 'd'])\n"
     ]
    }
   ],
   "source": [
    "from collections import deque\n",
    " \n",
    "counter = 0\n",
    "queue = deque()\n",
    "\n",
    "inputString = \"hello world\"\n",
    "\n",
    "# initialize the queue\n",
    "for i in range(len(inputString)):\n",
    "    queue.append(inputString[i])\n",
    "print(queue)"
   ]
  },
  {
   "cell_type": "markdown",
   "metadata": {},
   "source": [
    "# Counter\n",
    "\n",
    "Note: ``Counter = defaultdict(int)``"
   ]
  },
  {
   "cell_type": "code",
   "execution_count": 4,
   "metadata": {
    "code_folding": [
     0
    ]
   },
   "outputs": [
    {
     "name": "stdout",
     "output_type": "stream",
     "text": [
      "Counter({2: 5, 3: 2, 1: 1, 4: 1, 5: 1, 'hello': 1})\n",
      "Counter({2: 5, 3: 5, 1: 2, 'hello': 2, 4: 1, 5: 1, 6: 1})\n",
      "Counter({3: 2, 1: 1, 4: 1, 5: 1, 6: 1})\n",
      "[(1, 1), (3, 2), (4, 1), (5, 1), (6, 1)]\n",
      "[1, 2, 1, 1, 1]\n",
      "[1, 3, 4, 5, 6]\n",
      "tot:  6\n",
      "0\n",
      "Counter({3: 2, 1: 1, 4: 1, 5: 1, 6: 1})\n"
     ]
    }
   ],
   "source": [
    "# counter=Counter([list]), counter1 += / -= counter2, .the_same_stuff_as_dictionaries\n",
    "from collections import Counter\n",
    "\n",
    "a = Counter([1,2,2,2,2,2,3,3,4,5,'hello'])\n",
    "print(a)\n",
    "\n",
    "a += Counter([1,3,3,3,'hello'])\n",
    "a[6] += 1\n",
    "print(a)\n",
    "a -= Counter([1,3,3,3,'hello'])\n",
    "#a.subtract({3:3})\n",
    "a.pop('hello')\n",
    "a.pop(2)\n",
    "print(a)\n",
    "\n",
    "items = list( a.items() )\n",
    "values =list( a.values() )\n",
    "keys = list( a.keys() )\n",
    "print( items )\n",
    "print( values )\n",
    "print( keys )\n",
    "print(\"tot: \", sum(a.values()))\n",
    "\n",
    "if \"hello2\" in a:\n",
    "    print(\"yes\")\n",
    "else:\n",
    "    print(a[\"hello2\"])\n",
    "print(a)"
   ]
  },
  {
   "cell_type": "code",
   "execution_count": 7,
   "metadata": {},
   "outputs": [
    {
     "name": "stdout",
     "output_type": "stream",
     "text": [
      "[(3, 5), (2, 5)]\n",
      "dict_keys([1, 3, 2, 4, 5, 6])\n",
      "[1, 3, 3, 3, 3, 3, 2, 2, 2, 2, 2, 4, 5, 6]\n"
     ]
    }
   ],
   "source": [
    "# .most_common(n)  Note: return a list of tuples (key, count)\n",
    "# .elements()\n",
    "a = Counter([1,3,2,2,2,2,2,3,3,3,3,4,5,6])\n",
    "print(a.most_common(2))\n",
    "print(a.keys())\n",
    "print(list(a.elements()))"
   ]
  },
  {
   "cell_type": "markdown",
   "metadata": {},
   "source": [
    "# Default dict "
   ]
  },
  {
   "cell_type": "code",
   "execution_count": 28,
   "metadata": {
    "code_folding": []
   },
   "outputs": [],
   "source": [
    "# default dict with list and default dict with set\n",
    "from collections import defaultdict"
   ]
  },
  {
   "cell_type": "code",
   "execution_count": 7,
   "metadata": {
    "code_folding": []
   },
   "outputs": [
    {
     "name": "stdout",
     "output_type": "stream",
     "text": [
      "defaultdict(<class 'list'>, {1: ['a', 'b'], 2: ['z'], 'hello': ['z']})\n",
      "[]\n",
      "defaultdict(<class 'list'>, {1: ['a', 'b'], 2: ['z'], 'hello': ['z'], 3: []})\n"
     ]
    }
   ],
   "source": [
    "# default list\n",
    "a = defaultdict(list)\n",
    "b = [(1, 'a'), (1, 'b'), (2, 'z'), ('hello', 'z')]\n",
    "for key, val in b:\n",
    "    a[key].append(val)\n",
    "\n",
    "    \n",
    "print(a)\n",
    "print(a[3])\n",
    "print(a)"
   ]
  },
  {
   "cell_type": "code",
   "execution_count": 10,
   "metadata": {
    "code_folding": []
   },
   "outputs": [
    {
     "name": "stdout",
     "output_type": "stream",
     "text": [
      "defaultdict(<class 'set'>, {'red': {1, 3}, 'blue': {2, 4}})\n",
      "set()\n",
      "defaultdict(<class 'set'>, {'red': {1, 3}, 'blue': {2, 4}, 'green': set()})\n"
     ]
    }
   ],
   "source": [
    "# default set in dictionary\n",
    "d = defaultdict(set)\n",
    "for k, v in [('red', 1), ('blue', 2), ('red', 3), ('blue', 4), ('red', 1), ('blue', 4)]:\n",
    "    d[k].add(v)\n",
    "\n",
    "print(d)\n",
    "print(d['green'])\n",
    "print(d)"
   ]
  },
  {
   "cell_type": "code",
   "execution_count": 29,
   "metadata": {},
   "outputs": [
    {
     "name": "stdout",
     "output_type": "stream",
     "text": [
      "defaultdict(<class 'int'>, {1: 2, 2: 4, 3: 6})\n",
      "0\n",
      "defaultdict(<class 'int'>, {1: 2, 2: 4, 3: 6, 4: 0})\n"
     ]
    }
   ],
   "source": [
    "c = defaultdict(int)\n",
    "\n",
    "for i in [1, 2, 3]:\n",
    "    c[i] = i*2\n",
    "    \n",
    "print(c)\n",
    "print(c[4])\n",
    "print(c)"
   ]
  }
 ],
 "metadata": {
  "kernelspec": {
   "display_name": "Python 3",
   "language": "python",
   "name": "python3"
  },
  "language_info": {
   "codemirror_mode": {
    "name": "ipython",
    "version": 3
   },
   "file_extension": ".py",
   "mimetype": "text/x-python",
   "name": "python",
   "nbconvert_exporter": "python",
   "pygments_lexer": "ipython3",
   "version": "3.6.5"
  },
  "varInspector": {
   "cols": {
    "lenName": 16,
    "lenType": 16,
    "lenVar": 40
   },
   "kernels_config": {
    "python": {
     "delete_cmd_postfix": "",
     "delete_cmd_prefix": "del ",
     "library": "var_list.py",
     "varRefreshCmd": "print(var_dic_list())"
    },
    "r": {
     "delete_cmd_postfix": ") ",
     "delete_cmd_prefix": "rm(",
     "library": "var_list.r",
     "varRefreshCmd": "cat(var_dic_list()) "
    }
   },
   "types_to_exclude": [
    "module",
    "function",
    "builtin_function_or_method",
    "instance",
    "_Feature"
   ],
   "window_display": false
  }
 },
 "nbformat": 4,
 "nbformat_minor": 2
}
