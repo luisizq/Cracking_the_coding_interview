{
 "cells": [
  {
   "cell_type": "markdown",
   "metadata": {},
   "source": [
    "# Binary tree"
   ]
  },
  {
   "cell_type": "code",
   "execution_count": 4,
   "metadata": {
    "code_folding": [
     0
    ]
   },
   "outputs": [],
   "source": [
    "class Node():\n",
    "    def __init__(self, data=None, right=None, left=None):\n",
    "\n",
    "        if not ((isinstance(right, Node) or isinstance(right,type(None))) and\n",
    "                (isinstance(left, Node) or isinstance(left,type(None)))):\n",
    "            raise Exception(\"the right and left values must be nodes\")\n",
    "\n",
    "        self.data = data  # self.left (the left child of the node)\n",
    "        self.right = right  # self.right (the right child of the node)\n",
    "        self.left = left  # self.data (the value of the node)"
   ]
  },
  {
   "cell_type": "code",
   "execution_count": 4,
   "metadata": {
    "code_folding": []
   },
   "outputs": [],
   "source": [
    "# build sample tree\n",
    "\"\"\"\n",
    "        N\n",
    "       (1)\n",
    "     /     \\\n",
    "   Nl       Nr\n",
    "   (2)     (3)\n",
    "    \\      /  \\\n",
    "    Nlr   Nrl  Nrr\n",
    "    (4)   (5)  (6)\n",
    "    /\n",
    "  Nlrl\n",
    "  (7)\n",
    "\"\"\"\n",
    "\n",
    "Nlrl = Node(7)\n",
    "Nrl = Node(5)\n",
    "Nrr = Node(6)       \n",
    "Nr = Node(3, Nrr, Nrl)     # Right child\n",
    "Nlr = Node(4, None, Nlrl)\n",
    "Nl = Node(2, Nlr)         # Left child\n",
    "N = Node(1, Nr, Nl)         # Root"
   ]
  },
  {
   "cell_type": "markdown",
   "metadata": {},
   "source": [
    "# Depth-first traversals\n",
    "https://www.geeksforgeeks.org/tree-traversals-inorder-preorder-and-postorder/"
   ]
  },
  {
   "cell_type": "code",
   "execution_count": 6,
   "metadata": {
    "code_folding": [
     2,
     9,
     25,
     32,
     45,
     52
    ]
   },
   "outputs": [
    {
     "name": "stdout",
     "output_type": "stream",
     "text": [
      "\n"
     ]
    }
   ],
   "source": [
    "# depth-first traversals\n",
    "\n",
    "def preOrder_v0(root):\n",
    "    print(root.data,end = ' ')\n",
    "    if root.left:\n",
    "        preOrder(root.left)\n",
    "    if root.right:\n",
    "        preOrder(root.right)\n",
    "        \n",
    "def preOrder(root):\n",
    "    \n",
    "    # end recursion\n",
    "    if root:\n",
    "        print(root.data,end = ' ')\n",
    "        preOrder(root.left)\n",
    "        preOrder(root.right)\n",
    "\"\"\" \n",
    "root - (subtree left) - (subtree right)\n",
    "     1\n",
    "    / \\\n",
    "   2   3\n",
    "\"\"\"\n",
    "\n",
    "\n",
    "\n",
    "def inOrder_v0(root):\n",
    "    if root.left:\n",
    "        inOrder(root.left)\n",
    "    print(root.data,end=' ')\n",
    "    if root.right:\n",
    "        inOrder(root.right)    \n",
    "\n",
    "def inOrder(root):\n",
    "    if root:\n",
    "        inOrder(root.left)\n",
    "        print(root.data,end=' ')\n",
    "        inOrder(root.right)  \n",
    "\"\"\"\n",
    "deepest left - parent - (subtree right)\n",
    "     2\n",
    "    / \\\n",
    "   1   3\n",
    "\"\"\"\n",
    "  \n",
    "\n",
    "def postOrder_v0(root):\n",
    "    if root.left:\n",
    "        postOrder(root.left)\n",
    "    if root.right:\n",
    "        postOrder(root.right)\n",
    "    print(root.data,end=' ')\n",
    "\n",
    "def postOrder(root):\n",
    "    if root:\n",
    "        postOrder(root.left)\n",
    "        postOrder(root.right)\n",
    "        print(root.data,end=' ')\n",
    "\n",
    "\"\"\"\n",
    "deepest left - (subtree right) - parent \n",
    "     3\n",
    "    / \\\n",
    "   1   2\n",
    "\"\"\"\n",
    "print()"
   ]
  },
  {
   "cell_type": "code",
   "execution_count": 19,
   "metadata": {
    "code_folding": [
     0
    ]
   },
   "outputs": [],
   "source": [
    "def in_order_val(root):\n",
    "    sol = []\n",
    "    if root:\n",
    "        sol += in_order_val(root.left)\n",
    "        sol.append(root.data) \n",
    "        sol += in_order_val(root.right)\n",
    "    return sol"
   ]
  },
  {
   "cell_type": "code",
   "execution_count": 20,
   "metadata": {
    "code_folding": [
     0
    ],
    "scrolled": false
   },
   "outputs": [
    {
     "name": "stdout",
     "output_type": "stream",
     "text": [
      "PreOrder\n",
      "1 2 4 7 3 5 6 \n",
      "InOrder\n",
      "2 7 4 1 5 3 6 \n",
      "PostOrder\n",
      "7 4 2 5 6 3 1 \n",
      "\n",
      "InOrder val\n",
      "[2, 7, 4, 1, 5, 3, 6]\n"
     ]
    }
   ],
   "source": [
    "# print - Sample\n",
    "\n",
    "\"\"\"\n",
    "preOrder\n",
    "1 2 4 7 3 5 6 \n",
    "inOrder\n",
    "2 7 4 1 5 3 6 \n",
    "postOrder\n",
    "7 4 2 5 6 3 1 \n",
    "\"\"\"\n",
    "\n",
    "print(\"PreOrder\")\n",
    "preOrder(N)\n",
    "\n",
    "print(\"\\nInOrder\")\n",
    "inOrder(N)\n",
    "    \n",
    "print(\"\\nPostOrder\")    \n",
    "postOrder(N)\n",
    "print()\n",
    "\n",
    "print(\"\\nInOrder val\")\n",
    "print(in_order_val(N))"
   ]
  },
  {
   "cell_type": "markdown",
   "metadata": {},
   "source": [
    "# In-order succesor"
   ]
  },
  {
   "cell_type": "code",
   "execution_count": 8,
   "metadata": {
    "code_folding": [
     1,
     6
    ],
    "scrolled": true
   },
   "outputs": [
    {
     "name": "stdout",
     "output_type": "stream",
     "text": [
      "5\n"
     ]
    }
   ],
   "source": [
    "# in-order succesor\n",
    "def in_order_succesor(node):\n",
    "    if not node.right:\n",
    "        return None\n",
    "    return in_order_succesor_helper(node.right)\n",
    "    \n",
    "def in_order_succesor_helper(node):\n",
    "    \n",
    "    # end recursion\n",
    "    if not node.left:\n",
    "        return node\n",
    "    \n",
    "    # recursion\n",
    "    return in_order_succesor_helper(node.left)\n",
    "\n",
    "sol = in_order_succesor(N)\n",
    "print(sol.data)"
   ]
  },
  {
   "cell_type": "markdown",
   "metadata": {},
   "source": [
    "# Depth"
   ]
  },
  {
   "cell_type": "code",
   "execution_count": 10,
   "metadata": {
    "code_folding": [
     0
    ]
   },
   "outputs": [
    {
     "name": "stdout",
     "output_type": "stream",
     "text": [
      "depth tree:  4\n"
     ]
    }
   ],
   "source": [
    "def depth(tree):\n",
    "    \n",
    "    # end recursion\n",
    "    if not tree:\n",
    "        return 0\n",
    "    \n",
    "    # recursion\n",
    "    depthLeft = 1 + depth(tree.left)\n",
    "    depthRight = 1 + depth(tree.right)\n",
    "    \n",
    "    return max(depthLeft,depthRight)\n",
    "    \n",
    "print('depth tree: ',depth(N))"
   ]
  },
  {
   "cell_type": "code",
   "execution_count": 9,
   "metadata": {
    "code_folding": []
   },
   "outputs": [
    {
     "name": "stdout",
     "output_type": "stream",
     "text": [
      "depth tree:  2\n"
     ]
    }
   ],
   "source": [
    "def min_depth(tree):\n",
    "    \n",
    "    # end recursion\n",
    "    if not tree:\n",
    "        return 0\n",
    "    \n",
    "    # recursion\n",
    "    depthLeft = 1 + min_depth(tree.left)\n",
    "    depthRight = 1 + min_depth(tree.right)\n",
    "    \n",
    "    return min(depthLeft,depthRight)\n",
    "    \n",
    "print('depth tree: ',min_depth(N))"
   ]
  },
  {
   "cell_type": "markdown",
   "metadata": {},
   "source": [
    "# Depth-first search - without recursion \n",
    "\n",
    "http://mishadoff.com/blog/dfs-on-binary-tree-array/"
   ]
  },
  {
   "cell_type": "code",
   "execution_count": 21,
   "metadata": {
    "code_folding": []
   },
   "outputs": [
    {
     "name": "stdout",
     "output_type": "stream",
     "text": [
      "[1, 2, 4, 7, 3, 5, 6]\n",
      "[1, 2, 4, 7, 3, 5, 6]\n",
      "[1, 2, 3, 4, 2, 3, 3]\n"
     ]
    }
   ],
   "source": [
    "def depth_first( root ):\n",
    "    \n",
    "    # it is the same as the preorder\n",
    "    \n",
    "    nodes = []\n",
    "    values = []\n",
    "    heights = []\n",
    "    \n",
    "    stack = [root]\n",
    "    stackheights = [1]\n",
    "    \n",
    "    while stack:\n",
    "        \n",
    "        # VISIT HERE\n",
    "        node = stack.pop()\n",
    "        height = stackheights.pop()\n",
    "        \n",
    "        nodes.append( node )\n",
    "        values.append( node.data )\n",
    "        heights.append( height )\n",
    "\n",
    "        # inverse way - the last item appended is the first popped in the next iteration \n",
    "        if node.right:\n",
    "            stack.append( node.right )\n",
    "            stackheights.append( height + 1)\n",
    "        if node.left:\n",
    "            stack.append( node.left )\n",
    "            stackheights.append( height + 1)\n",
    "            \n",
    "    return nodes, values, heights\n",
    "        \n",
    "nodes, values, heights = depth_first(N)\n",
    "\n",
    "print([i.data for i in nodes])\n",
    "print(values)\n",
    "print(heights)"
   ]
  },
  {
   "cell_type": "code",
   "execution_count": 26,
   "metadata": {
    "code_folding": [
     0,
     1
    ]
   },
   "outputs": [],
   "source": [
    "# A iterative function to do inorder traversal of a given binary tree\n",
    "def depth_first_in_order(root):\n",
    "\n",
    "    # Set current to root of binary tree\n",
    "    current = root\n",
    "    s = [root]\n",
    "    \n",
    "    values = []\n",
    "    \n",
    "    while s:\n",
    "\n",
    "        # Reach the left most Node of the current Node\n",
    "        if current:\n",
    "            s.append(current)\n",
    "            current = current.left\n",
    "        else:\n",
    "            # BackTrack from the empty subtree and visit the Node at the top of the stack; \n",
    "            current = s.pop()\n",
    "            values.append(current.data)\n",
    "\n",
    "            # We have visited the node and its left subtree. Now, it's right subtree's turn\n",
    "            current = current.right\n",
    "        \n",
    "    values.pop()\n",
    "    return values\n",
    "\n",
    "# 2 7 4 1 5 3 6"
   ]
  },
  {
   "cell_type": "code",
   "execution_count": 47,
   "metadata": {
    "code_folding": [
     0
    ]
   },
   "outputs": [],
   "source": [
    "# A iterative function to do postorder traversal of a given binary tree \n",
    "\n",
    "def peek(stack): \n",
    "    if len(stack) > 0: \n",
    "        return stack[-1] \n",
    "    return None\n",
    "\n",
    "\n",
    "def postorder_iterative(root): \n",
    "          \n",
    "    # Check for empty tree \n",
    "    if root is None: \n",
    "        return \n",
    "  \n",
    "    stack = [] \n",
    "      \n",
    "    while(True): \n",
    "          \n",
    "        while (root): \n",
    "            # Push root's right child and then root to stack \n",
    "            if root.right is not None: \n",
    "                stack.append(root.right) \n",
    "            stack.append(root) \n",
    "\n",
    "            # Set root as root's left child \n",
    "            root = root.left \n",
    "\n",
    "        # Pop an item from stack and set it as root \n",
    "        root = stack.pop() \n",
    "  \n",
    "        # If the popped item has a right child and the \n",
    "        # right child is not processed yet, then make sure \n",
    "        # right child is processed before root \n",
    "        if (root.right is not None and \n",
    "            peek(stack) == root.right): \n",
    "            stack.pop() # Remove right child from stack  \n",
    "            stack.append(root) # Push root back to stack \n",
    "            root = root.right # change root so that the  \n",
    "                             # righ childis processed next \n",
    "  \n",
    "        # Else print root's data and set root as None \n",
    "        else: \n",
    "            ans.append(root.data)  \n",
    "            root = None\n",
    "  \n",
    "        if (len(stack) <= 0): \n",
    "                break"
   ]
  },
  {
   "cell_type": "code",
   "execution_count": 50,
   "metadata": {
    "code_folding": [
     0
    ]
   },
   "outputs": [
    {
     "name": "stdout",
     "output_type": "stream",
     "text": [
      "[4, 5, 2, 6, 7, 3, 1]\n"
     ]
    }
   ],
   "source": [
    "# build sample tree\n",
    "root = Node(1) \n",
    "root.left = Node(2) \n",
    "root.right = Node(3) \n",
    "root.left.left = Node(4) \n",
    "root.left.right = Node(5) \n",
    "root.right.left = Node(6) \n",
    "root.right.right = Node(7) \n",
    "\n",
    "ans = []\n",
    "postorder_iterative(root)\n",
    "print(ans)"
   ]
  },
  {
   "cell_type": "markdown",
   "metadata": {},
   "source": [
    "# Breadth-first search"
   ]
  },
  {
   "cell_type": "code",
   "execution_count": null,
   "metadata": {
    "code_folding": []
   },
   "outputs": [],
   "source": [
    "from collections import deque\n",
    "\n",
    "def breadth_first( root ):\n",
    "    \n",
    "    nodes = []\n",
    "    values = []\n",
    "    heights = []\n",
    "    \n",
    "    queue = deque( [root] )\n",
    "    queueheight = deque( [1] )\n",
    "    \n",
    "    while queue:\n",
    "        \n",
    "        # VISIT HERE\n",
    "        curnode = queue.popleft()\n",
    "        height = queueheight.popleft()\n",
    "\n",
    "        nodes.append(curnode)\n",
    "        values.append(curnode.data)\n",
    "        heights.append(height)\n",
    "        \n",
    "        # as we are poping from the left, the first thing appended will be the first thing selected\n",
    "        if curnode.left:\n",
    "            queue.append(curnode.left)\n",
    "            queueheight.append( height + 1)\n",
    "        if curnode.right:\n",
    "            queue.append(curnode.right)\n",
    "            queueheight.append( height + 1)\n",
    "\n",
    "            \n",
    "    return nodes, values, heights\n",
    "\n",
    "\n",
    "nodes, values, heights = breadth_first(N)\n",
    "\n",
    "print('values: ', values )\n",
    "print('nodes: ', [i.data for i in nodes] ) \n",
    "print('heights: ', heights)"
   ]
  },
  {
   "cell_type": "code",
   "execution_count": null,
   "metadata": {
    "code_folding": []
   },
   "outputs": [],
   "source": [
    "# Heights\n",
    "hmax = heights[-1]\n",
    "nodesperheight = [ [] for _ in range(hmax)]\n",
    "for ind, val in enumerate(heights):\n",
    "    nodesperheight[val-1].append(nodes[ind].data)\n",
    "\n",
    "print('nodesperheight: ',nodesperheight)"
   ]
  },
  {
   "cell_type": "markdown",
   "metadata": {},
   "source": [
    "# Sum of leaves "
   ]
  },
  {
   "cell_type": "code",
   "execution_count": 5,
   "metadata": {
    "code_folding": []
   },
   "outputs": [],
   "source": [
    "# without using depth_first\n",
    "class Node_wpar():\n",
    "    def __init__(self, data=None, right=None, left=None, parent=None):\n",
    "        self.data = data\n",
    "        self.right = right\n",
    "        self.left = left\n",
    "        self.parent = parent\n",
    "\n",
    "\n",
    "def get_next_leaf_node(leaf):\n",
    "\n",
    "    prev_node = leaf\n",
    "    cur_node = leaf.parent\n",
    "    isrightbranch = (cur_node.right == prev_node)\n",
    "    #print('node ', cur_node.data)\n",
    "\n",
    "    while (not cur_node.right) or isrightbranch:\n",
    "\n",
    "        prev_node = cur_node\n",
    "        cur_node = cur_node.parent\n",
    "        isrightbranch = (cur_node.right == prev_node)\n",
    "        #print('node ', cur_node.data)\n",
    "\n",
    "        if cur_node.parent == None and isrightbranch:\n",
    "            return None\n",
    "\n",
    "    return get_left_most_leaf_node(cur_node.right)\n",
    "\n",
    "\n",
    "def get_left_most_leaf_node(node):\n",
    "\n",
    "    cur_node = node\n",
    "    while cur_node.left or cur_node.right:\n",
    "        if cur_node.left:\n",
    "            cur_node = cur_node.left\n",
    "        else:\n",
    "            cur_node = cur_node.right\n",
    "    return cur_node\n",
    "\n",
    "\n",
    "def sumleaf(root):\n",
    "\n",
    "    cur_node = root\n",
    "    sum_leaf = 0\n",
    "\n",
    "    cur_node = get_left_most_leaf_node(cur_node)\n",
    "    \n",
    "    if not cur_node:\n",
    "        return None\n",
    "    \n",
    "    while cur_node:\n",
    "        sum_leaf += cur_node.data\n",
    "        cur_node = get_next_leaf_node(cur_node)\n",
    "\n",
    "    return sum_leaf"
   ]
  },
  {
   "cell_type": "code",
   "execution_count": 6,
   "metadata": {
    "code_folding": [
     0
    ]
   },
   "outputs": [
    {
     "name": "stdout",
     "output_type": "stream",
     "text": [
      "18\n"
     ]
    }
   ],
   "source": [
    "# build sample tree with parents\n",
    "\"\"\"\n",
    "        N\n",
    "       (1)\n",
    "     /     \\\n",
    "   Nl       Nr\n",
    "   (2)     (3)\n",
    "    \\      /  \\\n",
    "    Nlr   Nrl  Nrr\n",
    "    (4)   (5)  (6)\n",
    "    /\n",
    "  Nlrl\n",
    "  (7)\n",
    "\"\"\"\n",
    "\n",
    "Nlrl = Node_wpar(7)\n",
    "Nrl = Node_wpar(5)\n",
    "Nrr = Node_wpar(6)       \n",
    "Nr = Node_wpar(3, Nrr, Nrl)     # Right child\n",
    "Nlr = Node_wpar(4, None, Nlrl)\n",
    "Nl = Node_wpar(2, Nlr)         # Left child\n",
    "N = Node_wpar(1, Nr, Nl)         # Root\n",
    "Nl.parent = N\n",
    "Nr.parent = N\n",
    "Nlr.parent = Nl\n",
    "Nrl.parent = Nr\n",
    "Nrr.parent = Nr\n",
    "Nlrl.parent = Nlr\n",
    "\n",
    "print(sumleaf(N))"
   ]
  },
  {
   "cell_type": "code",
   "execution_count": 53,
   "metadata": {
    "code_folding": [
     0
    ]
   },
   "outputs": [
    {
     "name": "stdout",
     "output_type": "stream",
     "text": [
      "[1, 2, 4, 7, 3, 5, 6]\n",
      "[1, 2, 4, 7, 3, 5, 6]\n",
      "18 [False, False, False, True, False, True, True]\n"
     ]
    }
   ],
   "source": [
    "# with depth_first without recursion - but extra memory\n",
    "def depth_first( root ):\n",
    "    \n",
    "    nodes = []\n",
    "    values = []\n",
    "    leaf = []\n",
    "    \n",
    "    stack = [root]\n",
    "    \n",
    "    while stack:\n",
    "        \n",
    "        # VISIT HERE\n",
    "        node = stack.pop()\n",
    "        \n",
    "        nodes.append( node )\n",
    "        values.append( node.data )\n",
    "        leaf.append( node.right is None and node.left is None)\n",
    "\n",
    "        # inverse way - the last item appended is the first popped in the next iteration \n",
    "        if node.right:\n",
    "            stack.append( node.right )\n",
    "        if node.left:\n",
    "            stack.append( node.left )\n",
    "            \n",
    "    return nodes, values, leaf\n",
    "        \n",
    "nodes, values, leaf = depth_first(N)\n",
    "\n",
    "s = 0\n",
    "for i, v in enumerate(leaf):\n",
    "    if v:\n",
    "        s += values[i]\n",
    "        \n",
    "\n",
    "print([i.data for i in nodes])\n",
    "print(values)\n",
    "print(s, leaf)"
   ]
  },
  {
   "cell_type": "markdown",
   "metadata": {},
   "source": [
    "# Construct a tree from traversals \n",
    "\n",
    "For binary tress, the following combination can uniquely identify a tree. https://www.geeksforgeeks.org/if-you-are-given-two-traversal-sequences-can-you-construct-the-binary-tree/\n",
    "\n",
    "\n",
    "- Inorder and Preorder.\n",
    "- Inorder and Postorder.\n",
    "- Inorder and Level-order.\n",
    "\n",
    "But, a full binary tree can be generated from preorder and postorder traversals. https://www.geeksforgeeks.org/full-and-complete-binary-tree-from-given-preorder-and-postorder-traversals/\n",
    "\n",
    "### One simple example: \n",
    "construct a tree from preOrder and inOrder traversals\n",
    "https://www.geeksforgeeks.org/construct-tree-from-given-inorder-and-preorder-traversal/"
   ]
  },
  {
   "cell_type": "code",
   "execution_count": 8,
   "metadata": {
    "code_folding": []
   },
   "outputs": [
    {
     "name": "stdout",
     "output_type": "stream",
     "text": [
      "in-order\n",
      "D B E A F C \n",
      "pre-order\n",
      "A B D E C F "
     ]
    }
   ],
   "source": [
    "def built_tree(inorder, preorder):\n",
    "    \n",
    "    # end recursion\n",
    "    if not inorder:\n",
    "        return None\n",
    "    if len(inorder) == 1:\n",
    "        return Node(inorder[0])\n",
    "    \n",
    "    val = preorder[0]    \n",
    "    index = inorder.index(val)\n",
    "        \n",
    "    inorder_left = inorder[0:index]\n",
    "    inorder_right = inorder[index+1:]\n",
    "    \n",
    "    preorder_left = preorder[1:index+1]\n",
    "    preorder_right = preorder[index+1:]\n",
    "    \n",
    "    root = Node(val)\n",
    "    \n",
    "    # recursion\n",
    "    root.left = built_tree(inorder_left, preorder_left)\n",
    "    root.right = built_tree(inorder_right, preorder_right)\n",
    "\n",
    "    return root\n",
    "    \n",
    "\n",
    "in_order = ['D', 'B', 'E', 'A', 'F', 'C'] \n",
    "pre_order = ['A', 'B', 'D', 'E', 'C', 'F']\n",
    "\n",
    "r = built_tree(in_order, pre_order)\n",
    "\n",
    "print('in-order')\n",
    "inOrder(r)\n",
    "print('\\npre-order')\n",
    "preOrder(r)"
   ]
  },
  {
   "cell_type": "markdown",
   "metadata": {},
   "source": [
    "# Balanced \n",
    "\n",
    "\n",
    "- DEF 1:Just means that the leaves are the same height or at most with 1 level of difference. There might be gaps in the tree though https://www.geeksforgeeks.org/how-to-determine-if-a-binary-tree-is-balanced/\n",
    "\n",
    "\n",
    "- DEF 2: a binary tree in which the depth of the two subtrees of every node never differ by more than 1.\n",
    "\n",
    "- DEF 3: a \"balanced\" tree really means something more like \"not terribly imbalanced:' It's balanced enough to ensure $O( log n)$ times for insert and find, but it's not necessarily as balanced as it could be.\n",
    "\n",
    "\n",
    "Two common types of balanced trees are red-black trees and AVL trees"
   ]
  },
  {
   "cell_type": "markdown",
   "metadata": {},
   "source": [
    "# Complete, Full and Perfect\n",
    "\n",
    "- Complete = every level full except for the last one\n",
    "- Full = every node has 0 or 2 childs\n",
    "- Perfect = Complete and Full"
   ]
  }
 ],
 "metadata": {
  "kernelspec": {
   "display_name": "Python 3",
   "language": "python",
   "name": "python3"
  },
  "language_info": {
   "codemirror_mode": {
    "name": "ipython",
    "version": 3
   },
   "file_extension": ".py",
   "mimetype": "text/x-python",
   "name": "python",
   "nbconvert_exporter": "python",
   "pygments_lexer": "ipython3",
   "version": "3.6.5"
  },
  "varInspector": {
   "cols": {
    "lenName": 16,
    "lenType": 16,
    "lenVar": 40
   },
   "kernels_config": {
    "python": {
     "delete_cmd_postfix": "",
     "delete_cmd_prefix": "del ",
     "library": "var_list.py",
     "varRefreshCmd": "print(var_dic_list())"
    },
    "r": {
     "delete_cmd_postfix": ") ",
     "delete_cmd_prefix": "rm(",
     "library": "var_list.r",
     "varRefreshCmd": "cat(var_dic_list()) "
    }
   },
   "position": {
    "height": "608px",
    "left": "1211.25px",
    "right": "20px",
    "top": "119.992px",
    "width": "350px"
   },
   "types_to_exclude": [
    "module",
    "function",
    "builtin_function_or_method",
    "instance",
    "_Feature"
   ],
   "window_display": false
  }
 },
 "nbformat": 4,
 "nbformat_minor": 2
}
