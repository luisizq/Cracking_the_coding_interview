{
 "cells": [
  {
   "cell_type": "markdown",
   "metadata": {},
   "source": [
    "# FUNCTIONS"
   ]
  },
  {
   "cell_type": "markdown",
   "metadata": {},
   "source": [
    "## Intro"
   ]
  },
  {
   "cell_type": "markdown",
   "metadata": {},
   "source": [
    "INFO:\n",
    "https://www.python-course.eu/python3_functions.php\n",
    "\n",
    "In Python you cannot overload, you just override. In C++ you can overload a function.\n",
    "\n",
    "**Override** (sometimes wrongly said as \"overwrite\") = implement a more specific method in a subclass\n",
    "\n",
    "**Overload** = define the same function (with the same name) but with different arguments and types. The function perform different tasks deppending on the number of parameters / types of parameters.\n",
    "\n",
    "\n",
    "In Python we cannot overload a function: we override it.\n",
    "\n",
    "**Example:**\n",
    "\n",
    "- **Overloading in C++**\n",
    "\n",
    "#include <iostream>\n",
    "    \n",
    "using namespace std;\n",
    "\n",
    "int f(int n) return n + 42;\n",
    "\n",
    "int f(int n, int m) return n + m + 42;\n",
    "\n",
    "int main() {\n",
    "\n",
    "    cout << \"f(3): \" << f(3) << endl;\n",
    "    \n",
    "    cout << \"f(3, 4): \" << f(3, 4) << endl;\n",
    "    \n",
    "    return 0;\n",
    "}\n",
    "\n",
    "OUTPUT:\n",
    "\n",
    "45\n",
    "49\n",
    "\n",
    "\n",
    "- **Overwriting in Python**\n",
    "\n",
    "def f(n):\n",
    "\n",
    "    return n + 42\n",
    "\n",
    "def f(n,m):\n",
    "\n",
    "    return n + m + 42\n",
    "\n",
    "f(3,4)\n",
    "\n",
    "f(3)\n",
    "\n",
    "OUTPUT:\n",
    "\n",
    "48\n",
    "\n",
    "Traceback (most recent call last):\n",
    "\n",
    "    File \"<stdin>\", line 7, in <module>\n",
    "\n",
    "TypeError: f() takes exactly 2 arguments (1 given)\n",
    "    "
   ]
  },
  {
   "cell_type": "markdown",
   "metadata": {},
   "source": [
    "## Name and Docstring"
   ]
  },
  {
   "cell_type": "markdown",
   "metadata": {},
   "source": [
    "Every function will have a name which can be called via ``NameOfTheFunction.__name__``"
   ]
  },
  {
   "cell_type": "code",
   "execution_count": 1,
   "metadata": {},
   "outputs": [
    {
     "name": "stdout",
     "output_type": "stream",
     "text": [
      "Hello Peter!\n",
      "Hello everybody!\n",
      "The docstring of the function: Greets a person\n",
      "The name of the function: Hello\n"
     ]
    }
   ],
   "source": [
    "def Hello(name=\"everybody\"):\n",
    "    \n",
    "    \"\"\"Greets a person\"\"\"\n",
    "    \n",
    "    print(\"Hello \" + name + \"!\")\n",
    "\n",
    "\n",
    "Hello(\"Peter\")\n",
    "Hello()\n",
    "\n",
    "print(\"The docstring of the function: \" + Hello.__doc__)\n",
    "print(\"The name of the function: \" + Hello.__name__)"
   ]
  },
  {
   "cell_type": "markdown",
   "metadata": {},
   "source": [
    "## Parameters 1: Positional parameters"
   ]
  },
  {
   "cell_type": "code",
   "execution_count": 7,
   "metadata": {},
   "outputs": [
    {
     "name": "stdout",
     "output_type": "stream",
     "text": [
      "-1\n"
     ]
    }
   ],
   "source": [
    "def sumsub(a, b):\n",
    "    return a - b\n",
    "\n",
    "print(sumsub(1,2))"
   ]
  },
  {
   "cell_type": "markdown",
   "metadata": {},
   "source": [
    "## Paramaters 2: Keywords parameters"
   ]
  },
  {
   "cell_type": "code",
   "execution_count": 9,
   "metadata": {
    "scrolled": true
   },
   "outputs": [
    {
     "name": "stdout",
     "output_type": "stream",
     "text": [
      "-1\n",
      "2\n",
      "-2\n",
      "2\n",
      "-2\n",
      "-2\n",
      "-5\n"
     ]
    }
   ],
   "source": [
    "def sumsub(a, b, c=0, d=0):\n",
    "    return a - b + c - d\n",
    "\n",
    "# there is no need to specify the keywords and they will act as positional parameters\n",
    "print(sumsub(1,2))\n",
    "print(sumsub(1,2,3))\n",
    "print(sumsub(1,2,3,4))\n",
    "\n",
    "# there is no need of adding them in order as far as they are after the positional parameters\n",
    "print(sumsub(1,2,c=3))\n",
    "print(sumsub(1,2,d=4,c=3))\n",
    "print(sumsub(1,2,c=3,d=4))\n",
    "print(sumsub(1,2,d=4))\n",
    "# you cannot do: print(sumsub(d=4,c=3,1,2))"
   ]
  },
  {
   "cell_type": "markdown",
   "metadata": {},
   "source": [
    "This kind of parameters can be used as **optional parameters**"
   ]
  },
  {
   "cell_type": "code",
   "execution_count": 4,
   "metadata": {},
   "outputs": [
    {
     "name": "stdout",
     "output_type": "stream",
     "text": [
      "Hello Peter!\n",
      "Hello everybody!\n"
     ]
    }
   ],
   "source": [
    "def Hello(name=\"everybody\"):\n",
    "    \"\"\" Greets a person \"\"\"\n",
    "    print(\"Hello \" + name + \"!\")\n",
    "\n",
    "Hello(\"Peter\")\n",
    "Hello()"
   ]
  },
  {
   "cell_type": "markdown",
   "metadata": {},
   "source": [
    "## Arbitrary number of parameters 1: positional parameters"
   ]
  },
  {
   "cell_type": "markdown",
   "metadata": {},
   "source": [
    "The operator star ``*`` is used to unpack or singularise a list"
   ]
  },
  {
   "cell_type": "code",
   "execution_count": 1,
   "metadata": {},
   "outputs": [
    {
     "name": "stdout",
     "output_type": "stream",
     "text": [
      "61.0\n",
      "42502.3275\n",
      "38.5\n",
      "45.0\n"
     ]
    }
   ],
   "source": [
    "def arithmetic_mean(first, *values):\n",
    "    \"\"\" \n",
    "    This function calculates the arithmetic mean of a non-empty\n",
    "    arbitrary number of numerical values\n",
    "    \"\"\"\n",
    "\n",
    "    return (first + sum(values)) / (1 + len(values))\n",
    "\n",
    "print( arithmetic_mean(45, 32, 89, 78) )\n",
    "print( arithmetic_mean(45) )"
   ]
  },
  {
   "cell_type": "code",
   "execution_count": 4,
   "metadata": {},
   "outputs": [
    {
     "data": {
      "text/plain": [
       "9.0"
      ]
     },
     "execution_count": 4,
     "metadata": {},
     "output_type": "execute_result"
    }
   ],
   "source": [
    "def my_mean(*marks):\n",
    "    return( sum(marks) / len(marks) )\n",
    "\n",
    "# Option 1\n",
    "# my_mean(9, 10, 8, 8, 10)\n",
    "\n",
    "# Option 2\n",
    "my_marks = [9, 10, 8, 8, 10]\n",
    "my_mean(*my_marks)"
   ]
  },
  {
   "cell_type": "code",
   "execution_count": 13,
   "metadata": {},
   "outputs": [
    {
     "name": "stdout",
     "output_type": "stream",
     "text": [
      "[1, 2, 3, 4]\n",
      "1 2 3 4\n"
     ]
    }
   ],
   "source": [
    "print( [1,2,3,4] )\n",
    "print(*[1,2,3,4] )"
   ]
  },
  {
   "cell_type": "markdown",
   "metadata": {},
   "source": [
    "**More uses** of the star operator"
   ]
  },
  {
   "cell_type": "code",
   "execution_count": 27,
   "metadata": {},
   "outputs": [
    {
     "name": "stdout",
     "output_type": "stream",
     "text": [
      "('a', 232) ('b', 343) ('c', 543) ('d', 23)\n",
      "[('a', 'b', 'c', 'd'), (232, 343, 543, 23)]\n"
     ]
    }
   ],
   "source": [
    "mylist = [('a', 232), ('b', 343), ('c', 543), ('d', 23)]\n",
    "\n",
    "print( *mylist)\n",
    "\n",
    "reversedlist = list( zip(*mylist) )\n",
    "print(reversedlist)"
   ]
  },
  {
   "cell_type": "markdown",
   "metadata": {},
   "source": [
    "## Arbitrary number of parameters 2: keyword parameters"
   ]
  },
  {
   "cell_type": "code",
   "execution_count": 2,
   "metadata": {},
   "outputs": [
    {
     "name": "stdout",
     "output_type": "stream",
     "text": [
      "{}\n",
      "{'de': 'German', 'en': 'English', 'fr': 'French'}\n"
     ]
    }
   ],
   "source": [
    "def f(**kwargs):\n",
    "    print(kwargs)\n",
    "\n",
    "f()\n",
    "f(de=\"German\",en=\"English\",fr=\"French\")"
   ]
  },
  {
   "cell_type": "markdown",
   "metadata": {},
   "source": [
    "## Arbitrary number of parameters 3: both"
   ]
  },
  {
   "cell_type": "code",
   "execution_count": 1,
   "metadata": {},
   "outputs": [
    {
     "name": "stdout",
     "output_type": "stream",
     "text": [
      "Example 1:\n",
      "Positional: (3, 'hello', [1, 2, 3])\n",
      "Keywords: {}\n",
      "Items: dict_items([])\n",
      "Keys: dict_keys([])\n",
      "Example 2:\n",
      "Positional: ()\n",
      "Keywords: {'a': 3, 'b': 4}\n",
      "Items: dict_items([('a', 3), ('b', 4)])\n",
      "Keys: dict_keys(['a', 'b'])\n",
      "Example 3:\n",
      "Positional: (3, 'hello')\n",
      "Keywords: {'a': 4}\n",
      "Items: dict_items([('a', 4)])\n",
      "Keys: dict_keys(['a'])\n"
     ]
    }
   ],
   "source": [
    "def foo(*positional, **keywords):\n",
    "    print( \"Positional:\", positional )\n",
    "    print( \"Keywords:\", keywords )\n",
    "    print( \"Items:\", keywords.items())\n",
    "    print( \"Keys:\", keywords.keys())\n",
    "    \n",
    "print(\"Example 1:\")\n",
    "foo( 3, 'hello', [1,2,3])\n",
    "\n",
    "print(\"Example 2:\")\n",
    "foo( a = 3, b = 4)\n",
    "\n",
    "print(\"Example 3:\")\n",
    "foo( 3, 'hello', a = 4)\n",
    "# you cannot do foo(a=3, 'hola')"
   ]
  },
  {
   "cell_type": "code",
   "execution_count": 14,
   "metadata": {},
   "outputs": [
    {
     "name": "stdout",
     "output_type": "stream",
     "text": [
      "Before calling random\n",
      "0.21938473348176124\n",
      "After calling random\n",
      "Before calling randint\n",
      "8\n",
      "After calling randint\n",
      "Before calling choice\n",
      "4\n",
      "After calling choice\n"
     ]
    }
   ],
   "source": [
    "# EXAMPLE\n",
    "\n",
    "from random import random, randint, choice\n",
    "\n",
    "def our_decorator(func):\n",
    "    def function_wrapper(*args, **kwargs):\n",
    "        print(\"Before calling \" + func.__name__)\n",
    "        res = func(*args, **kwargs)\n",
    "        print(res)\n",
    "        print(\"After calling \" + func.__name__)\n",
    "    return function_wrapper\n",
    "\n",
    "random = our_decorator(random)\n",
    "randint = our_decorator(randint)\n",
    "choice = our_decorator(choice)\n",
    "\n",
    "random()\n",
    "randint(3, 8)\n",
    "choice([4, 5, 6])"
   ]
  },
  {
   "cell_type": "markdown",
   "metadata": {},
   "source": [
    "## Methods for \"Overloading\" functions in Python"
   ]
  },
  {
   "cell_type": "markdown",
   "metadata": {},
   "source": [
    "**Way 1:** using keyword parameters (optional parameters)"
   ]
  },
  {
   "cell_type": "code",
   "execution_count": 17,
   "metadata": {},
   "outputs": [
    {
     "name": "stdout",
     "output_type": "stream",
     "text": [
      "43\n",
      "45\n"
     ]
    }
   ],
   "source": [
    "def f(n, m=None):\n",
    "    if m:\n",
    "        return n + m +42\n",
    "    else:\n",
    "        return n + 42\n",
    "    \n",
    "print(f(1))\n",
    "print(f(1,2))"
   ]
  },
  {
   "cell_type": "markdown",
   "metadata": {},
   "source": [
    "**Way 2**: using an arbitary number of parameters"
   ]
  },
  {
   "cell_type": "code",
   "execution_count": 18,
   "metadata": {},
   "outputs": [
    {
     "name": "stdout",
     "output_type": "stream",
     "text": [
      "43\n",
      "45\n"
     ]
    }
   ],
   "source": [
    "def f(*x):\n",
    "    if len(x) == 1:\n",
    "        return x[0] + 42\n",
    "    else: \n",
    "        return x[0] + x[1] + 42\n",
    "    \n",
    "print(f(1))\n",
    "print(f(1,2))"
   ]
  },
  {
   "cell_type": "markdown",
   "metadata": {},
   "source": [
    "## Variables: Local vs Global"
   ]
  },
  {
   "cell_type": "markdown",
   "metadata": {},
   "source": [
    "We can use **global variables** in any function (if the global variables have been initialised)"
   ]
  },
  {
   "cell_type": "code",
   "execution_count": 25,
   "metadata": {},
   "outputs": [
    {
     "name": "stdout",
     "output_type": "stream",
     "text": [
      "Python\n"
     ]
    }
   ],
   "source": [
    "def f(): \n",
    "    print(s)\n",
    "s = \"Python\"\n",
    "f()"
   ]
  },
  {
   "cell_type": "markdown",
   "metadata": {},
   "source": [
    "Also, we can have **local variables** with the same name as global variables. In that case, we will be using only the local variables, not the global ones."
   ]
  },
  {
   "cell_type": "code",
   "execution_count": 26,
   "metadata": {},
   "outputs": [
    {
     "name": "stdout",
     "output_type": "stream",
     "text": [
      "Perl\n",
      "Python\n"
     ]
    }
   ],
   "source": [
    "def f(): \n",
    "    s = \"Perl\"\n",
    "    print(s) \n",
    "\n",
    "\n",
    "s = \"Python\"\n",
    "f()\n",
    "print(s)"
   ]
  },
  {
   "cell_type": "markdown",
   "metadata": {},
   "source": [
    "Here we have an error: the variable s is used firstly as a global one and then as a local one, which cannot be done"
   ]
  },
  {
   "cell_type": "code",
   "execution_count": 29,
   "metadata": {},
   "outputs": [
    {
     "data": {
      "text/plain": [
       "'\\ndef f(): \\n    print(s)\\n    s = \"Perl\"\\n    print(s)\\n\\n\\ns = \"Python\" \\nf()\\nprint(s)\\n'"
      ]
     },
     "execution_count": 29,
     "metadata": {},
     "output_type": "execute_result"
    }
   ],
   "source": [
    "\"\"\"\n",
    "def f(): \n",
    "    print(s)\n",
    "    s = \"Perl\"\n",
    "    print(s)\n",
    "\n",
    "\n",
    "s = \"Python\" \n",
    "f()\n",
    "print(s)\n",
    "\"\"\""
   ]
  },
  {
   "cell_type": "markdown",
   "metadata": {},
   "source": [
    "We can create **global variables** inside a function is we want to. We do so by using the global statement"
   ]
  },
  {
   "cell_type": "code",
   "execution_count": 3,
   "metadata": {},
   "outputs": [
    {
     "name": "stdout",
     "output_type": "stream",
     "text": [
      "cat\n",
      "dog\n",
      "dog\n"
     ]
    }
   ],
   "source": [
    "def f():\n",
    "    global s\n",
    "    s = \"dog\"\n",
    "    print(s) \n",
    "\n",
    "s = \"cat\" \n",
    "print(s)\n",
    "f()\n",
    "print(s)"
   ]
  }
 ],
 "metadata": {
  "kernelspec": {
   "display_name": "Python 3",
   "language": "python",
   "name": "python3"
  },
  "language_info": {
   "codemirror_mode": {
    "name": "ipython",
    "version": 3
   },
   "file_extension": ".py",
   "mimetype": "text/x-python",
   "name": "python",
   "nbconvert_exporter": "python",
   "pygments_lexer": "ipython3",
   "version": "3.6.5"
  },
  "varInspector": {
   "cols": {
    "lenName": 16,
    "lenType": 16,
    "lenVar": 40
   },
   "kernels_config": {
    "python": {
     "delete_cmd_postfix": "",
     "delete_cmd_prefix": "del ",
     "library": "var_list.py",
     "varRefreshCmd": "print(var_dic_list())"
    },
    "r": {
     "delete_cmd_postfix": ") ",
     "delete_cmd_prefix": "rm(",
     "library": "var_list.r",
     "varRefreshCmd": "cat(var_dic_list()) "
    }
   },
   "types_to_exclude": [
    "module",
    "function",
    "builtin_function_or_method",
    "instance",
    "_Feature"
   ],
   "window_display": false
  }
 },
 "nbformat": 4,
 "nbformat_minor": 2
}
