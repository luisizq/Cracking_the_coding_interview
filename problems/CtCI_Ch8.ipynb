{
 "cells": [
  {
   "cell_type": "code",
   "execution_count": 14,
   "metadata": {},
   "outputs": [
    {
     "name": "stdout",
     "output_type": "stream",
     "text": [
      "1\n",
      "None\n"
     ]
    }
   ],
   "source": [
    "def magic_ind( alist ):\n",
    "    for i in range(len(alist)-1, -1, -1):\n",
    "        if alist[i] <= i:\n",
    "            # print( 'there is a magic index')\n",
    "            break\n",
    "        return -1\n",
    "\n",
    "    while i > -1:\n",
    "        if alist[i] == i:\n",
    "            return i\n",
    "        i -= 1\n",
    "\n",
    "print( magic_ind( [0,1,1,1,2,2,3,4] ))\n",
    "\n",
    "def magic_ind2( alist ):\n",
    "    \n",
    "    low = 0\n",
    "    high = len(alist) - 1\n",
    "    found = False\n",
    "    \n",
    "    while low <= high and not found:\n",
    "        \n",
    "        mid = (low + high) // 2\n",
    "        \n",
    "        if alist[mid] == mid:\n",
    "            return mid\n",
    "        \n",
    "        else:\n",
    "            if alist[mid] < mid:\n",
    "                low = mid+1\n",
    "            else:\n",
    "                high = mid-1\n",
    "    return None\n",
    "    \n",
    "a = [-10, -2, 0, 1, 5,  6, 7, 10]\n",
    "print( magic_ind2( a ) )"
   ]
  },
  {
   "cell_type": "code",
   "execution_count": null,
   "metadata": {},
   "outputs": [],
   "source": [
    "def move_robot( r, c, x, y):\n",
    "    \n",
    "    # move to the right\n",
    "    if x < c:\n",
    "        move_robot( r, c, x+1, y)\n",
    "\n",
    "    # move to the left\n",
    "    elif y > -1:\n",
    "        move_robot( r, c, x, y-1)\n",
    "\n",
    "    else:\n",
    "        print( 'finished at position: ', x, y)\n",
    "\n",
    "print( move_robot(10,20,0,9) )"
   ]
  },
  {
   "cell_type": "code",
   "execution_count": 9,
   "metadata": {},
   "outputs": [
    {
     "name": "stdout",
     "output_type": "stream",
     "text": [
      "[1, 2, 3, 4]\n",
      "[{1}, {1, 2}, {1, 2, 3}, {1, 2, 3, 4}, {2}, {2, 3}, {2, 3, 4}, {3}, {3, 4}, {4}]\n"
     ]
    }
   ],
   "source": [
    "def subsets( aset ):\n",
    "    l = len(aset)\n",
    "    setlist = list( aset )\n",
    "    print(setlist)\n",
    "    sol = []\n",
    "    for i in range(l):\n",
    "        auxset = {setlist[i]}\n",
    "        sol.append( auxset.copy() )\n",
    "        for j in range(i+1,l):\n",
    "            auxset.add( setlist[j] )\n",
    "            sol.append( auxset.copy() )\n",
    "    return sol\n",
    "\n",
    "print(subsets( {1,2,3,4} ) )"
   ]
  },
  {
   "cell_type": "code",
   "execution_count": 21,
   "metadata": {},
   "outputs": [
    {
     "name": "stdout",
     "output_type": "stream",
     "text": [
      "[[], [4], [3], [4, 3], [2], [4, 2], [3, 2], [4, 3, 2], [1], [4, 1], [3, 1], [4, 3, 1], [2, 1], [4, 2, 1], [3, 2, 1], [4, 3, 2, 1]]\n"
     ]
    }
   ],
   "source": [
    "def getSubsets(setz, index):\n",
    "    \n",
    "    allSubsets = []\n",
    "    if len(setz) == index:\n",
    "        #base case - add empty set\n",
    "        if [] not in allSubsets:\n",
    "            allSubsets.append([])\n",
    "    else:\n",
    "        allSubsets = getSubsets(setz, index+1)\n",
    "        item = setz[index]\n",
    "        moreSubsets = []\n",
    "        for subset in allSubsets:\n",
    "            newSubset = []\n",
    "            [newSubset.append(value) for value in subset if value not in newSubset]\n",
    "            newSubset.append(item)\n",
    "            moreSubsets.append(newSubset)\n",
    "        [allSubsets.append(value) for value in moreSubsets if value not in newSubset]\n",
    "    return allSubsets\n",
    "\n",
    "print(getSubsets([1,2,3,4],0))"
   ]
  },
  {
   "cell_type": "code",
   "execution_count": 20,
   "metadata": {},
   "outputs": [
    {
     "name": "stdout",
     "output_type": "stream",
     "text": [
      "['abcd ', 'bacd ', 'bcad ', 'bcda ', 'acbd ', 'cabd ', 'cbad ', 'cbda ', 'acdb ', 'cadb ', 'cdab ', 'cdba ', 'abdc ', 'badc ', 'bdac ', 'bdca ', 'adbc ', 'dabc ', 'dbac ', 'dbca ', 'adcb ', 'dacb ', 'dcab ', 'dcba ']\n"
     ]
    }
   ],
   "source": [
    "# approach 1: building from permutations of first n-1 characters\n",
    "def getPerms(string):\n",
    "    \n",
    "    permutations = []\n",
    "    \n",
    "    # end recursion\n",
    "    if string == None:\n",
    "        return None\n",
    "    if len(string) == 0:\n",
    "        #base case\n",
    "        permutations.append(\" \")\n",
    "        return permutations\n",
    "    \n",
    "    \n",
    "    first = string[0] #get first letter in string\n",
    "    remainder = string[1:]\n",
    "    \n",
    "    words = getPerms(remainder)\n",
    "    \n",
    "    for word in words:\n",
    "        for index in range(len(word)):\n",
    "            s = word[:index] + first + word[index:]\n",
    "            permutations.append(s)\n",
    "    \n",
    "    return permutations\n",
    "\n",
    "\n",
    "print(getPerms(\"abcd\"))"
   ]
  },
  {
   "cell_type": "code",
   "execution_count": 27,
   "metadata": {},
   "outputs": [
    {
     "name": "stdout",
     "output_type": "stream",
     "text": [
      "['hello', 'helol', 'heoll', 'hlelo', 'hleol', 'hlleo', 'hlloe', 'hloel', 'hlole', 'hoell', 'holel', 'holle', 'ehllo', 'ehlol', 'eholl', 'elhlo', 'elhol', 'ellho', 'elloh', 'elohl', 'elolh', 'eohll', 'eolhl', 'eollh', 'lhelo', 'lheol', 'lhleo', 'lhloe', 'lhoel', 'lhole', 'lehlo', 'lehol', 'lelho', 'leloh', 'leohl', 'leolh', 'llheo', 'llhoe', 'lleho', 'lleoh', 'llohe', 'lloeh', 'lohel', 'lohle', 'loehl', 'loelh', 'lolhe', 'loleh', 'ohell', 'ohlel', 'ohlle', 'oehll', 'oelhl', 'oellh', 'olhel', 'olhle', 'olehl', 'olelh', 'ollhe', 'olleh']\n"
     ]
    }
   ],
   "source": [
    "def printPerms(string):\n",
    "    result = []\n",
    "    letterCountMap = buildFreqTable(string)\n",
    "    printPermsInner(letterCountMap, \"\", len(string), result)\n",
    "    return result\n",
    "\n",
    "#returns dictionary <string, integer>\n",
    "def buildFreqTable(string):\n",
    "    letterCountMap = {}\n",
    "    for letter in string:\n",
    "        if letter not in letterCountMap:\n",
    "            letterCountMap[letter] = 0\n",
    "        letterCountMap[letter] += 1\n",
    "    return letterCountMap\n",
    "\n",
    "def printPermsInner(letterCountMap, prefix, remaining, result):\n",
    "    #base case Permutation has been completed\n",
    "    if remaining == 0:\n",
    "        result.append(prefix)\n",
    "        return\n",
    "    #try remaining letter for next char, and generate remaining permutations\n",
    "    for character in letterCountMap:\n",
    "        count = letterCountMap[character]\n",
    "        if count > 0:\n",
    "            letterCountMap[character] -= 1\n",
    "            printPermsInner(letterCountMap, prefix + character, remaining - 1, result)\n",
    "            letterCountMap[character] = count\n",
    "\n",
    "print(printPerms(\"hello\"))"
   ]
  },
  {
   "cell_type": "code",
   "execution_count": 30,
   "metadata": {
    "code_folding": [
     0
    ]
   },
   "outputs": [
    {
     "name": "stdout",
     "output_type": "stream",
     "text": [
      "{}{}{}\n",
      "{}{{}}\n",
      "{{}}{}\n",
      "{{}{}}\n",
      "{{{}}}\n"
     ]
    }
   ],
   "source": [
    "# Wrapper over _printParenthesis() \n",
    "def printParenthesis(str, n): \n",
    "    if(n > 0): \n",
    "        _printParenthesis(str, 0, n, 0, 0); \n",
    "    return None; \n",
    "  \n",
    "def _printParenthesis(str, pos, n, open, close): \n",
    "    \n",
    "    if(close == n): \n",
    "        for i in str: \n",
    "            print(i, end = \"\"); \n",
    "        print(); \n",
    "        return;\n",
    "    else: \n",
    "        if(open > close): \n",
    "            str[pos] = '}'; \n",
    "            _printParenthesis(str, pos + 1, n, open, close + 1); \n",
    "        if(open < n): \n",
    "            str[pos] = '{'; \n",
    "            _printParenthesis(str, pos + 1, n, open + 1, close); \n",
    "    return None\n",
    "  \n",
    "# DRIVE CODE\n",
    "n = 3; \n",
    "str = [\"\"] * 2 * n; \n",
    "printParenthesis(str, n); "
   ]
  },
  {
   "cell_type": "code",
   "execution_count": 35,
   "metadata": {
    "code_folding": [
     0,
     17
    ]
   },
   "outputs": [
    {
     "name": "stdout",
     "output_type": "stream",
     "text": [
      "((()))\n",
      "(()())\n",
      "(())()\n",
      "()(())\n",
      "()()()\n"
     ]
    }
   ],
   "source": [
    "def putparenthesis( sol , n ):\n",
    "    newsol = []\n",
    "    for s in sol:\n",
    "        nopen = 0\n",
    "        nclose = 0\n",
    "        for i in s:\n",
    "            if i == '(':\n",
    "                nopen += 1\n",
    "            else:\n",
    "                nclose += 1\n",
    "        if nopen < n:\n",
    "            newsol.append( s + '(' )\n",
    "        if nclose < nopen:\n",
    "            newsol.append( s + ')' )\n",
    "    return newsol\n",
    "\n",
    "def printparenthesis( n ):\n",
    "\n",
    "    sol = ['(']\n",
    "    for i in range(1,2*n):\n",
    "        sol = putparenthesis( sol , n )\n",
    "    return sol\n",
    "             \n",
    "print( '\\n'.join(printparenthesis(3)) )"
   ]
  },
  {
   "cell_type": "code",
   "execution_count": 36,
   "metadata": {},
   "outputs": [
    {
     "data": {
      "text/plain": [
       "3"
      ]
     },
     "execution_count": 36,
     "metadata": {},
     "output_type": "execute_result"
    }
   ],
   "source": [
    "a = [1,2,3,4]\n",
    "a[-2]"
   ]
  },
  {
   "cell_type": "code",
   "execution_count": 38,
   "metadata": {
    "code_folding": []
   },
   "outputs": [
    {
     "name": "stdout",
     "output_type": "stream",
     "text": [
      "12655621\n"
     ]
    }
   ],
   "source": [
    "def applyminchanges( s, k ):\n",
    "    s = list(s)\n",
    "    for i in range(len(s) // 2):\n",
    "        if s[i] != s[-1-i]:\n",
    "            val = max( s[i], s[-1-i] )\n",
    "            s[i] = val\n",
    "            s[-1-i] = val\n",
    "    return ''.join(s)\n",
    "\n",
    "def applychanges( s, k , minchanges):\n",
    "    sol = applyminchanges( s, k )\n",
    "    sol = list(sol)\n",
    "    nleft = k - minchanges\n",
    "    if len(s)%2 == 0:\n",
    "        if nleft%2 == 1:\n",
    "            nleft -= 1\n",
    "        for i in range(nleft/2):\n",
    "            sol[i] = 9\n",
    "            sol[-1-i] = 9\n",
    "    else:\n",
    "        if nleft%2 == 0:\n",
    "            nleft -= 1\n",
    "        for i in range(nleft//2):\n",
    "            sol[i] = 9\n",
    "            sol[-1-i] = 9\n",
    "        sol[len(sol)//2+1] = 9\n",
    "    return ''.join(sol)\n",
    "\n",
    "def highestValuePalindrome(s, n, k):\n",
    "    \n",
    "    minchanges = 0\n",
    "    for i in range(len(s) // 2):\n",
    "        if s[i] != s[-1-i]:\n",
    "            minchanges += 1\n",
    "\n",
    "    if minchanges < k:\n",
    "        return -1\n",
    "    elif minchanges == k:\n",
    "        sol = applyminchanges( s , k )\n",
    "        return sol\n",
    "    else:\n",
    "        sol = applychanges( s , k , minchanges)\n",
    "        return sol\n",
    "    \n",
    "\n",
    "s = '12345621'\n",
    "k = 2\n",
    "\n",
    "print(highestValuePalindrome(s, len(s), k))"
   ]
  }
 ],
 "metadata": {
  "kernelspec": {
   "display_name": "Python 3",
   "language": "python",
   "name": "python3"
  },
  "language_info": {
   "codemirror_mode": {
    "name": "ipython",
    "version": 3
   },
   "file_extension": ".py",
   "mimetype": "text/x-python",
   "name": "python",
   "nbconvert_exporter": "python",
   "pygments_lexer": "ipython3",
   "version": "3.6.5"
  },
  "varInspector": {
   "cols": {
    "lenName": 16,
    "lenType": 16,
    "lenVar": 40
   },
   "kernels_config": {
    "python": {
     "delete_cmd_postfix": "",
     "delete_cmd_prefix": "del ",
     "library": "var_list.py",
     "varRefreshCmd": "print(var_dic_list())"
    },
    "r": {
     "delete_cmd_postfix": ") ",
     "delete_cmd_prefix": "rm(",
     "library": "var_list.r",
     "varRefreshCmd": "cat(var_dic_list()) "
    }
   },
   "types_to_exclude": [
    "module",
    "function",
    "builtin_function_or_method",
    "instance",
    "_Feature"
   ],
   "window_display": false
  }
 },
 "nbformat": 4,
 "nbformat_minor": 2
}
