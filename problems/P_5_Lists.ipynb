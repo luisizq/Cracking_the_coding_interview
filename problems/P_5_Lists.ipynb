{
 "cells": [
  {
   "cell_type": "markdown",
   "metadata": {},
   "source": [
    "# Max index j-i\n",
    "\n",
    "Where $A(i) \\leq A(j)$\n",
    "- https://practice.geeksforgeeks.org/problems/maximum-index/0"
   ]
  },
  {
   "cell_type": "code",
   "execution_count": 4,
   "metadata": {
    "code_folding": [
     0
    ]
   },
   "outputs": [
    {
     "name": "stdout",
     "output_type": "stream",
     "text": [
      "6\n"
     ]
    }
   ],
   "source": [
    "def find_max_separation(a):\n",
    "    \n",
    "    # set up variables\n",
    "    maxleft = [a[0]]\n",
    "    maxright = [a[-1]]\n",
    "    \n",
    "    for i in range(1,len(a)):\n",
    "        \n",
    "        maxleft.append( min(a[i], maxleft[i-1]) )\n",
    "        maxright.append( max(a[-1-i], maxright[i-1]) )\n",
    "        \n",
    "    maxright = maxright[::-1]\n",
    "    \n",
    "    # run the algorithm\n",
    "    diff = 0\n",
    "    i, j = 0, 0\n",
    "    \n",
    "    while i < len(a):\n",
    "        while maxright[j] > maxleft[i] and j < len(a):\n",
    "            j += 1\n",
    "        j -= 1\n",
    "        if j - i > diff:\n",
    "            diff = j - i\n",
    "        i += 1\n",
    "        \n",
    "    return diff\n",
    "\n",
    "a = [34, 8, 10, 3, 2, 80, 30, 33, 1]\n",
    "print(find_max_separation(a))"
   ]
  },
  {
   "cell_type": "markdown",
   "metadata": {},
   "source": [
    "# Max contiguous substring\n",
    "\n",
    "- Known as the Kadane Algorithm https://www.geeksforgeeks.org/largest-sum-contiguous-subarray/"
   ]
  },
  {
   "cell_type": "code",
   "execution_count": 5,
   "metadata": {
    "code_folding": [
     0
    ]
   },
   "outputs": [],
   "source": [
    "def max_subarray_sum(a):\n",
    "\n",
    "    max_so_far = -1.7e308\n",
    "    max_ending_here = 0\n",
    "\n",
    "    for val in a:\n",
    "        max_ending_here = max_ending_here + val\n",
    "        if (max_so_far < max_ending_here):\n",
    "            max_so_far = max_ending_here\n",
    "\n",
    "        # when the previous elements dont contribute positively we dont consider them:\n",
    "        # we start a new subarray\n",
    "        if max_ending_here < 0:\n",
    "            max_ending_here = 0\n",
    "\n",
    "    return max_so_far"
   ]
  },
  {
   "cell_type": "code",
   "execution_count": 6,
   "metadata": {
    "code_folding": [
     0
    ]
   },
   "outputs": [
    {
     "name": "stdout",
     "output_type": "stream",
     "text": [
      "Maximum contiguous sum is 14\n"
     ]
    }
   ],
   "source": [
    "# Driver function to check the above function\n",
    "a = [-13, -3, -25, -20, -3, -16, -23, -12, -5, -22, -15, -4, -7]\n",
    "a = [10, -3, -5, 11, 1, -10, 8]\n",
    "print(\"Maximum contiguous sum is\", max_subarray_sum(a))"
   ]
  },
  {
   "cell_type": "code",
   "execution_count": 7,
   "metadata": {
    "code_folding": [
     0
    ]
   },
   "outputs": [],
   "source": [
    "def min_subarray_sum(a):\n",
    "\n",
    "    min_so_far = 1.7e308\n",
    "    min_ending_here = 0\n",
    "\n",
    "    for i in a:\n",
    "        min_ending_here = min_ending_here + i\n",
    "        if (min_so_far > min_ending_here):\n",
    "            min_so_far = min_ending_here\n",
    "        \n",
    "        # when the previous elements dont contribute negatively we dont consider them:\n",
    "        # we start a new subarray\n",
    "        if min_ending_here > 0:\n",
    "            min_ending_here = 0\n",
    "\n",
    "    return min_so_far"
   ]
  },
  {
   "cell_type": "code",
   "execution_count": 8,
   "metadata": {
    "code_folding": [
     0
    ]
   },
   "outputs": [
    {
     "name": "stdout",
     "output_type": "stream",
     "text": [
      "Minimum contiguous sum is -10\n",
      "Other way -10\n"
     ]
    }
   ],
   "source": [
    "# Driver function to check the above function\n",
    "a = [10, -3, -5, 11, 1, -10, 8]\n",
    "print(\"Minimum contiguous sum is\", min_subarray_sum(a))\n",
    "print(\"Other way\", -max_subarray_sum([-i for i in a]))"
   ]
  },
  {
   "cell_type": "markdown",
   "metadata": {},
   "source": [
    "# Max difference between substrings\n",
    "\n",
    "- https://www.geeksforgeeks.org/maximum-absolute-difference-between-sum-of-two-contiguous-sub-arrays/"
   ]
  },
  {
   "cell_type": "code",
   "execution_count": 9,
   "metadata": {
    "code_folding": []
   },
   "outputs": [],
   "source": [
    "def find_max_abs_diff(a):\n",
    "    max_right = []\n",
    "    max_left = []\n",
    "    min_right = []\n",
    "    min_left = []\n",
    "\n",
    "    for i in range(1, len(a) - 1):\n",
    "        max_right.append(max_subarray_sum(a[i:]))\n",
    "        min_right.append(min_subarray_sum(a[i:]))\n",
    "        max_left.append(max_subarray_sum(a[:i]))\n",
    "        min_left.append(min_subarray_sum(a[:i]))\n",
    "\n",
    "    max_val = 0\n",
    "    for i in range(len(a) - 2):\n",
    "        max_val = max(max_val, abs(max_right[i] - min_left[i]),\n",
    "                      abs(max_left[i] - min_right[i]))\n",
    "\n",
    "    return max_val"
   ]
  },
  {
   "cell_type": "code",
   "execution_count": 14,
   "metadata": {
    "code_folding": []
   },
   "outputs": [
    {
     "name": "stdout",
     "output_type": "stream",
     "text": [
      "201\n"
     ]
    }
   ],
   "source": [
    "# Driver function to check the above function\n",
    "a = [-2, -3, 4, -1, -2, 1, 5, -3]\n",
    "a = [10, 1, 1, 200]\n",
    "\n",
    "n = len(a)\n",
    "print(find_max_abs_diff(a))"
   ]
  },
  {
   "cell_type": "markdown",
   "metadata": {},
   "source": [
    "# Find all four sum\n",
    "- https://practice.geeksforgeeks.org/problems/find-all-four-sum-numbers/0\n",
    "- $O(n^3)$ but could be $O(n^2 log(n) )$"
   ]
  },
  {
   "cell_type": "code",
   "execution_count": 18,
   "metadata": {},
   "outputs": [
    {
     "name": "stdout",
     "output_type": "stream",
     "text": [
      "[2, 3, 4, 5, 7, 8, 10]\n",
      "[[3, 5, 7, 8], [2, 4, 7, 10], [2, 3, 8, 10]]\n"
     ]
    }
   ],
   "source": [
    "def sum_4(indices, array):\n",
    "    s = 0\n",
    "    for ind in indices:\n",
    "        s += array[ind]\n",
    "    return s\n",
    "\n",
    "\n",
    "def find_helper(old_indices, array, s, pos):\n",
    "\n",
    "    indices = old_indices.copy()\n",
    "\n",
    "    final_list_aux = []\n",
    "    ini = indices[pos]\n",
    "    fin = indices[pos + 1]\n",
    "\n",
    "    for i in range(ini + 1, fin):\n",
    "\n",
    "        indices[pos] = i\n",
    "        sum_aux = sum_4(indices, array)\n",
    "\n",
    "        if sum_aux < s and pos > 0:\n",
    "            final_list_aux += find_helper(indices, array, s, pos - 1)\n",
    "\n",
    "        elif sum_aux == s:\n",
    "            final_list_aux += [[\n",
    "                array[indices[0]], array[indices[1]], array[indices[2]],\n",
    "                array[indices[3]]\n",
    "            ]]\n",
    "\n",
    "        else:\n",
    "            break\n",
    "\n",
    "    return final_list_aux\n",
    "\n",
    "\n",
    "def find_all(array, s):\n",
    "\n",
    "    final_list = []\n",
    "    array.sort()\n",
    "    #print(array)\n",
    "\n",
    "    indices = [0, 1, 2, 3]\n",
    "    pos = 3\n",
    "    ini = indices[pos]\n",
    "    fin = len(array)\n",
    "\n",
    "    for i in range(ini, fin):\n",
    "\n",
    "        indices[pos] = i\n",
    "        #print(indices)\n",
    "\n",
    "        sum_aux = sum_4(indices, array)\n",
    "\n",
    "        if sum_aux < s:\n",
    "            final_list += find_helper(indices, array, s, 2)\n",
    "\n",
    "        elif sum_aux == s:\n",
    "            final_list += [[\n",
    "                array[indices[0]], array[indices[1]], array[indices[2]],\n",
    "                array[indices[3]]\n",
    "            ]]\n",
    "        \n",
    "        else:\n",
    "            break\n",
    "\n",
    "    return final_list\n",
    "\n",
    "\n",
    "#a = [1, 2, 3, 4, 5, 6, 7, 8, 9]\n",
    "#combinations = find_all(a, 15)\n",
    "\n",
    "a = [10, 2, 3, 4, 5, 7, 8]\n",
    "combinations = find_all(a, 23)\n",
    "print(combinations)\n",
    "\n",
    "# 2 3 8 10\n",
    "# 2 4 7 10\n",
    "# 3 5 7 8"
   ]
  },
  {
   "cell_type": "markdown",
   "metadata": {},
   "source": [
    "#  sum  of 2 elements (in unsorted array)\n",
    "- O(n) with hash set (Note: extra memory)"
   ]
  },
  {
   "cell_type": "code",
   "execution_count": 14,
   "metadata": {},
   "outputs": [
    {
     "name": "stdout",
     "output_type": "stream",
     "text": [
      "[(6, 4), (5, 5), (7, 3), (8, 2), (9, 1)]\n"
     ]
    }
   ],
   "source": [
    "def find_pairs(a, s):\n",
    "\n",
    "    sol = []\n",
    "    hash_set = set()\n",
    "\n",
    "    for i in a:\n",
    "        t = s - i\n",
    "        if t in hash_set:\n",
    "            sol.append((i, t))\n",
    "        hash_set.add(i)\n",
    "\n",
    "    return sol\n",
    "\n",
    "\n",
    "print(find_pairs([1, 2, 3, 4, 5, 6, 5, 7, 8, 9], 10))"
   ]
  },
  {
   "cell_type": "markdown",
   "metadata": {},
   "source": [
    "# move zeros"
   ]
  },
  {
   "cell_type": "code",
   "execution_count": 8,
   "metadata": {},
   "outputs": [
    {
     "name": "stdout",
     "output_type": "stream",
     "text": [
      "[1, 1, 0]\n"
     ]
    }
   ],
   "source": [
    "def moveZeroes(nums):\n",
    "\n",
    "    # initialise\n",
    "    if nums[0] == 0:\n",
    "        low_zero = 0\n",
    "    else:\n",
    "        low_zero = -1\n",
    "\n",
    "    # main loop        \n",
    "    for high in range(1,len(nums)):\n",
    "        if nums[high] != 0:\n",
    "            if low_zero != -1:\n",
    "                nums[low_zero], nums[high] = nums[high], 0\n",
    "                low_zero += 1\n",
    "        else:\n",
    "            if low_zero == -1:\n",
    "                low_zero = high\n",
    "                \n",
    "    return nums\n",
    "                    \n",
    "a = [1,0,1]\n",
    "print(moveZeroes(a))"
   ]
  },
  {
   "cell_type": "markdown",
   "metadata": {},
   "source": [
    "# LIS Longest Increasing Subsequence\n",
    "\n",
    "\n",
    "- https://www.geeksforgeeks.org/longest-increasing-subsequence-dp-3/\n",
    "\n",
    "- https://www.geeksforgeeks.org/longest-monotonically-increasing-subsequence-size-n-log-n/"
   ]
  },
  {
   "cell_type": "code",
   "execution_count": 34,
   "metadata": {},
   "outputs": [
    {
     "name": "stdout",
     "output_type": "stream",
     "text": [
      "[1, 1, 1, 1, 1, 1, 1, 1]\n",
      "[1, 2, 1, 1, 1, 1, 1, 1]\n",
      "[1, 2, 1, 1, 1, 1, 1, 1]\n",
      "[1, 2, 1, 3, 1, 1, 1, 1]\n",
      "[1, 2, 1, 3, 2, 1, 1, 1]\n",
      "[1, 2, 1, 3, 2, 4, 1, 1]\n",
      "[1, 2, 1, 3, 2, 4, 4, 1]\n",
      "[1, 2, 1, 3, 2, 4, 4, 5]\n",
      "5\n"
     ]
    }
   ],
   "source": [
    "# Dynamic programming Python implementation of LIS problem\n",
    "\n",
    "# lis returns length of the longest increasing subsequence in arr of size n\n",
    "def lis(arr):\n",
    "    n = len(arr)\n",
    "\n",
    "    # Declare the list (array) for LIS and initialize LIS\n",
    "    # values for all indexes\n",
    "    lis = [1] * n\n",
    "    print(lis)\n",
    "\n",
    "    # Compute optimized LIS values in bottom up manner\n",
    "    for i in range(1, n):\n",
    "        for j in range(0, i):\n",
    "            if arr[i] > arr[j] and lis[i] < lis[j] + 1:\n",
    "                lis[i] = lis[j] + 1\n",
    "                \n",
    "        print(lis)\n",
    "\n",
    "    # Pick maximum of all LIS values\n",
    "    return max(lis)\n",
    "\n",
    "\n",
    "\n",
    "# Driver program to test above function\n",
    "arr = [10, 22, 9, 33, 21, 50, 41, 60]\n",
    "print(lis(arr))"
   ]
  },
  {
   "cell_type": "code",
   "execution_count": 2,
   "metadata": {
    "code_folding": [
     5
    ]
   },
   "outputs": [
    {
     "name": "stdout",
     "output_type": "stream",
     "text": [
      "22 [10, 22]\n",
      "9 [9, 22]\n",
      "33 [9, 22, 33]\n",
      "21 [9, 21, 33]\n",
      "50 [9, 21, 33, 50]\n",
      "41 [9, 21, 33, 41]\n",
      "60 [9, 21, 33, 41, 60]\n",
      "1 [1, 21, 33, 41, 60]\n",
      "2 [1, 2, 33, 41, 60]\n",
      "3 [1, 2, 3, 41, 60]\n",
      "4 [1, 2, 3, 4, 60]\n",
      "5 [1, 2, 3, 4, 5]\n",
      "6 [1, 2, 3, 4, 5, 6]\n",
      "Length of Longest Increasing Subsequence is  6\n"
     ]
    }
   ],
   "source": [
    "# Python program to find lis in O(n Log n) time\n",
    "\n",
    "\n",
    "# Binary search (note boundaries in the caller)\n",
    "# A[] is ceilIndex in the caller\n",
    "def CeilIndex(A, key):\n",
    "\n",
    "    l = 0\n",
    "    r = len(A) - 1\n",
    "\n",
    "    while r > l:\n",
    "\n",
    "        m = int((r + l) / 2)\n",
    "        if A[m] == key:\n",
    "            return m\n",
    "        elif A[m] > key:\n",
    "            r = m\n",
    "        else:\n",
    "            l = m + 1\n",
    "    return l\n",
    "\n",
    "\n",
    "def LongestIncreasingSubsequenceLength(A, size):\n",
    "\n",
    "    # Add boundary case, when array size is one\n",
    "\n",
    "    tailTable = [A[0]]\n",
    "\n",
    "    for i in range(1, size):\n",
    "\n",
    "        if (A[i] < tailTable[0]):\n",
    "\n",
    "            # new smallest value\n",
    "            tailTable[0] = A[i]\n",
    "\n",
    "        elif (A[i] > tailTable[-1]):\n",
    "\n",
    "            # A[i] wants to extend largest subsequence\n",
    "            tailTable.append(A[i])\n",
    "\n",
    "        else:\n",
    "            # A[i] wants to be current end candidate of an existing subsequence.\n",
    "            # It will replace ceil value in tailTable\n",
    "            tailTable[CeilIndex(tailTable, A[i])] = A[i]\n",
    "        print(A[i], tailTable)\n",
    "\n",
    "    return len(tailTable)\n",
    "\n",
    "\n",
    "# Driver program to test above function\n",
    "\n",
    "arr = [10, 22, 9, 33, 21, 50, 41, 60, 1, 2, 3, 4, 5, 6]\n",
    "n = len(arr)\n",
    "\n",
    "print(\"Length of Longest Increasing Subsequence is \",\n",
    "      LongestIncreasingSubsequenceLength(arr, n))"
   ]
  },
  {
   "cell_type": "code",
   "execution_count": null,
   "metadata": {},
   "outputs": [],
   "source": []
  }
 ],
 "metadata": {
  "kernelspec": {
   "display_name": "Python 3",
   "language": "python",
   "name": "python3"
  },
  "language_info": {
   "codemirror_mode": {
    "name": "ipython",
    "version": 3
   },
   "file_extension": ".py",
   "mimetype": "text/x-python",
   "name": "python",
   "nbconvert_exporter": "python",
   "pygments_lexer": "ipython3",
   "version": "3.6.5"
  },
  "varInspector": {
   "cols": {
    "lenName": 16,
    "lenType": 16,
    "lenVar": 40
   },
   "kernels_config": {
    "python": {
     "delete_cmd_postfix": "",
     "delete_cmd_prefix": "del ",
     "library": "var_list.py",
     "varRefreshCmd": "print(var_dic_list())"
    },
    "r": {
     "delete_cmd_postfix": ") ",
     "delete_cmd_prefix": "rm(",
     "library": "var_list.r",
     "varRefreshCmd": "cat(var_dic_list()) "
    }
   },
   "position": {
    "height": "405px",
    "left": "1211.25px",
    "right": "20px",
    "top": "119.992px",
    "width": "344px"
   },
   "types_to_exclude": [
    "module",
    "function",
    "builtin_function_or_method",
    "instance",
    "_Feature"
   ],
   "window_display": false
  }
 },
 "nbformat": 4,
 "nbformat_minor": 2
}
