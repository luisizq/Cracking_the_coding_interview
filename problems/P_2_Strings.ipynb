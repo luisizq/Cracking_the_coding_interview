{
 "cells": [
  {
   "cell_type": "markdown",
   "metadata": {},
   "source": [
    "# KMP (Knuth Morris Pratt) Algorithm for Pattern Searching \n",
    "\n",
    "- https://www.geeksforgeeks.org/kmp-algorithm-for-pattern-searching/\n",
    "\n",
    "There is a naive pattern search but is $O(n \\cdot m)$ whereas this one is $O(n)$\n",
    "\n",
    "lps = longest proper prefix which is also suffix"
   ]
  },
  {
   "cell_type": "code",
   "execution_count": 2,
   "metadata": {
    "code_folding": []
   },
   "outputs": [],
   "source": [
    "# Python program for KMP Algorithm\n",
    "def kmp_search(pat, txt):\n",
    "\n",
    "    # Preprocess the pattern (calculate lps[] array)\n",
    "    lps = compute_lps(pat)\n",
    "\n",
    "    m = len(pat)\n",
    "    n = len(txt)\n",
    "    i = 0  # index for txt[]\n",
    "    j = 0  # index for pat[]\n",
    "\n",
    "    # run over all the letters\n",
    "    while i < n:\n",
    "\n",
    "        # if they match continue\n",
    "        if pat[j] == txt[i]:\n",
    "            i += 1\n",
    "            j += 1\n",
    "\n",
    "        # option 1: if all the pat matches\n",
    "        if j == m:\n",
    "            print(\"Found pattern at index \" + str(i - m))\n",
    "            j = lps[j - 1]\n",
    "\n",
    "        # option 2: if only a few pat matches but there is a mismatch\n",
    "        elif i < n and pat[j] != txt[i]:\n",
    "\n",
    "            # try to see if it matches with a lower prefix\n",
    "            if j > 0:\n",
    "                j = lps[j - 1]\n",
    "            \n",
    "            # continue matching\n",
    "            else:\n",
    "                i += 1"
   ]
  },
  {
   "cell_type": "code",
   "execution_count": 4,
   "metadata": {
    "code_folding": []
   },
   "outputs": [
    {
     "name": "stdout",
     "output_type": "stream",
     "text": [
      "Found pattern at index 10\n"
     ]
    }
   ],
   "source": [
    "def compute_lps(pat):\n",
    "\n",
    "    lps = [0] * len(pat)\n",
    "    lps[0] = 0  # lps[0] is always 0\n",
    "\n",
    "    length = 0  # length of the previous longest prefix suffix\n",
    "    i = 1\n",
    "\n",
    "    # fill in lps\n",
    "    while i < len(lps):\n",
    "\n",
    "        # opt-1: matches\n",
    "        if pat[i] == pat[length]:\n",
    "            length += 1\n",
    "            lps[i] = length\n",
    "            i += 1\n",
    "\n",
    "        # opt-2: doesn't match\n",
    "        else:\n",
    "\n",
    "            # go to the previous length of the pat\n",
    "            if length > 0:\n",
    "                length = lps[length - 1]\n",
    "                # Note that we do not increment i here\n",
    "\n",
    "            # continue with the matching\n",
    "            else:\n",
    "                lps[i] = 0\n",
    "                i += 1\n",
    "                # Note that length = 0 directly\n",
    "\n",
    "    return lps\n",
    "\n",
    "\n",
    "txt = \"ababdabacdababcabab\"\n",
    "pat = \"ababcabab\"\n",
    "kmp_search(pat, txt)"
   ]
  },
  {
   "cell_type": "markdown",
   "metadata": {},
   "source": [
    "# Rabin-Karp pattern searching\n",
    "\n",
    "- https://www.geeksforgeeks.org/rabin-karp-algorithm-for-pattern-searching/\n",
    "- Cracking the coding interview Ch. Advanced Topics"
   ]
  },
  {
   "cell_type": "code",
   "execution_count": 37,
   "metadata": {},
   "outputs": [
    {
     "name": "stdout",
     "output_type": "stream",
     "text": [
      "p 119\n",
      "q 100\n",
      "pattern found on  0\n",
      "36 36\n",
      "36 71\n",
      "36 62\n",
      "36 30\n",
      "36 19\n",
      "36 60\n",
      "36 40\n",
      "36 10\n",
      "36 13\n",
      "36 0\n",
      "36 59\n",
      "36 35\n",
      "36 76\n",
      "pattern found on  13\n",
      "36 36\n",
      "36 40\n",
      "pattern found on  15\n",
      "36 36\n",
      "36 64\n",
      "36 68\n",
      "36 84\n",
      "36 96\n",
      "36 71\n",
      "36 51\n",
      "36 35\n",
      "36 32\n",
      "36 19\n",
      "36 67\n",
      "36 76\n",
      "pattern found on  27\n"
     ]
    }
   ],
   "source": [
    "def rabin_karp_search(pat, txt):\n",
    "    \n",
    "    # for pat\n",
    "    p = max([ord(i) for i in txt])\n",
    "    print('p', p)\n",
    "    \n",
    "    q = 100\n",
    "    print('q', q)\n",
    "    \n",
    "    hash_pat = 0\n",
    "    for i in range(len(pat)):\n",
    "        hash_pat += ord(pat[i]) * (p**(len(pat) - 1 - i))\n",
    "    hash_pat = hash_pat % q\n",
    "    \n",
    "    # in text\n",
    "    hash_val = 0\n",
    "    for i in range(len(pat)):\n",
    "        hash_val += ord(txt[i]) * (p**(len(pat) - 1 - i)) % q\n",
    "    hash_val = hash_val % q\n",
    "    \n",
    "    if hash_val == hash_pat:\n",
    "        print('pattern found on ', i - len(pat) + 1)\n",
    "        \n",
    "    # loop\n",
    "    for i in range(len(pat), len(txt)):\n",
    "        \n",
    "        print(hash_pat, hash_val)\n",
    "        \n",
    "        hash_val = ((hash_val - ord(txt[i - len(pat)]) * (p**(len(pat)-1)) ) * p + ord(txt[i])) % q\n",
    "        if hash_val == hash_pat:\n",
    "            print('pattern found on ', i - len(pat) + 1)\n",
    "            \n",
    "a = \"hello world? hello world _ hello world\"\n",
    "b = \"hello world\"\n",
    "rabin_karp_search(b, a)\n",
    "\n",
    "# check the rest indices"
   ]
  },
  {
   "cell_type": "code",
   "execution_count": 30,
   "metadata": {},
   "outputs": [
    {
     "name": "stdout",
     "output_type": "stream",
     "text": [
      "p 27 t 27\n",
      "Pattern found at index 0\n",
      "Pattern found at index 10\n"
     ]
    }
   ],
   "source": [
    "# Following program is the python implementation of\n",
    "# Rabin Karp Algorithm given in CLRS book\n",
    "\n",
    "# d is the number of characters in the input alphabet\n",
    "d = 256\n",
    "\n",
    "# pat -> pattern\n",
    "# txt -> text\n",
    "# q -> A prime number\n",
    "\n",
    "\n",
    "def search(pat, txt, q):\n",
    "    M = len(pat)\n",
    "    N = len(txt)\n",
    "    i = 0\n",
    "    j = 0\n",
    "    p = 0  # hash value for pattern\n",
    "    t = 0  # hash value for txt\n",
    "    h = 1\n",
    "\n",
    "    # The value of h would be \"pow(d, M-1)%q\"\n",
    "    for i in range(M - 1):\n",
    "        h = (h * d) % q\n",
    "\n",
    "    # Calculate the hash value of pattern and first window\n",
    "    # of text\n",
    "    for i in range(M):\n",
    "        p = (d * p + ord(pat[i])) % q\n",
    "        t = (d * t + ord(txt[i])) % q\n",
    "\n",
    "    print('p', p, 't', t)\n",
    "    # Slide the pattern over text one by one\n",
    "    for i in range(N - M + 1):\n",
    "        # Check the hash values of current window of text and\n",
    "        # pattern if the hash values match then only check\n",
    "        # for characters on by one\n",
    "        if p == t:\n",
    "            # Check for characters one by one\n",
    "            for j in range(M):\n",
    "                if txt[i + j] != pat[j]:\n",
    "                    break\n",
    "\n",
    "            j += 1\n",
    "            # if p == t and pat[0...M-1] = txt[i, i+1, ...i+M-1]\n",
    "            if j == M:\n",
    "                print(\"Pattern found at index \" + str(i))\n",
    "\n",
    "        # Calculate hash value for next window of text: Remove\n",
    "        # leading digit, add trailing digit\n",
    "        if i < N - M:\n",
    "            t = (d * (t - ord(txt[i]) * h) + ord(txt[i + M])) % q\n",
    "\n",
    "            # We might get negative values of t, converting it to\n",
    "            # positive\n",
    "            if t < 0:\n",
    "                t = t + q\n",
    "\n",
    "\n",
    "# Driver program to test the above function\n",
    "txt = \"GEEKS FOR GEEKS\"\n",
    "pat = \"GEEK\"\n",
    "q = 101  # A prime number\n",
    "search(pat, txt, q)"
   ]
  },
  {
   "cell_type": "markdown",
   "metadata": {},
   "source": [
    "# Palindrome at front (beginning)\n",
    "\n",
    "- https://www.geeksforgeeks.org/minimum-characters-added-front-make-string-palindrome/"
   ]
  },
  {
   "cell_type": "code",
   "execution_count": 10,
   "metadata": {},
   "outputs": [
    {
     "name": "stdout",
     "output_type": "stream",
     "text": [
      "AACECAAAAA$AAAAACECAA\n",
      "AACECAAAAA\n",
      "AAAAACECAA\n",
      "3 [0, 1, 0, 0, 0, 1, 2, 2, 2, 2, 0, 1, 2, 2, 2, 2, 3, 4, 5, 6, 7]\n"
     ]
    }
   ],
   "source": [
    "string = 'AACECAAAAA'\n",
    "sol = 3\n",
    "\n",
    "modified_string = string + '$'+ string[::-1]\n",
    "\n",
    "lps = compute_lps(modified_string)\n",
    "print(modified_string)\n",
    "print(string)\n",
    "print(string[::-1])\n",
    "print(len(string) - lps[-1], lps)"
   ]
  },
  {
   "cell_type": "markdown",
   "metadata": {},
   "source": [
    "# Palindrome at back "
   ]
  },
  {
   "cell_type": "code",
   "execution_count": 9,
   "metadata": {},
   "outputs": [
    {
     "name": "stdout",
     "output_type": "stream",
     "text": [
      "AAAACECAA$AACECAAAA\n",
      "5 [0, 1, 2, 3, 0, 0, 0, 1, 2, 0, 1, 2, 0, 0, 0, 1, 2, 3, 4]\n"
     ]
    }
   ],
   "source": [
    "string = 'AACECAAAA'\n",
    "sol = 5\n",
    "\n",
    "modified_string = string[::-1] + '$'+ string\n",
    "\n",
    "lps = compute_lps(modified_string)\n",
    "print(modified_string)\n",
    "print(len(string) - lps[-1], lps)"
   ]
  },
  {
   "cell_type": "markdown",
   "metadata": {},
   "source": [
    "# Palindrome "
   ]
  },
  {
   "cell_type": "code",
   "execution_count": 25,
   "metadata": {},
   "outputs": [
    {
     "name": "stdout",
     "output_type": "stream",
     "text": [
      "4\n"
     ]
    }
   ],
   "source": [
    "from itertools import combinations as cmb\n",
    "\n",
    "def is_palindrome(s):\n",
    "    i,j = 0,len(s) - 1\n",
    "    while i <= len(s)/2:\n",
    "        if s[i] != s[j]:\n",
    "            return False\n",
    "        i += 1\n",
    "        j -= 1\n",
    "    return True\n",
    "\n",
    "def min_num_for_palindrome(s):\n",
    "    for i in range(len(s), 0, -1):\n",
    "        #print(i)\n",
    "        combinations = cmb(s,i)\n",
    "        for comb in combinations:\n",
    "            #print(comb)\n",
    "            if is_palindrome(comb):\n",
    "                return len(s)-i\n",
    "    \n",
    "\n",
    "print(min_num_for_palindrome('abddccc'))"
   ]
  },
  {
   "cell_type": "markdown",
   "metadata": {},
   "source": [
    "# Substrings\n",
    "https://practice.geeksforgeeks.org/problems/distinct-transformations/0\n",
    "\n",
    "https://www.geeksforgeeks.org/count-distinct-occurrences-as-a-subsequence/"
   ]
  },
  {
   "cell_type": "code",
   "execution_count": 7,
   "metadata": {
    "scrolled": true
   },
   "outputs": [
    {
     "name": "stdout",
     "output_type": "stream",
     "text": [
      "[1, 1, 1, 1, 1, 1, 1, 1, 1]\n",
      "[0, 0, 0, 1, 2, 2, 2, 2, 2]\n",
      "[0, 0, 0, 0, 0, 2, 4, 4, 6]\n",
      "[0, 0, 0, 0, 0, 0, 0, 4, 4]\n"
     ]
    }
   ],
   "source": [
    "# bottom-up\n",
    "def substring(a, b):\n",
    "\n",
    "    n = len(a)\n",
    "    m = len(b)\n",
    "    a = [0] + a\n",
    "    b = [0] + b\n",
    "\n",
    "    matrix = [[0] * (n + 1) for i in range(m + 1)]\n",
    "\n",
    "    for j in range(n + 1):\n",
    "        # if B is empty then there is only one way to place it in A:\n",
    "        # remove all characters in A\n",
    "        matrix[0][j] = 1\n",
    "\n",
    "    \n",
    "    for i in range(1, m + 1):\n",
    "        # j goes from i to n+1 since, if j is less than i then B[1:i+1]\n",
    "        # can definitely not be placed in A[1:j+1]\n",
    "        for j in range(i, n + 1):\n",
    "            if a[j] == b[i]:\n",
    "                matrix[i][j] = matrix[i - 1][j - 1] + matrix[i][j - 1]\n",
    "            else:\n",
    "                matrix[i][j] = matrix[i][j - 1]\n",
    "\n",
    "    return matrix\n",
    "\n",
    "\n",
    "\n",
    "a = list('abccdded')\n",
    "b = list('cde')\n",
    "m = substring(a, b)\n",
    "for row in m:\n",
    "    print(row)"
   ]
  },
  {
   "cell_type": "code",
   "execution_count": 2,
   "metadata": {},
   "outputs": [
    {
     "name": "stdout",
     "output_type": "stream",
     "text": [
      "4\n"
     ]
    }
   ],
   "source": [
    "# top-down\n",
    "def memoize(f):\n",
    "    memo = {}\n",
    "\n",
    "    def helper(a, b):\n",
    "        if (len(a), len(b)) not in memo:\n",
    "            memo[(len(a), len(b))] = f(a, b)\n",
    "        return memo[(len(a), len(b))]\n",
    "\n",
    "    return helper\n",
    "\n",
    "\n",
    "def substring_rec(a, b):\n",
    "    if len(b) == 0:\n",
    "        return 1\n",
    "    elif len(a) == 0:\n",
    "        return 0\n",
    "    elif a[-1] != b[-1]:\n",
    "        return substring_rec(a[:-1], b)\n",
    "    else:\n",
    "        return substring_rec(a[:-1], b) + substring_rec(a[:-1], b[:-1])\n",
    "    \n",
    "print(substring_rec('abccdd', 'cd'))"
   ]
  },
  {
   "cell_type": "markdown",
   "metadata": {},
   "source": [
    "# word break\n",
    "\n",
    "https://practice.geeksforgeeks.org/problems/word-break-part-2/0"
   ]
  },
  {
   "cell_type": "code",
   "execution_count": 27,
   "metadata": {
    "code_folding": [
     0
    ]
   },
   "outputs": [],
   "source": [
    "# mine (without tries)\n",
    "def word_break(s,i):\n",
    "\n",
    "    # end of recursion\n",
    "    if i == len(s):\n",
    "        return True\n",
    "\n",
    "    possible_words = []\n",
    "    for word in dictionary:\n",
    "        if s[i] == word[0]:\n",
    "            possible_words.append(word)\n",
    "\n",
    "    for word in possible_words:\n",
    "        if len(word) + i <= len(s):\n",
    "            are_equal = True\n",
    "            for j, letter in enumerate(word):\n",
    "                if letter != s[i+j]:\n",
    "                    are_equal = False\n",
    "                    break\n",
    "            if are_equal:\n",
    "                # recursion\n",
    "                final = word_break(s,i+len(word))\n",
    "                if final == True:\n",
    "                    return True\n",
    "\n",
    "    # end of the algorithm after considering all possible words\n",
    "    return False\n",
    "                                   "
   ]
  },
  {
   "cell_type": "code",
   "execution_count": 28,
   "metadata": {
    "code_folding": [
     0
    ]
   },
   "outputs": [
    {
     "name": "stdout",
     "output_type": "stream",
     "text": [
      "True\n"
     ]
    }
   ],
   "source": [
    "# try it out\n",
    "dictionary = ['a','ab','abc']\n",
    "s = 'abcabaaababc'\n",
    "                                   \n",
    "print(word_break(s,0))"
   ]
  },
  {
   "cell_type": "code",
   "execution_count": 18,
   "metadata": {
    "code_folding": [
     0
    ]
   },
   "outputs": [],
   "source": [
    "# online solution. Pros: no extra memory and less time\n",
    "class WordTrie():\n",
    "    def __init__(self):\n",
    "        self.children = [None for i in range(26)]\n",
    "        self.is_end = False\n",
    "        \n",
    "    def add_child(self, nextptr, letter):\n",
    "        self.children[ord(letter)-ord('a')] = nextptr\n",
    "        \n",
    "    def get_child(self, letter):\n",
    "        return self.children[ord(letter)-ord('a')]\n",
    "\n",
    "def add_word(word, trie):\n",
    "    ptr = trie\n",
    "    for letter in word:\n",
    "        child = ptr.get_child(letter)\n",
    "        if not child:\n",
    "            newptr = WordTrie()\n",
    "            ptr.add_child(newptr, letter)\n",
    "            ptr = newptr\n",
    "        else:\n",
    "            ptr = child\n",
    "    ptr.is_end = True\n",
    "     \n",
    "def test_word(word, trie):\n",
    "    ptr = trie\n",
    "    for letter in word:\n",
    "        child = ptr.get_child(letter)\n",
    "        if child:\n",
    "            ptr = child\n",
    "        else:\n",
    "            return False\n",
    "    return ptr.is_end\n",
    "            \n",
    "def test_phrase(phrase, trie):\n",
    "    l = len(phrase)\n",
    "    # end recursion\n",
    "    if l == 0:\n",
    "        return True\n",
    "    \n",
    "    for i in range(1, l+1):\n",
    "        # recursion\n",
    "        if test_word(phrase[:i], trie) and test_phrase(phrase[i:], trie):\n",
    "            return True\n",
    "    return False"
   ]
  },
  {
   "cell_type": "code",
   "execution_count": 19,
   "metadata": {
    "code_folding": [
     0
    ]
   },
   "outputs": [
    {
     "name": "stdout",
     "output_type": "stream",
     "text": [
      "True\n"
     ]
    }
   ],
   "source": [
    "# try it out\n",
    "trie = WordTrie()\n",
    "words = ['a','ab','abc']\n",
    "search = 'aababc'\n",
    "for word in words:\n",
    "    add_word(word, trie)\n",
    "\n",
    "\n",
    "result = test_phrase(search, trie)\n",
    "print(result)"
   ]
  },
  {
   "cell_type": "markdown",
   "metadata": {},
   "source": [
    "# Interleaving strings \n",
    "\n",
    "- https://www.geeksforgeeks.org/print-all-interleavings-of-given-two-strings/"
   ]
  },
  {
   "cell_type": "code",
   "execution_count": 32,
   "metadata": {
    "code_folding": [
     0
    ]
   },
   "outputs": [
    {
     "name": "stdout",
     "output_type": "stream",
     "text": [
      "ABCD\n",
      "ACBD\n",
      "ACDB\n",
      "CABD\n",
      "CADB\n",
      "CDAB\n"
     ]
    },
    {
     "data": {
      "text/plain": [
       "['ABCD', 'ACBD', 'ACDB', 'CABD', 'CADB', 'CDAB']"
      ]
     },
     "execution_count": 32,
     "metadata": {},
     "output_type": "execute_result"
    }
   ],
   "source": [
    "# Python program to print all interleavings of given two strings\n",
    "\n",
    "\n",
    "# Utility function\n",
    "def toString(List):\n",
    "    return \"\".join(List)\n",
    "\n",
    "\n",
    "# The main function that recursively prints all interleavings.\n",
    "# The variable iStr is used to store all interleavings (or output\n",
    "# strings) one by one.\n",
    "# i is used to pass next available place in iStr\n",
    "def printIlsRecur(str1, str2, iStr, m, n, i):\n",
    "    \n",
    "    aux = []\n",
    "\n",
    "    # If some characters of str1 are left to be included, then\n",
    "    # include the first character from the remaining characters\n",
    "    # and recur for rest\n",
    "    if m != 0:\n",
    "        iStr[i] = str1[0]\n",
    "        aux += printIlsRecur(str1[1:], str2, iStr, m - 1, n, i + 1)\n",
    "\n",
    "    # If some characters of str2 are left to be included, then\n",
    "    # include the first character from the remaining characters\n",
    "    # and recur for rest\n",
    "    if n != 0:\n",
    "        iStr[i] = str2[0]\n",
    "        aux += printIlsRecur(str1, str2[1:], iStr, m, n - 1, i + 1)\n",
    "\n",
    "    # Base case: If all characters of str1 and str2 have been\n",
    "    # included in output string, then print the output string\n",
    "    if m == 0 and n == 0:\n",
    "        print(toString(iStr))\n",
    "        aux += [toString(iStr)]\n",
    "        \n",
    "    return aux\n",
    "\n",
    "\n",
    "# Allocates memory for output string and uses printIlsRecur()\n",
    "# for printing all interleavings\n",
    "def printIls(str1, str2, m, n):\n",
    "    iStr = [''] * (m + n)\n",
    "\n",
    "    # print all interleavings using printIlsRecur()\n",
    "    return printIlsRecur(str1, str2, iStr, m, n, 0)\n",
    "\n",
    "\n",
    "# Driver program to test the above function\n",
    "str1 = \"AB\"\n",
    "str2 = \"CD\"\n",
    "printIls(str1, str2, len(str1), len(str2))"
   ]
  },
  {
   "cell_type": "code",
   "execution_count": 37,
   "metadata": {
    "code_folding": [
     0
    ]
   },
   "outputs": [
    {
     "name": "stdout",
     "output_type": "stream",
     "text": [
      "False\n"
     ]
    }
   ],
   "source": [
    "# Python program to check if c is an interleaving of a and b (without common values)\n",
    "\n",
    "def isInterleaved(A, B, C): \n",
    "\n",
    "    # Utility variables \n",
    "    i = 0\n",
    "    j = 0\n",
    "    k = 0\n",
    "\n",
    "    # Iterate through all characters of C. \n",
    "    while k < len(C): \n",
    "        # Match first character of C with first character of A, \n",
    "        # If matches them move A to next \n",
    "        if i < len(A):\n",
    "            if A[i] == C[k]: \n",
    "                i+=1\n",
    "\n",
    "        # Else Match first character of C with first character \n",
    "        # of B. If matches them move B to next \n",
    "        elif j < len(B):\n",
    "            if B[j] == C[k]: \n",
    "                j+=1\n",
    "\n",
    "        # If doesn't match with either A or B, then return false \n",
    "        else: \n",
    "            return False\n",
    "\n",
    "        # Move C to next for next iteration \n",
    "        k+=1\n",
    "\n",
    "    # If A or B still have some characters, then length of C is \n",
    "    # smaller than sum of lengths of A and B, so return false \n",
    "    if i < len(A) or j < len(B): \n",
    "        return False\n",
    "\n",
    "    return True\n",
    "\n",
    "# Driver program to test the above function \n",
    "a = \"ab\"\n",
    "b = \"cd\"\n",
    "c = \"acbd\"\n",
    "print(isInterleaved(a, b, c))"
   ]
  },
  {
   "cell_type": "code",
   "execution_count": 76,
   "metadata": {
    "code_folding": [
     0
    ]
   },
   "outputs": [
    {
     "name": "stdout",
     "output_type": "stream",
     "text": [
      "True\n"
     ]
    }
   ],
   "source": [
    "# Python program to check if c is an interleaving of a and b (general case)\n",
    "\n",
    "def end_recursion(a,b,c,i,j,k):\n",
    "    if a[i-1] == c[k-1] or b[j-1] == c[k-1]:\n",
    "        return True\n",
    "    return False\n",
    "    \n",
    "def isInterleaved_general(a, b, c, i0=0, j0=0, k0=0): \n",
    "    \n",
    "    i, j, k = i0, j0, k0\n",
    "    \n",
    "    # end of recursion:\n",
    "    if k == len(c) and (i == len(a) or j == len(b)):\n",
    "        return end_recursion(a,b,c,i,j,k)\n",
    "\n",
    "    # recursion:\n",
    "    val_a, val_b = False, False\n",
    "    \n",
    "    if i < len(a):\n",
    "        if a[i] == c[k]:\n",
    "            val_a = isInterleaved_general(a,b,c, i+1, j, k+1)\n",
    "\n",
    "    if j < len(b):\n",
    "        if b[j] == c[k]:\n",
    "            val_b = isInterleaved_general(a,b,c, i, j+1, k+1)\n",
    "        \n",
    "    if val_a or val_b:\n",
    "        return True\n",
    "    return False\n",
    "\n",
    "    \n",
    "\n",
    "# Driver program to test the above function \n",
    "a = \"ab\"\n",
    "b = \"abcd\"\n",
    "c = \"abcabd\"\n",
    "print(isInterleaved_general(a, b, c))"
   ]
  },
  {
   "cell_type": "code",
   "execution_count": 77,
   "metadata": {
    "code_folding": [],
    "scrolled": true
   },
   "outputs": [
    {
     "name": "stdout",
     "output_type": "stream",
     "text": [
      "True\n"
     ]
    }
   ],
   "source": [
    "# Python program to check if c is an interleaving of a and b (general case - dynamic programming)\n",
    "\n",
    "def end_recursion(a,b,c,i,j,k):\n",
    "    if a[i-1] == c[k-1] or b[j-1] == c[k-1]:\n",
    "        return True\n",
    "    return False\n",
    "    \n",
    "    \n",
    "def isInterleaved_dp(a,b,c):\n",
    "    \n",
    "    n, m, p = len(a), len(b), len(c)\n",
    "    if p - m - n:\n",
    "        return False\n",
    "    \n",
    "    memo = [[[None]*n for _ in range(m) ] for _ in range(p)]\n",
    "    \n",
    "    return isInterleaved_util(a,b,c,memo)\n",
    "    \n",
    "    \n",
    "def isInterleaved_util(a, b, c, memo, i0=0, j0=0, k0=0): \n",
    "    \n",
    "    i, j, k = i0, j0, k0\n",
    "    \n",
    "    # end of recursion:\n",
    "    if k == len(c) and (i == len(a) or j == len(b)):\n",
    "        return end_recursion(a,b,c,i,j,k)\n",
    "\n",
    "    # recursion:\n",
    "    val_a, val_b = False, False\n",
    "    \n",
    "    if i < len(a):\n",
    "        if a[i] == c[k]:\n",
    "            if not memo[i+1,j,k+1]:\n",
    "                memo[i+1,j,k+1] = isInterleaved_util(a,b,c,memo, i+1, j, k+1)\n",
    "            val_a = memo[i+1,j,k+1]\n",
    "\n",
    "    if j < len(b):\n",
    "        if b[j] == c[k]:\n",
    "            if not memo[i,j+1,k+1]:\n",
    "                memo[i,j+1,k+1] = isInterleaved_util(a,b,c,memo, i, j+1, k+1)\n",
    "            val_a = memo[i,j+1,k+1]\n",
    "        \n",
    "    if val_a or val_b:\n",
    "        return True\n",
    "    return False\n",
    "\n",
    "    \n",
    "\n",
    "# Driver program to test the above function \n",
    "a = \"ab\"\n",
    "b = \"abcd\"\n",
    "c = \"abcabd\"\n",
    "print(isInterleaved_general(a, b, c))"
   ]
  },
  {
   "cell_type": "markdown",
   "metadata": {},
   "source": [
    "# Balanced brackets "
   ]
  },
  {
   "cell_type": "code",
   "execution_count": 21,
   "metadata": {
    "code_folding": [
     0
    ]
   },
   "outputs": [
    {
     "name": "stdout",
     "output_type": "stream",
     "text": [
      "8\n"
     ]
    }
   ],
   "source": [
    "def max_balanced(s):\n",
    "    \n",
    "    stack = []\n",
    "    cnt_total = 0\n",
    "    cnt_aux = 0\n",
    "    \n",
    "    for j in range(len(s)):\n",
    "        \n",
    "        if s[j] == \"(\":\n",
    "            stack.append(\"(\")\n",
    "\n",
    "        elif not stack:\n",
    "            cnt_aux = 0\n",
    "        \n",
    "        elif stack.pop() != \"(\":\n",
    "            cnt_aux = 0\n",
    "            \n",
    "        else:\n",
    "            cnt_aux += 2\n",
    "            \n",
    "        cnt_total = max(cnt_aux, cnt_total)       \n",
    "        \n",
    "    return cnt_total\n",
    "\n",
    "\n",
    "\n",
    "a = '(()())()'\n",
    "print(max_balanced(a))"
   ]
  },
  {
   "cell_type": "code",
   "execution_count": 22,
   "metadata": {
    "code_folding": [
     0
    ]
   },
   "outputs": [
    {
     "name": "stdout",
     "output_type": "stream",
     "text": [
      "NO\n"
     ]
    }
   ],
   "source": [
    "def isBalanced(s):\n",
    "    lista=[]\n",
    "    for j in range(len(s)):\n",
    "        \n",
    "        if s[0]==\")\" or s[0]==\"]\" or s[0]==\"}\":\n",
    "                return \"NO\"\n",
    "            \n",
    "        if s[j]==\"(\":\n",
    "            lista.append(\"(\")\n",
    "        elif s[j]== \"[\":\n",
    "            lista.append(\"[\")\n",
    "        elif s[j]==\"{\":\n",
    "            lista.append(\"{\")\n",
    "        \n",
    "        if s[j]==\")\":\n",
    "            if not lista:\n",
    "                return \"NO\"\n",
    "            if lista.pop()!=\"(\":\n",
    "                return \"NO\"\n",
    "        elif s[j]==\"]\":\n",
    "            if not lista:\n",
    "                return \"NO\"\n",
    "            if lista.pop()!=\"[\":\n",
    "                return \"NO\"\n",
    "        elif s[j]==\"}\":\n",
    "            if not lista:\n",
    "                return \"NO\"\n",
    "            if lista.pop()!=\"{\":\n",
    "                return \"NO\"\n",
    "        \n",
    "        if j==len(s)-1:\n",
    "            if s[j]==\"(\" or s[j]==\"[\" or s[j]==\"{\":\n",
    "                return \"NO\"\n",
    "    return \"YES\"\n",
    "\n",
    "\n",
    "\n",
    "a=\"({}([][]))[]()(\"\n",
    "print(isBalanced(a))"
   ]
  }
 ],
 "metadata": {
  "kernelspec": {
   "display_name": "Python 3",
   "language": "python",
   "name": "python3"
  },
  "language_info": {
   "codemirror_mode": {
    "name": "ipython",
    "version": 3
   },
   "file_extension": ".py",
   "mimetype": "text/x-python",
   "name": "python",
   "nbconvert_exporter": "python",
   "pygments_lexer": "ipython3",
   "version": "3.6.5"
  },
  "varInspector": {
   "cols": {
    "lenName": 16,
    "lenType": 16,
    "lenVar": 40
   },
   "kernels_config": {
    "python": {
     "delete_cmd_postfix": "",
     "delete_cmd_prefix": "del ",
     "library": "var_list.py",
     "varRefreshCmd": "print(var_dic_list())"
    },
    "r": {
     "delete_cmd_postfix": ") ",
     "delete_cmd_prefix": "rm(",
     "library": "var_list.r",
     "varRefreshCmd": "cat(var_dic_list()) "
    }
   },
   "types_to_exclude": [
    "module",
    "function",
    "builtin_function_or_method",
    "instance",
    "_Feature"
   ],
   "window_display": false
  }
 },
 "nbformat": 4,
 "nbformat_minor": 2
}
