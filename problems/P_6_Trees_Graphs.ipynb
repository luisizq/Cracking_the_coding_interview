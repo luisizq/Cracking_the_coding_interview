{
 "cells": [
  {
   "cell_type": "markdown",
   "metadata": {},
   "source": [
    "# Duplicate subtrees\n",
    "- https://practice.geeksforgeeks.org/problems/duplicate-subtree-in-binary-tree/1\n"
   ]
  },
  {
   "cell_type": "code",
   "execution_count": 6,
   "metadata": {},
   "outputs": [
    {
     "name": "stdout",
     "output_type": "stream",
     "text": [
      "it works when there is no key\n",
      "defaultdict(<class 'list'>, {1: []})\n"
     ]
    }
   ],
   "source": [
    "from collections import defaultdict\n",
    "\n",
    "a = defaultdict(list)\n",
    "if [1,2] not in a[1]:\n",
    "    print(\"it works when there is no key\")\n",
    "print(a)"
   ]
  },
  {
   "cell_type": "code",
   "execution_count": 2,
   "metadata": {
    "code_folding": []
   },
   "outputs": [
    {
     "name": "stdout",
     "output_type": "stream",
     "text": [
      "1(2() (4(7() ()) ())) (3(5() ()) (6() ()))\n"
     ]
    }
   ],
   "source": [
    "# implementation: serialize a tree\n",
    "class Node():\n",
    "    def __init__(self, data=None, right=None, left=None):\n",
    "\n",
    "        self.data = data  # self.left (the left child of the node)\n",
    "        self.right = right  # self.right (the right child of the node)\n",
    "        self.left = left  # self.data (the value of the node)\n",
    "\n",
    "\n",
    "# build sample tree\n",
    "\"\"\"\n",
    "        N\n",
    "       (1)\n",
    "     /     \\\n",
    "   Nl       Nr\n",
    "   (2)     (3)\n",
    "    \\      /  \\\n",
    "    Nlr   Nrl  Nrr\n",
    "    (4)   (5)  (6)\n",
    "    /\n",
    "  Nlrl\n",
    "  (7)\n",
    "\"\"\"\n",
    "\n",
    "Nlrl = Node(7)\n",
    "Nrl = Node(5)\n",
    "Nrr = Node(6)\n",
    "Nr = Node(3, Nrr, Nrl)  # Right child\n",
    "Nlr = Node(4, None, Nlrl)\n",
    "Nl = Node(2, Nlr)  # Left child\n",
    "N = Node(1, Nr, Nl)  # Root\n",
    "\n",
    "\n",
    "# serialize\n",
    "\n",
    "def dfs(root):\n",
    "    \n",
    "    stack = [root]\n",
    "    vals = []\n",
    "    \n",
    "    while stack:\n",
    "        \n",
    "        curnode = stack.pop()\n",
    "        vals.append(curnode.data)\n",
    "        \n",
    "        if curnode.right:\n",
    "            stack.append(curnode.right)\n",
    "        if curnode.left:\n",
    "            stack.append(curnode.left)\n",
    "        \n",
    "    return vals\n",
    "\n",
    "\n",
    "def serialize(root):\n",
    "    \n",
    "    vals = str(root.data)\n",
    "\n",
    "    vals += '('\n",
    "    if root.left:\n",
    "        vals += serialize(root.left)\n",
    "    vals += ') '\n",
    "    \n",
    "    vals += '('\n",
    "    if root.right:\n",
    "        vals += serialize(root.right)\n",
    "    vals += ')'\n",
    "    \n",
    "    return vals\n",
    "\n",
    "print(serialize(N))"
   ]
  },
  {
   "cell_type": "code",
   "execution_count": 9,
   "metadata": {},
   "outputs": [],
   "source": [
    "def dupSub(node):\n",
    "    # Code here\n",
    "    tree_dict = set([])\n",
    "    \n",
    "    def get_inorder(root):\n",
    "        if root == None:\n",
    "            return '', False\n",
    "        if root.left == None and root.right == None:\n",
    "            return root.data, False\n",
    "        \n",
    "        toRet = ''\n",
    "        lfound, rfound = False, False\n",
    "        if root.left:\n",
    "            lorder, lfound = get_inorder(root.left)\n",
    "            toRet += lorder\n",
    "            \n",
    "        toRet += root.data\n",
    "        \n",
    "        if root.right:\n",
    "            rorder, rfound = get_inorder(root.right)\n",
    "            toRet += rorder\n",
    "            \n",
    "        matched = (toRet in tree_dict) and len(toRet) > 1\n",
    "        tree_dict.add(toRet)\n",
    "        return toRet, matched or lfound or rfound\n",
    "    \n",
    "    inorder, duplicate = get_inorder(node)\n",
    "    \n",
    "    return int(duplicate)"
   ]
  },
  {
   "cell_type": "code",
   "execution_count": null,
   "metadata": {},
   "outputs": [],
   "source": [
    "a = set()\n",
    "\n",
    "def find_subtrees(root, a, ):\n",
    "    \n",
    "    vals = str(root.data)\n",
    "\n",
    "    vals += '('\n",
    "    if root.left:\n",
    "        vals += serialize(root.left)\n",
    "    vals += ')'\n",
    "    \n",
    "    vals += '('\n",
    "    if root.right:\n",
    "        vals += serialize(root.right)\n",
    "    vals += ')'\n",
    "    \n",
    "    if vals in set: \n",
    "    return vals"
   ]
  }
 ],
 "metadata": {
  "kernelspec": {
   "display_name": "Python 3",
   "language": "python",
   "name": "python3"
  },
  "language_info": {
   "codemirror_mode": {
    "name": "ipython",
    "version": 3
   },
   "file_extension": ".py",
   "mimetype": "text/x-python",
   "name": "python",
   "nbconvert_exporter": "python",
   "pygments_lexer": "ipython3",
   "version": "3.6.5"
  },
  "varInspector": {
   "cols": {
    "lenName": 16,
    "lenType": 16,
    "lenVar": 40
   },
   "kernels_config": {
    "python": {
     "delete_cmd_postfix": "",
     "delete_cmd_prefix": "del ",
     "library": "var_list.py",
     "varRefreshCmd": "print(var_dic_list())"
    },
    "r": {
     "delete_cmd_postfix": ") ",
     "delete_cmd_prefix": "rm(",
     "library": "var_list.r",
     "varRefreshCmd": "cat(var_dic_list()) "
    }
   },
   "types_to_exclude": [
    "module",
    "function",
    "builtin_function_or_method",
    "instance",
    "_Feature"
   ],
   "window_display": false
  }
 },
 "nbformat": 4,
 "nbformat_minor": 2
}
