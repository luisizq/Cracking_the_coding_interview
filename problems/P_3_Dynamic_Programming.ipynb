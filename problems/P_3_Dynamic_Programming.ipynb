{
 "cells": [
  {
   "cell_type": "markdown",
   "metadata": {},
   "source": [
    "# The pots of Gold Game\n",
    "\n",
    "- https://www.geeksforgeeks.org/optimal-strategy-for-a-game-dp-31/"
   ]
  },
  {
   "cell_type": "code",
   "execution_count": null,
   "metadata": {},
   "outputs": [],
   "source": [
    "# recursive way\n",
    "\n",
    "\n",
    "def find_best(v, i, j):\n",
    "\n",
    "    # end of recursion\n",
    "    if i == j:\n",
    "        return v[i]\n",
    "    elif j == i + 1:\n",
    "        return max(v[i], v[j])\n",
    "\n",
    "    # recursion - dp strategy\n",
    "    f = max(v[i] + min(find_best(v, i + 2, j), find_best(v, i + 1, j - 1)),\n",
    "            v[j] + min(find_best(v, i, j - 2), find_best(v, i + 1, j - 1)))\n",
    "\n",
    "    return f\n",
    "\n",
    "\n",
    "a = [8, 15, 3, 7]\n",
    "print(find_best(a, 0, len(a) - 1))"
   ]
  },
  {
   "cell_type": "code",
   "execution_count": 5,
   "metadata": {
    "slideshow": {
     "slide_type": "fragment"
    }
   },
   "outputs": [
    {
     "name": "stdout",
     "output_type": "stream",
     "text": [
      "27\n"
     ]
    }
   ],
   "source": [
    "# recursive way + memoize\n",
    "def memoize(f):\n",
    "    memo = {}\n",
    "    def helper(x, i, j):\n",
    "        if (i, j) not in memo:\n",
    "            memo[(i, j)] = f(x, i, j)\n",
    "        #print(len(memo))\n",
    "        return memo[(i, j)]\n",
    "    return helper\n",
    "\n",
    "\n",
    "@memoize\n",
    "def find_best(v, i, j):\n",
    "\n",
    "    # end of recursion\n",
    "    if i == j:\n",
    "        return v[i]\n",
    "    elif j == i + 1:\n",
    "        return max(v[i], v[j])\n",
    "\n",
    "    # recursion - dp strategy\n",
    "    f = max(v[i] + min(find_best(v, i + 2, j), find_best(v, i + 1, j - 1)),\n",
    "            v[j] + min(find_best(v, i, j - 2), find_best(v, i + 1, j - 1)))\n",
    "\n",
    "    return f\n",
    "\n",
    "\n",
    "a = [8, 15, 3, 7, 1, 2, 3, 4, 5, 6, 7]\n",
    "#a = range(10)\n",
    "b = find_best(a, 0, len(a) - 1)\n",
    "print(b)"
   ]
  },
  {
   "cell_type": "code",
   "execution_count": null,
   "metadata": {},
   "outputs": [],
   "source": [
    "# using memory - dp\n",
    "\n",
    "def find_best(v):\n",
    "    i = 0\n",
    "    j = len(v)-1\n",
    "    memo = [[None]*len(v) for _ in v]\n",
    "    \n",
    "    return find_best_util(v, i, j, memo)\n",
    "    \n",
    "\n",
    "def find_best_util(v, i, j, memo):\n",
    "    \n",
    "    # end recursion\n",
    "    if i == j:\n",
    "        return v[i]\n",
    "    elif j == i+1:\n",
    "        return max(v[i],v[j])\n",
    "    \n",
    "    # recursion\n",
    "    if not memo[i+2][j]:\n",
    "        memo[i+2][j] = find_best_util(v,i+2,j,memo)\n",
    "    if not memo[i+1][j-1]:\n",
    "        memo[i+1][j-1] = find_best_util(v,i+1,j-1,memo)\n",
    "    if not memo[i][j-2]:\n",
    "        memo[i][j-2] = find_best_util(v,i,j-2,memo)\n",
    "        \n",
    "    f = max(v[i] + min(memo[i+2][j], memo[i+1][j-1]),\n",
    "            v[j] + min(memo[i][j-2], memo[i+1][j-1]))\n",
    "    \n",
    "    return f\n",
    "\n",
    "a = [8, 15, 3, 7]\n",
    "a = [8,100,100,3,7]\n",
    "print(find_best(a))"
   ]
  },
  {
   "cell_type": "markdown",
   "metadata": {},
   "source": [
    "# Special keyboard \n",
    "\n",
    "- https://www.geeksforgeeks.org/how-to-print-maximum-number-of-a-using-given-four-keys/"
   ]
  },
  {
   "cell_type": "code",
   "execution_count": null,
   "metadata": {},
   "outputs": [],
   "source": [
    "# A recursive Python3 program to print maximum\n",
    "# number of A's using following four keys\n",
    "\n",
    "\n",
    "# A recursive function that returns\n",
    "# the optimal length string for N keystrokes\n",
    "def memoize(f):\n",
    "    memo = {}\n",
    "\n",
    "    def helper(x):\n",
    "        if x not in memo:\n",
    "            memo[x] = f(x)\n",
    "        return memo[x]\n",
    "\n",
    "    return helper\n",
    "\n",
    "\n",
    "@memoize\n",
    "def findoptimal(N):\n",
    "\n",
    "    if N <= 6:\n",
    "        return N\n",
    "\n",
    "    # Initialize result\n",
    "    maxi = 0\n",
    "\n",
    "    for b in range(N - 3, 0, -1):\n",
    "        curr = (N - b - 1) * findoptimal(b)\n",
    "        if curr > maxi:\n",
    "            maxi = curr\n",
    "\n",
    "    return maxi\n",
    "\n",
    "\n",
    "findoptimal(1000)"
   ]
  },
  {
   "cell_type": "markdown",
   "metadata": {},
   "source": [
    "# Painter's problem - dynamic programming\n",
    "\n",
    "- https://practice.geeksforgeeks.org/problems/the-painters-partition-problem/0\n",
    "- https://www.geeksforgeeks.org/painters-partition-problem/\n",
    "- https://www.geeksforgeeks.org/painters-partition-problem-set-2/"
   ]
  },
  {
   "cell_type": "code",
   "execution_count": null,
   "metadata": {},
   "outputs": [],
   "source": [
    "# solution 1 - brute force - O(n^k)\n",
    "import itertools as it\n",
    "\n",
    "def painter_brute(a, k):\n",
    "    \n",
    "    n = len(a)\n",
    "    s_min = 1.7e308\n",
    "    for indices in it.combinations(range(n),k-1):\n",
    "        \n",
    "        # first set\n",
    "        s_max = sum(a[:indices[0]])\n",
    "        \n",
    "        # intermediate sets\n",
    "        for i in range(k-2):\n",
    "            s = sum(a[indices[i]:indices[i+1]])\n",
    "            if s > s_max:\n",
    "                s_max = s\n",
    "        \n",
    "        # last set\n",
    "        s = sum(a[indices[-1]:])\n",
    "        if s > s_max:\n",
    "            s_max = s\n",
    "        \n",
    "        # global sum\n",
    "        if s_max < s_min:\n",
    "            s_min = s_max\n",
    "            \n",
    "    return s_min\n",
    "\n",
    "a = [10,1,12,2,13,3]\n",
    "print(painter_brute(a,3))"
   ]
  },
  {
   "cell_type": "code",
   "execution_count": 2,
   "metadata": {},
   "outputs": [
    {
     "name": "stdout",
     "output_type": "stream",
     "text": [
      "[[0, 10, 0, 0, 0, 0, 0], [0, 10, 11, 23, 25, 38, 41], [0, 10, 10, 12, 14, 23, 23], [0, 10, 10, 12, 12, 14, 16]]\n"
     ]
    }
   ],
   "source": [
    "# solution 2 - dynamic programming - O(k n^2)\n",
    "def painter(a, k):\n",
    "    n = len(a)\n",
    "    dp = [[0] * (n + 1) for _ in range(k + 1)]\n",
    "\n",
    "    # k = 1\n",
    "    for i in range(n + 1):\n",
    "        dp[1][i] = sum(a[:i])\n",
    "\n",
    "    # n = 1\n",
    "    for i in range(k + 1):\n",
    "        dp[i][1] = a[0]\n",
    "\n",
    "    # 2 to k partitions\n",
    "    for i in range(2, k + 1):\n",
    "        for j in range(2, n + 1):\n",
    "            best = 1.7e308\n",
    "            for p in range(1, j + 1):\n",
    "                best = min(best, max(dp[i - 1][p], sum(a[p:j])))\n",
    "            dp[i][j] = best\n",
    "\n",
    "    #return dp[k][n]\n",
    "    return dp\n",
    "\n",
    "\n",
    "a = [10, 1, 12, 2, 13, 3]\n",
    "print(painter(a, 3))"
   ]
  },
  {
   "cell_type": "code",
   "execution_count": 10,
   "metadata": {},
   "outputs": [
    {
     "name": "stdout",
     "output_type": "stream",
     "text": [
      "90\n"
     ]
    }
   ],
   "source": [
    "# solution 3 - recursive\n",
    "\n",
    "\n",
    "# Python program for The painter's\n",
    "# partition problem function to\n",
    "# calculate sum between two indices\n",
    "# in array\n",
    "\n",
    "# for n boards and k partitions\n",
    "def partition(arr, n, k):\n",
    "\n",
    "    # base cases\n",
    "    if k == 1:  # one partition\n",
    "        return sum(arr[0:n])\n",
    "    if n == 1:  # one board\n",
    "        return arr[0]\n",
    "\n",
    "    # find minimum of all possible\n",
    "    # maximum k-1 partitions to\n",
    "    # the left of arr[i], with i\n",
    "    # elements, put k-1 th divider\n",
    "    # between arr[i-1] & arr[i] to\n",
    "    # get k-th partition\n",
    "    best = 1.7e308\n",
    "    for i in range(1, n + 1):\n",
    "        best = min(best, max(partition(arr, i, k - 1), sum(arr[i:n])))\n",
    "    return best\n",
    "\n",
    "\n",
    "# Driver Code\n",
    "arr = [10, 20, 60, 50, 30, 40]\n",
    "n = len(arr)\n",
    "k = 3\n",
    "print(partition(arr, n, k))"
   ]
  },
  {
   "cell_type": "markdown",
   "metadata": {},
   "source": [
    "# Version 2 - Minimun number of pages \n",
    "\n",
    "- https://www.geeksforgeeks.org/allocate-minimum-number-pages/"
   ]
  },
  {
   "cell_type": "code",
   "execution_count": 3,
   "metadata": {},
   "outputs": [
    {
     "name": "stdout",
     "output_type": "stream",
     "text": [
      "16\n"
     ]
    }
   ],
   "source": [
    "def find_number_students(pages_list, mid_pages):\n",
    "    \n",
    "    # mid_pages = highest number of pages a student can read\n",
    "    \n",
    "    cnt_students = 1\n",
    "    pages_per_student = 0\n",
    "    \n",
    "    for pages in pages_list:\n",
    "        \n",
    "        if pages > mid_pages:\n",
    "            return -1\n",
    "        \n",
    "        pages_per_student += pages\n",
    "        \n",
    "        if pages_per_student > mid_pages:\n",
    "            cnt_students += 1\n",
    "            pages_per_student = pages\n",
    "        \n",
    "    return cnt_students\n",
    "\n",
    "\n",
    "def find_minimun_pages(pages_list, n_students):\n",
    "    \n",
    "    max_pages = sum(pages_list)\n",
    "    min_pages = 0\n",
    "    mid_pages = (max_pages + min_pages) // 2\n",
    "\n",
    "    while min_pages < max_pages:\n",
    "        \n",
    "        mid_pages = (max_pages + min_pages) // 2\n",
    "        \n",
    "        n = find_number_students(pages_list, mid_pages)\n",
    "        \n",
    "        if n == -1 or n_students < n:\n",
    "            min_pages = mid_pages + 1\n",
    "        else:\n",
    "            max_pages = mid_pages\n",
    "            \n",
    "        #print(n, mid_pages)\n",
    "        #print(min_pages, max_pages)\n",
    "            \n",
    "    return (max_pages + min_pages) // 2\n",
    "\n",
    "\n",
    "a = [12, 34, 67, 90]\n",
    "a = [10, 1, 12, 2, 13, 3]\n",
    "print(find_minimun_pages(a,3))"
   ]
  },
  {
   "cell_type": "markdown",
   "metadata": {},
   "source": [
    "# House Robber\n",
    "- https://leetcode.com/problems/house-robber/"
   ]
  },
  {
   "cell_type": "code",
   "execution_count": 6,
   "metadata": {},
   "outputs": [],
   "source": [
    "def rob(self, nums):\n",
    "    \"\"\"\n",
    "    :type nums: List[int]\n",
    "    :rtype: int\n",
    "    \"\"\"\n",
    "    last = 0\n",
    "    now = 0\n",
    "\n",
    "    for i in nums: \n",
    "        last, now = now, max(last + i, now)\n",
    "\n",
    "    return now"
   ]
  },
  {
   "cell_type": "code",
   "execution_count": 8,
   "metadata": {},
   "outputs": [
    {
     "data": {
      "text/plain": [
       "6"
      ]
     },
     "execution_count": 8,
     "metadata": {},
     "output_type": "execute_result"
    }
   ],
   "source": [
    "class Solution:\n",
    "    \n",
    "    \n",
    "    def memoize(f):\n",
    "        memo = {}\n",
    "        \n",
    "        def helper(self, x):\n",
    "            if len(x) not in memo:\n",
    "                memo[len(x)] = f(self, x)\n",
    "            return memo[len(x)]\n",
    "        return helper\n",
    "    \n",
    "    \n",
    "    @memoize\n",
    "    def rob(self, nums):\n",
    "        \"\"\"\n",
    "        :type nums: List[int]\n",
    "        :rtype: int\n",
    "        \"\"\"\n",
    "        if len(nums) == 0:\n",
    "            return 0\n",
    "        elif len(nums) == 1:\n",
    "            return nums[0]\n",
    "        \n",
    "        opt1 = nums[0] + self.rob(nums[2:])\n",
    "        opt2 = nums[1] + self.rob(nums[3:])\n",
    "        \n",
    "        return max(opt1, opt2)\n",
    "    \n",
    "a = Solution()\n",
    "b = [1,2,3,4]\n",
    "#b = [0]\n",
    "\n",
    "a.rob(b)"
   ]
  },
  {
   "cell_type": "code",
   "execution_count": 28,
   "metadata": {},
   "outputs": [
    {
     "name": "stdout",
     "output_type": "stream",
     "text": [
      "helper {}\n",
      "aux [3, 0]\n",
      "here\n",
      "helper {}\n",
      "aux []\n",
      "helper {0: 0}\n",
      "rob 4 1 [3] \n",
      "\n",
      "helper {0: 0, 2: 3}\n",
      "aux [1]\n",
      "rob 3 2 [1] \n",
      "\n"
     ]
    },
    {
     "data": {
      "text/plain": [
       "4"
      ]
     },
     "execution_count": 28,
     "metadata": {},
     "output_type": "execute_result"
    }
   ],
   "source": [
    "class Solution:\n",
    "    \n",
    "    \n",
    "    def memoize(f):\n",
    "        memo = {}\n",
    "        \n",
    "        def helper(self, x):\n",
    "            print('helper',memo)\n",
    "            if len(x) not in memo:\n",
    "                memo[len(x)] = f(self, x)\n",
    "            return memo[len(x)]\n",
    "        return helper\n",
    "    \n",
    "    def rob(self, vals):\n",
    "        \n",
    "        if len(vals) == 0:\n",
    "            return 0\n",
    "        elif len(vals) == 1:\n",
    "            return vals[0]\n",
    "        \n",
    "        opt1 = vals[0] + self.rob_aux(vals[2:-1]+[0])\n",
    "        print('rob',opt1, vals[0], vals[2:-1],'\\n')\n",
    "        \n",
    "        opt2 = vals[1] + self.rob_aux(vals[3:])\n",
    "        print('rob',opt2, vals[1], vals[3:],'\\n')\n",
    "\n",
    "        return max(opt1, opt2)\n",
    "        \n",
    "    @memoize\n",
    "    def rob_aux(self, nums):\n",
    "        \"\"\"\n",
    "        :type nums: List[int]\n",
    "        :rtype: int\n",
    "        \"\"\"\n",
    "        print('aux',nums)\n",
    "        \n",
    "        if len(nums) == 0:\n",
    "            return 0\n",
    "        elif len(nums) == 1:\n",
    "            return nums[0]\n",
    "        \n",
    "        print('here')\n",
    "        opt1 = nums[0] + self.rob_aux(nums[2:])\n",
    "        opt2 = nums[1] + self.rob_aux(nums[3:])\n",
    "        \n",
    "        return max(opt1, opt2)\n",
    "    \n",
    "a = Solution()\n",
    "b = [1,2,3,1]\n",
    "a.rob(b)"
   ]
  }
 ],
 "metadata": {
  "kernelspec": {
   "display_name": "Python 3",
   "language": "python",
   "name": "python3"
  },
  "language_info": {
   "codemirror_mode": {
    "name": "ipython",
    "version": 3
   },
   "file_extension": ".py",
   "mimetype": "text/x-python",
   "name": "python",
   "nbconvert_exporter": "python",
   "pygments_lexer": "ipython3",
   "version": "3.6.5"
  },
  "varInspector": {
   "cols": {
    "lenName": 16,
    "lenType": 16,
    "lenVar": 40
   },
   "kernels_config": {
    "python": {
     "delete_cmd_postfix": "",
     "delete_cmd_prefix": "del ",
     "library": "var_list.py",
     "varRefreshCmd": "print(var_dic_list())"
    },
    "r": {
     "delete_cmd_postfix": ") ",
     "delete_cmd_prefix": "rm(",
     "library": "var_list.r",
     "varRefreshCmd": "cat(var_dic_list()) "
    }
   },
   "types_to_exclude": [
    "module",
    "function",
    "builtin_function_or_method",
    "instance",
    "_Feature"
   ],
   "window_display": false
  }
 },
 "nbformat": 4,
 "nbformat_minor": 2
}
