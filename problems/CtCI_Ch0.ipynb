{
 "cells": [
  {
   "cell_type": "code",
   "execution_count": 16,
   "metadata": {},
   "outputs": [
    {
     "name": "stdout",
     "output_type": "stream",
     "text": [
      "{'h': 3, 'e': 3, 'l': 2, 'o': 3}\n",
      "['h', 'e', 'l', 'o']\n",
      "{3: 1}\n",
      "{3: 1}\n",
      "{3: 1, 2: 1}\n",
      "{3: 2, 2: 1}\n",
      "YES\n"
     ]
    }
   ],
   "source": [
    "def isValid(s):\n",
    "    \n",
    "    instr = s\n",
    "    cnt_dict = {}\n",
    "\n",
    "    # Count number of appearances:    \n",
    "    for i in instr:\n",
    "        if i not in cnt_dict.keys():\n",
    "            cnt_dict[i] = 1\n",
    "        else:\n",
    "            cnt_dict[i] += 1\n",
    "\n",
    "    print(cnt_dict)\n",
    "    # Dedice if is valid\n",
    "    num_appearances = {}\n",
    "        \n",
    "    letters = list(cnt_dict.keys())\n",
    "    print(letters)\n",
    "    \n",
    "    # initialise num_appearances\n",
    "    for i in range(len(letters)):\n",
    "        # add appearance:\n",
    "        if i not in num_appearances.keys():\n",
    "            num_appearances[cnt_dict[letters[i]]] = 1\n",
    "        else:\n",
    "            num_appearances[cnt_dict[letters[i]]] += 1\n",
    "\n",
    "        # check if it is not valid\n",
    "        print(num_appearances)\n",
    "        if len(num_appearances) > 2:\n",
    "            return 'NO'\n",
    "        elif len( num_appearances ) == 2: \n",
    "            keys_num = list( num_appearances.keys() )\n",
    "            if num_appearances[keys_num[0]] >1 and num_appearances[keys_num[1]] > 1 :\n",
    "                return 'NO'\n",
    "\n",
    "    return 'YES'\n",
    "\n",
    "s = 'hhheeellooo'\n",
    "print(isValid(s))"
   ]
  },
  {
   "cell_type": "code",
   "execution_count": 24,
   "metadata": {},
   "outputs": [
    {
     "name": "stdout",
     "output_type": "stream",
     "text": [
      "True\n"
     ]
    }
   ],
   "source": [
    "def is_valid( instr ):\n",
    "\n",
    "    cnt_dict = {}\n",
    "\n",
    "    # Count number of appearances:\t\n",
    "    for i in instr:\n",
    "            if i not in cnt_dict.keys():\n",
    "                cnt_dict[i] = 1\n",
    "            else:\n",
    "                cnt_dict[i] += 1\n",
    "\n",
    "    # Dedice if is valid\n",
    "    appearances = list( cnt_dict.values() )\n",
    "    num_appearances = {}\n",
    "\n",
    "    # initialise num_appearances\n",
    "    for i in appearances:\n",
    "\n",
    "        # add appearance:\n",
    "        if i not in num_appearances.keys():\n",
    "            num_appearances[i] = 1\n",
    "        else:\n",
    "            num_appearances[i] += 1\n",
    "\n",
    "        # check if it is not valid\n",
    "        if len(num_appearances) > 2:\n",
    "            return False\n",
    "        elif len( num_appearances ) == 2: \n",
    "            values = list( num_appearances.values() )\n",
    "            if values[0] >1 and values[1] > 1:\n",
    "                return False\n",
    "\n",
    "    return True\n",
    "\n",
    "s = 'hhheeellool'\n",
    "print(is_valid(s))"
   ]
  },
  {
   "cell_type": "code",
   "execution_count": 37,
   "metadata": {},
   "outputs": [
    {
     "name": "stdout",
     "output_type": "stream",
     "text": [
      "Counter({'l': 4, 'h': 3, 'e': 3, 'o': 3})\n",
      "Counter({3: 3, 4: 1})\n",
      "False\n"
     ]
    }
   ],
   "source": [
    "from collections import Counter\n",
    "\n",
    "def is_valid( instr ):\n",
    "\n",
    "    cnt_dict = Counter( instr )\n",
    "    print(cnt_dict)\n",
    "    \n",
    "    # Dedice if is valid\n",
    "    appearances = list( cnt_dict.values() )\n",
    "    num_appearances = Counter( appearances )\n",
    "    print(num_appearances)\n",
    "    \n",
    "    if len(num_appearances) > 2:\n",
    "        return False\n",
    "    \n",
    "    elif len(num_appearances ) == 2:\n",
    "        keys = list( num_appearances.keys() )\n",
    "        values = list( num_appearances.values() )\n",
    "        if values[0] > 1 and values[1] > 1:\n",
    "            return False\n",
    "        if keys[0]*values[0] > 1 and keys[1]*values[1] > 1:\n",
    "            return False\n",
    "        \n",
    "    return True\n",
    "\n",
    "s = 'hhheeelloooll'\n",
    "print(is_valid(s))"
   ]
  }
 ],
 "metadata": {
  "kernelspec": {
   "display_name": "Python 3",
   "language": "python",
   "name": "python3"
  },
  "language_info": {
   "codemirror_mode": {
    "name": "ipython",
    "version": 3
   },
   "file_extension": ".py",
   "mimetype": "text/x-python",
   "name": "python",
   "nbconvert_exporter": "python",
   "pygments_lexer": "ipython3",
   "version": "3.6.5"
  },
  "varInspector": {
   "cols": {
    "lenName": 16,
    "lenType": 16,
    "lenVar": 40
   },
   "kernels_config": {
    "python": {
     "delete_cmd_postfix": "",
     "delete_cmd_prefix": "del ",
     "library": "var_list.py",
     "varRefreshCmd": "print(var_dic_list())"
    },
    "r": {
     "delete_cmd_postfix": ") ",
     "delete_cmd_prefix": "rm(",
     "library": "var_list.r",
     "varRefreshCmd": "cat(var_dic_list()) "
    }
   },
   "types_to_exclude": [
    "module",
    "function",
    "builtin_function_or_method",
    "instance",
    "_Feature"
   ],
   "window_display": false
  }
 },
 "nbformat": 4,
 "nbformat_minor": 2
}
