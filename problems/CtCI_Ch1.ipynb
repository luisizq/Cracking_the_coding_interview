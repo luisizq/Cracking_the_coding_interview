{
 "cells": [
  {
   "cell_type": "markdown",
   "metadata": {},
   "source": [
    "# 1.2 CheckPermutationStrings_HashTables"
   ]
  },
  {
   "cell_type": "code",
   "execution_count": 34,
   "metadata": {},
   "outputs": [
    {
     "name": "stdout",
     "output_type": "stream",
     "text": [
      "True\n"
     ]
    }
   ],
   "source": [
    "def check_permutation2(str1,str2):\n",
    "    \n",
    "    if len(str1) != len(str2):\n",
    "        return False\n",
    "    \n",
    "    num_letters = ord('z')-ord('A') + 1\n",
    "    letters = [0]*num_letters\n",
    "    \n",
    "    for c in str1:\n",
    "        letters[ord(c) - ord('A')] += 1\n",
    "    \n",
    "    for c in str2:\n",
    "        if letters[ord(c) - ord('A')] == 0:\n",
    "            return False\n",
    "        letters[ord(c) - ord('A')]-=1\n",
    "    \n",
    "    return True\n",
    "\n",
    "print(check_permutation2(\"Hoalamigo\",\"oHolaamgi\"))"
   ]
  },
  {
   "cell_type": "markdown",
   "metadata": {},
   "source": [
    "# 1.3 URLify "
   ]
  },
  {
   "cell_type": "code",
   "execution_count": 41,
   "metadata": {},
   "outputs": [
    {
     "data": {
      "text/plain": [
       "'much%20ado%20about%20nothing'"
      ]
     },
     "execution_count": 41,
     "metadata": {},
     "output_type": "execute_result"
    }
   ],
   "source": [
    "def urlify(str1):\n",
    "    \n",
    "    len_str = len(str1)\n",
    "    \n",
    "    str2 = ''\n",
    "    \n",
    "    counter = 0\n",
    "    limit = len_str\n",
    "    while counter < limit:\n",
    "        if str1[counter] is not ' ':\n",
    "            str2 += str1[counter]\n",
    "        else:\n",
    "            str2 += '%20'\n",
    "            limit -= 2\n",
    "        counter +=1\n",
    "            \n",
    "    return str2\n",
    "\n",
    "urlify('much ado about nothing      ')\n",
    "    "
   ]
  },
  {
   "cell_type": "markdown",
   "metadata": {},
   "source": [
    "# 1.4 Palindrome"
   ]
  },
  {
   "cell_type": "code",
   "execution_count": 32,
   "metadata": {},
   "outputs": [
    {
     "data": {
      "text/plain": [
       "True"
      ]
     },
     "execution_count": 32,
     "metadata": {},
     "output_type": "execute_result"
    }
   ],
   "source": [
    "def is_palindrome( str1 ):\n",
    "        \n",
    "    letters_counts = [0]*( ord('z')-ord('a')+1 )\n",
    "    \n",
    "    for i in str1:\n",
    "        if i == ' ':\n",
    "            pass\n",
    "        else:\n",
    "            letters_counts[ord(i.lower())-ord('a')]+=1\n",
    "    \n",
    "    k = 0\n",
    "    for counts in letters_counts:\n",
    "        if counts % 2 != 0:\n",
    "            k += 1\n",
    "            if k == 2:\n",
    "                return False\n",
    "        \n",
    "    return True\n",
    "        \n",
    "    \n",
    "#a = ('jhsabckuj ahjsbckj', True)\n",
    "#a = ('Able was I ere I saw Elba', True)\n",
    "#a = ('So patient a nurse to nurse a patient so', False)\n",
    "#a = ('Random Words', False)\n",
    "#a = ('Not a Palindrome', False)\n",
    "a = ('no x in nixon', True)\n",
    "#a = ('azAZ', True)\n",
    "\n",
    "is_palindrome(a[0])"
   ]
  },
  {
   "cell_type": "markdown",
   "metadata": {},
   "source": [
    "# 1.5 One Way "
   ]
  },
  {
   "cell_type": "code",
   "execution_count": 65,
   "metadata": {},
   "outputs": [
    {
     "name": "stdout",
     "output_type": "stream",
     "text": [
      "True\n"
     ]
    }
   ],
   "source": [
    "def oneaway(str1,str2):\n",
    "    \n",
    "    if len(str1) == len(str2):     # replace\n",
    "        cdiff = 0\n",
    "        for ind, letter in enumerate(str1):\n",
    "            if letter != str2[ind]:\n",
    "                cdiff += 1\n",
    "                if cdiff == 2:\n",
    "                    return False\n",
    "        return True\n",
    "    \n",
    "    if len(str2) == len(str1) + 1:  # remove\n",
    "        cdiff = 0\n",
    "        for ind, letter in enumerate(str1):\n",
    "            if letter != str2[ind+cdiff]:\n",
    "                cdiff += 1\n",
    "                if cdiff == 2:\n",
    "                    return False\n",
    "                if letter != str2[ind+cdiff]:\n",
    "                    return False\n",
    "                \n",
    "        return True\n",
    "\n",
    "    if len(str1) == 1 + len(str2):  # insert\n",
    "        cdiff = 0\n",
    "        for ind, letter in enumerate(str2):\n",
    "            if letter != str1[ind+cdiff]:\n",
    "                cdiff += 1\n",
    "                if cdiff == 2:\n",
    "                    return False\n",
    "                if letter != str1[ind+cdiff]:\n",
    "                    return False\n",
    "                \n",
    "        return True\n",
    "    \n",
    "    return False"
   ]
  },
  {
   "cell_type": "markdown",
   "metadata": {},
   "source": [
    "# 1.6 String Compressiong "
   ]
  },
  {
   "cell_type": "code",
   "execution_count": 10,
   "metadata": {},
   "outputs": [
    {
     "name": "stdout",
     "output_type": "stream",
     "text": [
      "dA2a3ba3b3c7\n"
     ]
    }
   ],
   "source": [
    "def stringCompression(str1):\n",
    "    \n",
    "    strout = ''\n",
    "    \n",
    "    counter = 1\n",
    "    prevlet = ''\n",
    "    \n",
    "    for let in str1:\n",
    "        \n",
    "        if let is not prevlet:\n",
    "            \n",
    "            if counter is not 1:\n",
    "                strout += str(counter)\n",
    "\n",
    "            strout += let\n",
    "            counter = 1\n",
    "        \n",
    "        else:\n",
    "            counter += 1\n",
    "        \n",
    "        prevlet = let\n",
    "    \n",
    "    if counter is not 1:\n",
    "        strout += str(counter)\n",
    "    \n",
    "    return strout\n",
    "        \n",
    "        \n",
    "print(stringCompression('dAAaaabaaabbbccccccc'))"
   ]
  },
  {
   "cell_type": "markdown",
   "metadata": {},
   "source": [
    "# 1.7 Rotate Matrix "
   ]
  },
  {
   "cell_type": "code",
   "execution_count": 27,
   "metadata": {},
   "outputs": [
    {
     "name": "stdout",
     "output_type": "stream",
     "text": [
      "[[25, 16, 11, 6, 21], [6, 19, 12, 17, 10], [11, 12, 13, 14, 15], [16, 9, 14, 7, 20], [5, 20, 15, 10, 1]]\n",
      "[[25, 16, 11, 6, 21], [6, 19, 12, 17, 10], [11, 12, 13, 14, 15], [16, 9, 14, 7, 20], [5, 20, 15, 10, 1]]\n"
     ]
    }
   ],
   "source": [
    "def rotate_matrix(matrix):\n",
    "    \n",
    "    n = len(matrix)\n",
    "    \n",
    "    b = []\n",
    "    for i in range(n):\n",
    "        b.append([0]*n)\n",
    "    \n",
    "    for i in range(n):\n",
    "        for j in range(n):\n",
    "            b[i][j] = a[j][n-1-i]\n",
    "\n",
    "    return b\n",
    "    \n",
    "def rotate_matrix2(a):\n",
    "    \n",
    "    n = len(a)\n",
    "    \n",
    "    for i in range(n//2+1):\n",
    "        for j in range(n//2+1):\n",
    "            a[i][j], a[n-1-i][j], a[i][n-1-j], a[n-1-i][n-1-j] = a[j][n-1-i], a[j][n-1-(n-1-i)], a[n-1-j][n-1-i], a[n-1-j][i]\n",
    "    return a\n",
    "    \n",
    "        \n",
    "\n",
    "a = [[1, 2, 3, 4, 5],\n",
    "     [6, 7, 8, 9, 10],\n",
    "     [11, 12, 13, 14, 15],\n",
    "     [16, 17, 18, 19, 20],\n",
    "     [21, 22, 23, 24, 25]]\n",
    "b = rotate_matrix2(a)\n",
    "c = rotate_matrix2(a)\n",
    "print(b)\n",
    "print(c)"
   ]
  },
  {
   "cell_type": "markdown",
   "metadata": {},
   "source": [
    "# 1.8 ZeroMatrix "
   ]
  },
  {
   "cell_type": "code",
   "execution_count": 32,
   "metadata": {},
   "outputs": [
    {
     "name": "stdout",
     "output_type": "stream",
     "text": [
      "[[0, 0, 0, 0, 0], [0, 7, 0, 9, 10], [0, 0, 0, 0, 0], [0, 17, 0, 19, 20], [0, 22, 0, 24, 25]]\n"
     ]
    }
   ],
   "source": [
    "def zero_matrix(m):\n",
    "    \n",
    "    nrow = len(m)\n",
    "    ncol = len(m[0])\n",
    "    \n",
    "    colzero = []\n",
    "    rowzero = []\n",
    "    \n",
    "    for crow in range(nrow):\n",
    "        for ccol in range(ncol):\n",
    "            if m[crow][ccol] == 0:\n",
    "                if ccol not in colzero:\n",
    "                    colzero.append(ccol)\n",
    "                if crow not in rowzero:\n",
    "                    rowzero.append(crow)\n",
    "    \n",
    "    for crow in rowzero:\n",
    "        for ccol in range(ncol):\n",
    "            m[crow][ccol] = 0\n",
    "    \n",
    "    for ccol in colzero:\n",
    "        for crow in range(nrow):\n",
    "            m[crow][ccol] = 0\n",
    "    \n",
    "    return m\n",
    "\n",
    "\n",
    "a = [[0, 2, 3, 4, 5],\n",
    "     [6, 7, 8, 9, 10],\n",
    "     [11, 12, 0, 14, 15],\n",
    "     [16, 17, 18, 19, 20],\n",
    "     [21, 22, 23, 24, 25]]\n",
    "b = zero_matrix(a)\n",
    "print(b)"
   ]
  },
  {
   "cell_type": "markdown",
   "metadata": {},
   "source": [
    "# String Rotation "
   ]
  },
  {
   "cell_type": "code",
   "execution_count": null,
   "metadata": {},
   "outputs": [],
   "source": []
  }
 ],
 "metadata": {
  "kernelspec": {
   "display_name": "Python 3",
   "language": "python",
   "name": "python3"
  },
  "language_info": {
   "codemirror_mode": {
    "name": "ipython",
    "version": 3
   },
   "file_extension": ".py",
   "mimetype": "text/x-python",
   "name": "python",
   "nbconvert_exporter": "python",
   "pygments_lexer": "ipython3",
   "version": "3.6.5"
  }
 },
 "nbformat": 4,
 "nbformat_minor": 2
}
